{
  "nbformat": 4,
  "nbformat_minor": 0,
  "metadata": {
    "colab": {
      "name": "TF2.0 DL_RecommenderSystem_Rating Recommender",
      "provenance": [],
      "authorship_tag": "ABX9TyOa2/FLRaa1pAPq20057OyU",
      "include_colab_link": true
    },
    "kernelspec": {
      "name": "python3",
      "display_name": "Python 3"
    }
  },
  "cells": [
    {
      "cell_type": "markdown",
      "metadata": {
        "id": "view-in-github",
        "colab_type": "text"
      },
      "source": [
        "<a href=\"https://colab.research.google.com/github/NitinShindeJ/TensorFlow2.0/blob/master/My_learn_TF2.0/TF2_0_DL_RecommenderSystem_Rating_Recommender.ipynb\" target=\"_parent\"><img src=\"https://colab.research.google.com/assets/colab-badge.svg\" alt=\"Open In Colab\"/></a>"
      ]
    },
    {
      "cell_type": "code",
      "metadata": {
        "id": "G-yELAWj7ZTQ",
        "colab_type": "code",
        "outputId": "7736b9cf-c939-4465-a77a-34086b430582",
        "colab": {
          "base_uri": "https://localhost:8080/",
          "height": 123
        }
      },
      "source": [
        "# Install TensorFlow\n",
        "# !pip install -q tensorflow-gpu==2.0.0-rc0\n",
        "\n",
        "try:\n",
        "  %tensorflow_version 2.x  # Colab only.\n",
        "except Exception:\n",
        "  pass\n",
        "\n",
        "import tensorflow as tf\n",
        "print(tf.__version__)"
      ],
      "execution_count": 1,
      "outputs": [
        {
          "output_type": "stream",
          "text": [
            "`%tensorflow_version` only switches the major version: 1.x or 2.x.\n",
            "You set: `2.x  # Colab only.`. This will be interpreted as: `2.x`.\n",
            "\n",
            "\n",
            "TensorFlow 2.x selected.\n",
            "2.2.0-rc3\n"
          ],
          "name": "stdout"
        }
      ]
    },
    {
      "cell_type": "code",
      "metadata": {
        "id": "KmO5csZi7cdr",
        "colab_type": "code",
        "colab": {}
      },
      "source": [
        "# More imports\n",
        "from tensorflow.keras.layers import Input, Dense, Embedding, Flatten, Concatenate\n",
        "from tensorflow.keras.models import Model\n",
        "from tensorflow.keras.optimizers import SGD, Adam\n",
        "\n",
        "from sklearn.utils import shuffle\n",
        "\n",
        "import numpy as np\n",
        "import pandas as pd\n",
        "import matplotlib.pyplot as plt"
      ],
      "execution_count": 0,
      "outputs": []
    },
    {
      "cell_type": "code",
      "metadata": {
        "id": "iXueA5t37Vgp",
        "colab_type": "code",
        "outputId": "74bfd145-914c-44bf-9986-04826e2d1dda",
        "colab": {
          "base_uri": "https://localhost:8080/",
          "height": 212
        }
      },
      "source": [
        "# data is from: https://grouplens.org/datasets/movielens/\n",
        "# in case the link changes in the future\n",
        "\n",
        "!wget -nc http://files.grouplens.org/datasets/movielens/ml-20m.zip"
      ],
      "execution_count": 3,
      "outputs": [
        {
          "output_type": "stream",
          "text": [
            "--2020-04-29 11:39:22--  http://files.grouplens.org/datasets/movielens/ml-20m.zip\n",
            "Resolving files.grouplens.org (files.grouplens.org)... 128.101.65.152\n",
            "Connecting to files.grouplens.org (files.grouplens.org)|128.101.65.152|:80... connected.\n",
            "HTTP request sent, awaiting response... 200 OK\n",
            "Length: 198702078 (189M) [application/zip]\n",
            "Saving to: ‘ml-20m.zip’\n",
            "\n",
            "ml-20m.zip          100%[===================>] 189.50M  16.7MB/s    in 13s     \n",
            "\n",
            "2020-04-29 11:39:36 (15.0 MB/s) - ‘ml-20m.zip’ saved [198702078/198702078]\n",
            "\n"
          ],
          "name": "stdout"
        }
      ]
    },
    {
      "cell_type": "code",
      "metadata": {
        "id": "X0VRDPux7hhb",
        "colab_type": "code",
        "outputId": "e6333051-e8f5-4076-c461-03177b9847a3",
        "colab": {
          "base_uri": "https://localhost:8080/",
          "height": 176
        }
      },
      "source": [
        "!unzip -n ml-20m.zip"
      ],
      "execution_count": 4,
      "outputs": [
        {
          "output_type": "stream",
          "text": [
            "Archive:  ml-20m.zip\n",
            "   creating: ml-20m/\n",
            "  inflating: ml-20m/genome-scores.csv  \n",
            "  inflating: ml-20m/genome-tags.csv  \n",
            "  inflating: ml-20m/links.csv        \n",
            "  inflating: ml-20m/movies.csv       \n",
            "  inflating: ml-20m/ratings.csv      \n",
            "  inflating: ml-20m/README.txt       \n",
            "  inflating: ml-20m/tags.csv         \n"
          ],
          "name": "stdout"
        }
      ]
    },
    {
      "cell_type": "code",
      "metadata": {
        "id": "j3si9Qnw_Rnh",
        "colab_type": "code",
        "outputId": "b383c476-9a6a-4082-d01e-d58f6509e255",
        "colab": {
          "base_uri": "https://localhost:8080/",
          "height": 34
        }
      },
      "source": [
        "!ls"
      ],
      "execution_count": 5,
      "outputs": [
        {
          "output_type": "stream",
          "text": [
            "ml-20m\tml-20m.zip  sample_data\n"
          ],
          "name": "stdout"
        }
      ]
    },
    {
      "cell_type": "code",
      "metadata": {
        "id": "A6h0pEt_7lZC",
        "colab_type": "code",
        "outputId": "a6d6cf84-5eb4-4eab-d0dc-a3c4c64d95d3",
        "colab": {
          "base_uri": "https://localhost:8080/",
          "height": 197
        }
      },
      "source": [
        "df = pd.read_csv('ml-20m/ratings.csv')\n",
        "df.head()"
      ],
      "execution_count": 6,
      "outputs": [
        {
          "output_type": "execute_result",
          "data": {
            "text/html": [
              "<div>\n",
              "<style scoped>\n",
              "    .dataframe tbody tr th:only-of-type {\n",
              "        vertical-align: middle;\n",
              "    }\n",
              "\n",
              "    .dataframe tbody tr th {\n",
              "        vertical-align: top;\n",
              "    }\n",
              "\n",
              "    .dataframe thead th {\n",
              "        text-align: right;\n",
              "    }\n",
              "</style>\n",
              "<table border=\"1\" class=\"dataframe\">\n",
              "  <thead>\n",
              "    <tr style=\"text-align: right;\">\n",
              "      <th></th>\n",
              "      <th>userId</th>\n",
              "      <th>movieId</th>\n",
              "      <th>rating</th>\n",
              "      <th>timestamp</th>\n",
              "    </tr>\n",
              "  </thead>\n",
              "  <tbody>\n",
              "    <tr>\n",
              "      <th>0</th>\n",
              "      <td>1</td>\n",
              "      <td>2</td>\n",
              "      <td>3.5</td>\n",
              "      <td>1112486027</td>\n",
              "    </tr>\n",
              "    <tr>\n",
              "      <th>1</th>\n",
              "      <td>1</td>\n",
              "      <td>29</td>\n",
              "      <td>3.5</td>\n",
              "      <td>1112484676</td>\n",
              "    </tr>\n",
              "    <tr>\n",
              "      <th>2</th>\n",
              "      <td>1</td>\n",
              "      <td>32</td>\n",
              "      <td>3.5</td>\n",
              "      <td>1112484819</td>\n",
              "    </tr>\n",
              "    <tr>\n",
              "      <th>3</th>\n",
              "      <td>1</td>\n",
              "      <td>47</td>\n",
              "      <td>3.5</td>\n",
              "      <td>1112484727</td>\n",
              "    </tr>\n",
              "    <tr>\n",
              "      <th>4</th>\n",
              "      <td>1</td>\n",
              "      <td>50</td>\n",
              "      <td>3.5</td>\n",
              "      <td>1112484580</td>\n",
              "    </tr>\n",
              "  </tbody>\n",
              "</table>\n",
              "</div>"
            ],
            "text/plain": [
              "   userId  movieId  rating   timestamp\n",
              "0       1        2     3.5  1112486027\n",
              "1       1       29     3.5  1112484676\n",
              "2       1       32     3.5  1112484819\n",
              "3       1       47     3.5  1112484727\n",
              "4       1       50     3.5  1112484580"
            ]
          },
          "metadata": {
            "tags": []
          },
          "execution_count": 6
        }
      ]
    },
    {
      "cell_type": "code",
      "metadata": {
        "id": "XbcWAxwa-ZBO",
        "colab_type": "code",
        "colab": {}
      },
      "source": [
        "# We can't trust the userId and movieId to be numbered 0...N-1\n",
        "# Let's just set our own ids\n",
        "\n",
        "# current_user_id = 0\n",
        "# custom_user_map = {} # old user id > new user id\n",
        "# def map_user_id(row):\n",
        "#   global current_user_id, custom_user_map\n",
        "#   old_user_id = row['userId']\n",
        "#   if old_user_id not in custom_user_map:\n",
        "#     custom_user_map[old_user_id] = current_user_id\n",
        "#     current_user_id += 1\n",
        "#   return custom_user_map[old_user_id]\n",
        "\n",
        "# df['new_user_id'] = df.apply(map_user_id, axis=1)\n",
        "\n",
        "df.userId = pd.Categorical(df.userId)\n",
        "df['new_user_id'] = df.userId.cat.codes"
      ],
      "execution_count": 0,
      "outputs": []
    },
    {
      "cell_type": "code",
      "metadata": {
        "id": "GpEkl3Q6zNE_",
        "colab_type": "code",
        "colab": {
          "base_uri": "https://localhost:8080/",
          "height": 197
        },
        "outputId": "e871ddfa-603a-44fe-b0a6-9a19ebb3b684"
      },
      "source": [
        "df.head()"
      ],
      "execution_count": 8,
      "outputs": [
        {
          "output_type": "execute_result",
          "data": {
            "text/html": [
              "<div>\n",
              "<style scoped>\n",
              "    .dataframe tbody tr th:only-of-type {\n",
              "        vertical-align: middle;\n",
              "    }\n",
              "\n",
              "    .dataframe tbody tr th {\n",
              "        vertical-align: top;\n",
              "    }\n",
              "\n",
              "    .dataframe thead th {\n",
              "        text-align: right;\n",
              "    }\n",
              "</style>\n",
              "<table border=\"1\" class=\"dataframe\">\n",
              "  <thead>\n",
              "    <tr style=\"text-align: right;\">\n",
              "      <th></th>\n",
              "      <th>userId</th>\n",
              "      <th>movieId</th>\n",
              "      <th>rating</th>\n",
              "      <th>timestamp</th>\n",
              "      <th>new_user_id</th>\n",
              "    </tr>\n",
              "  </thead>\n",
              "  <tbody>\n",
              "    <tr>\n",
              "      <th>0</th>\n",
              "      <td>1</td>\n",
              "      <td>2</td>\n",
              "      <td>3.5</td>\n",
              "      <td>1112486027</td>\n",
              "      <td>0</td>\n",
              "    </tr>\n",
              "    <tr>\n",
              "      <th>1</th>\n",
              "      <td>1</td>\n",
              "      <td>29</td>\n",
              "      <td>3.5</td>\n",
              "      <td>1112484676</td>\n",
              "      <td>0</td>\n",
              "    </tr>\n",
              "    <tr>\n",
              "      <th>2</th>\n",
              "      <td>1</td>\n",
              "      <td>32</td>\n",
              "      <td>3.5</td>\n",
              "      <td>1112484819</td>\n",
              "      <td>0</td>\n",
              "    </tr>\n",
              "    <tr>\n",
              "      <th>3</th>\n",
              "      <td>1</td>\n",
              "      <td>47</td>\n",
              "      <td>3.5</td>\n",
              "      <td>1112484727</td>\n",
              "      <td>0</td>\n",
              "    </tr>\n",
              "    <tr>\n",
              "      <th>4</th>\n",
              "      <td>1</td>\n",
              "      <td>50</td>\n",
              "      <td>3.5</td>\n",
              "      <td>1112484580</td>\n",
              "      <td>0</td>\n",
              "    </tr>\n",
              "  </tbody>\n",
              "</table>\n",
              "</div>"
            ],
            "text/plain": [
              "  userId  movieId  rating   timestamp  new_user_id\n",
              "0      1        2     3.5  1112486027            0\n",
              "1      1       29     3.5  1112484676            0\n",
              "2      1       32     3.5  1112484819            0\n",
              "3      1       47     3.5  1112484727            0\n",
              "4      1       50     3.5  1112484580            0"
            ]
          },
          "metadata": {
            "tags": []
          },
          "execution_count": 8
        }
      ]
    },
    {
      "cell_type": "code",
      "metadata": {
        "id": "xqeRbNRN_g7h",
        "colab_type": "code",
        "colab": {}
      },
      "source": [
        "# Now do the same thing for movie ids\n",
        "# current_movie_id = 0\n",
        "# custom_movie_map = {} # old movie id > new movie id\n",
        "# def map_movie_id(row):\n",
        "#   global current_movie_id, custom_movie_map\n",
        "#   old_movie_id = row['movieId']\n",
        "#   if old_movie_id not in custom_movie_map:\n",
        "#     custom_movie_map[old_movie_id] = current_movie_id\n",
        "#     current_movie_id += 1\n",
        "#   return custom_movie_map[old_movie_id]\n",
        "\n",
        "# df['new_movie_id'] = df.apply(map_movie_id, axis=1)\n",
        "\n",
        "df.movieId = pd.Categorical(df.movieId)\n",
        "df['new_movie_id'] = df.movieId.cat.codes"
      ],
      "execution_count": 0,
      "outputs": []
    },
    {
      "cell_type": "code",
      "metadata": {
        "id": "23y73iiCzV05",
        "colab_type": "code",
        "colab": {
          "base_uri": "https://localhost:8080/",
          "height": 197
        },
        "outputId": "9921bcf7-2b6c-47f0-9c04-042f4cda9984"
      },
      "source": [
        "df.head()"
      ],
      "execution_count": 10,
      "outputs": [
        {
          "output_type": "execute_result",
          "data": {
            "text/html": [
              "<div>\n",
              "<style scoped>\n",
              "    .dataframe tbody tr th:only-of-type {\n",
              "        vertical-align: middle;\n",
              "    }\n",
              "\n",
              "    .dataframe tbody tr th {\n",
              "        vertical-align: top;\n",
              "    }\n",
              "\n",
              "    .dataframe thead th {\n",
              "        text-align: right;\n",
              "    }\n",
              "</style>\n",
              "<table border=\"1\" class=\"dataframe\">\n",
              "  <thead>\n",
              "    <tr style=\"text-align: right;\">\n",
              "      <th></th>\n",
              "      <th>userId</th>\n",
              "      <th>movieId</th>\n",
              "      <th>rating</th>\n",
              "      <th>timestamp</th>\n",
              "      <th>new_user_id</th>\n",
              "      <th>new_movie_id</th>\n",
              "    </tr>\n",
              "  </thead>\n",
              "  <tbody>\n",
              "    <tr>\n",
              "      <th>0</th>\n",
              "      <td>1</td>\n",
              "      <td>2</td>\n",
              "      <td>3.5</td>\n",
              "      <td>1112486027</td>\n",
              "      <td>0</td>\n",
              "      <td>1</td>\n",
              "    </tr>\n",
              "    <tr>\n",
              "      <th>1</th>\n",
              "      <td>1</td>\n",
              "      <td>29</td>\n",
              "      <td>3.5</td>\n",
              "      <td>1112484676</td>\n",
              "      <td>0</td>\n",
              "      <td>28</td>\n",
              "    </tr>\n",
              "    <tr>\n",
              "      <th>2</th>\n",
              "      <td>1</td>\n",
              "      <td>32</td>\n",
              "      <td>3.5</td>\n",
              "      <td>1112484819</td>\n",
              "      <td>0</td>\n",
              "      <td>31</td>\n",
              "    </tr>\n",
              "    <tr>\n",
              "      <th>3</th>\n",
              "      <td>1</td>\n",
              "      <td>47</td>\n",
              "      <td>3.5</td>\n",
              "      <td>1112484727</td>\n",
              "      <td>0</td>\n",
              "      <td>46</td>\n",
              "    </tr>\n",
              "    <tr>\n",
              "      <th>4</th>\n",
              "      <td>1</td>\n",
              "      <td>50</td>\n",
              "      <td>3.5</td>\n",
              "      <td>1112484580</td>\n",
              "      <td>0</td>\n",
              "      <td>49</td>\n",
              "    </tr>\n",
              "  </tbody>\n",
              "</table>\n",
              "</div>"
            ],
            "text/plain": [
              "  userId movieId  rating   timestamp  new_user_id  new_movie_id\n",
              "0      1       2     3.5  1112486027            0             1\n",
              "1      1      29     3.5  1112484676            0            28\n",
              "2      1      32     3.5  1112484819            0            31\n",
              "3      1      47     3.5  1112484727            0            46\n",
              "4      1      50     3.5  1112484580            0            49"
            ]
          },
          "metadata": {
            "tags": []
          },
          "execution_count": 10
        }
      ]
    },
    {
      "cell_type": "code",
      "metadata": {
        "id": "fGaLyZpf7zD3",
        "colab_type": "code",
        "colab": {}
      },
      "source": [
        "# Get user IDs, movie IDs, and ratings as separate arrays\n",
        "user_ids = df['new_user_id'].values\n",
        "movie_ids = df['new_movie_id'].values\n",
        "ratings = df['rating'].values"
      ],
      "execution_count": 0,
      "outputs": []
    },
    {
      "cell_type": "code",
      "metadata": {
        "id": "BGX7sQp48hG5",
        "colab_type": "code",
        "colab": {}
      },
      "source": [
        "# Get number of users and number of movies\n",
        "N = len(set(user_ids))\n",
        "M = len(set(movie_ids))\n",
        "\n",
        "# Set embedding dimension\n",
        "K = 10"
      ],
      "execution_count": 0,
      "outputs": []
    },
    {
      "cell_type": "code",
      "metadata": {
        "id": "BnF0FH4u7_qg",
        "colab_type": "code",
        "colab": {}
      },
      "source": [
        "# Make a neural network\n",
        "\n",
        "# User input\n",
        "u = Input(shape=(1,))\n",
        "\n",
        "# Movie input\n",
        "m = Input(shape=(1,))\n",
        "\n",
        "# User embedding\n",
        "u_emb = Embedding(N, K)(u) # output is (num_samples, 1, K)\n",
        "\n",
        "# Movie embedding\n",
        "m_emb = Embedding(M, K)(m) # output is (num_samples, 1, K)\n",
        "\n",
        "# Flatten both embeddings\n",
        "u_emb = Flatten()(u_emb) # now it's (num_samples, K)\n",
        "m_emb = Flatten()(m_emb) # now it's (num_samples, K)\n",
        "\n",
        "# Concatenate user-movie embeddings into a feature vector\n",
        "x = Concatenate()([u_emb, m_emb]) # now it's (num_samples, 2K)\n",
        "\n",
        "# Now that we have a feature vector, it's just a regular ANN\n",
        "x = Dense(1024, activation='relu')(x)\n",
        "# x = Dense(400, activation='relu')(x)\n",
        "# x = Dense(400, activation='relu')(x)\n",
        "x = Dense(1)(x)"
      ],
      "execution_count": 0,
      "outputs": []
    },
    {
      "cell_type": "code",
      "metadata": {
        "id": "U8WZjAWF9fx6",
        "colab_type": "code",
        "colab": {}
      },
      "source": [
        "# Build the model and compile\n",
        "model = Model(inputs=[u, m], outputs=x)\n",
        "model.compile(\n",
        "  loss='mse',\n",
        "  optimizer=SGD(lr=0.08, momentum=0.9),\n",
        ")"
      ],
      "execution_count": 0,
      "outputs": []
    },
    {
      "cell_type": "code",
      "metadata": {
        "id": "eYJtZTjz9soz",
        "colab_type": "code",
        "colab": {}
      },
      "source": [
        "# split the data\n",
        "user_ids, movie_ids, ratings = shuffle(user_ids, movie_ids, ratings)\n",
        "Ntrain = int(0.8 * len(ratings))\n",
        "train_user = user_ids[:Ntrain]\n",
        "train_movie = movie_ids[:Ntrain]\n",
        "train_ratings = ratings[:Ntrain]\n",
        "\n",
        "test_user = user_ids[Ntrain:]\n",
        "test_movie = movie_ids[Ntrain:]\n",
        "test_ratings = ratings[Ntrain:]\n",
        "\n",
        "# center the ratings\n",
        "avg_rating = train_ratings.mean()\n",
        "train_ratings = train_ratings - avg_rating\n",
        "test_ratings = test_ratings - avg_rating"
      ],
      "execution_count": 0,
      "outputs": []
    },
    {
      "cell_type": "code",
      "metadata": {
        "id": "Yms6C5dUvRwN",
        "colab_type": "code",
        "colab": {
          "base_uri": "https://localhost:8080/",
          "height": 905
        },
        "outputId": "9cde609e-d06d-439c-d742-709f3a3742d9"
      },
      "source": [
        "r = model.fit(\n",
        "  x=[train_user, train_movie],\n",
        "  y=train_ratings,\n",
        "  epochs=25,\n",
        "  batch_size=1024,\n",
        "  verbose=2, # goes a little faster when you don't print the progress bar\n",
        "  validation_data=([test_user, test_movie], test_ratings),\n",
        ")"
      ],
      "execution_count": 17,
      "outputs": [
        {
          "output_type": "stream",
          "text": [
            "Epoch 1/25\n",
            "15626/15626 - 175s - loss: 0.7359 - val_loss: 0.7091\n",
            "Epoch 2/25\n",
            "15626/15626 - 179s - loss: 0.6936 - val_loss: 0.6939\n",
            "Epoch 3/25\n",
            "15626/15626 - 179s - loss: 0.6735 - val_loss: 0.6808\n",
            "Epoch 4/25\n",
            "15626/15626 - 180s - loss: 0.6600 - val_loss: 0.6730\n",
            "Epoch 5/25\n",
            "15626/15626 - 183s - loss: 0.6501 - val_loss: 0.6676\n",
            "Epoch 6/25\n",
            "15626/15626 - 187s - loss: 0.6365 - val_loss: 0.6540\n",
            "Epoch 7/25\n",
            "15626/15626 - 190s - loss: 0.6185 - val_loss: 0.6450\n",
            "Epoch 8/25\n",
            "15626/15626 - 176s - loss: 0.6051 - val_loss: 0.6473\n",
            "Epoch 9/25\n",
            "15626/15626 - 176s - loss: 0.5951 - val_loss: 0.6393\n",
            "Epoch 10/25\n",
            "15626/15626 - 177s - loss: 0.5860 - val_loss: 0.6339\n",
            "Epoch 11/25\n",
            "15626/15626 - 182s - loss: 0.5777 - val_loss: 0.6300\n",
            "Epoch 12/25\n",
            "15626/15626 - 181s - loss: 0.5704 - val_loss: 0.6309\n",
            "Epoch 13/25\n",
            "15626/15626 - 182s - loss: 0.5642 - val_loss: 0.6290\n",
            "Epoch 14/25\n",
            "15626/15626 - 181s - loss: 0.5592 - val_loss: 0.6287\n",
            "Epoch 15/25\n",
            "15626/15626 - 185s - loss: 0.5548 - val_loss: 0.6271\n",
            "Epoch 16/25\n",
            "15626/15626 - 184s - loss: 0.5510 - val_loss: 0.6280\n",
            "Epoch 17/25\n",
            "15626/15626 - 180s - loss: 0.5476 - val_loss: 0.6279\n",
            "Epoch 18/25\n",
            "15626/15626 - 176s - loss: 0.5445 - val_loss: 0.6269\n",
            "Epoch 19/25\n",
            "15626/15626 - 174s - loss: 0.5417 - val_loss: 0.6272\n",
            "Epoch 20/25\n",
            "15626/15626 - 174s - loss: 0.5394 - val_loss: 0.6264\n",
            "Epoch 21/25\n",
            "15626/15626 - 175s - loss: 0.5372 - val_loss: 0.6266\n",
            "Epoch 22/25\n",
            "15626/15626 - 171s - loss: 0.5353 - val_loss: 0.6246\n",
            "Epoch 23/25\n",
            "15626/15626 - 181s - loss: 0.5335 - val_loss: 0.6275\n",
            "Epoch 24/25\n",
            "15626/15626 - 181s - loss: 0.5319 - val_loss: 0.6275\n",
            "Epoch 25/25\n",
            "15626/15626 - 179s - loss: 0.5304 - val_loss: 0.6283\n"
          ],
          "name": "stdout"
        }
      ]
    },
    {
      "cell_type": "code",
      "metadata": {
        "id": "pN4ZscYOveYu",
        "colab_type": "code",
        "colab": {
          "base_uri": "https://localhost:8080/",
          "height": 264
        },
        "outputId": "63f1099b-2b8e-4df0-e76d-5ded9df23d90"
      },
      "source": [
        "# plot losses\n",
        "plt.plot(r.history['loss'], label=\"train loss\")\n",
        "plt.plot(r.history['val_loss'], label=\"val loss\")\n",
        "plt.legend()\n",
        "plt.show()"
      ],
      "execution_count": 18,
      "outputs": [
        {
          "output_type": "display_data",
          "data": {
            "image/png": "[encoded data removed]",
            "text/plain": [
              "<Figure size 432x288 with 1 Axes>"
            ]
          },
          "metadata": {
            "tags": [],
            "needs_background": "light"
          }
        }
      ]
    },
    {
      "cell_type": "code",
      "metadata": {
        "id": "wqGDD2BYvfEs",
        "colab_type": "code",
        "colab": {
          "base_uri": "https://localhost:8080/",
          "height": 34
        },
        "outputId": "8a02e8df-23be-440a-e5af-e91ff4a2ccab"
      },
      "source": [
        "# is this on par with other approaches?\n",
        "# https://datascience.stackexchange.com/questions/29740/benchmark-result-for-movielens-dataset\n",
        "np.sqrt(0.6283)"
      ],
      "execution_count": 19,
      "outputs": [
        {
          "output_type": "execute_result",
          "data": {
            "text/plain": [
              "0.7926537705707328"
            ]
          },
          "metadata": {
            "tags": []
          },
          "execution_count": 19
        }
      ]
    }
  ]
}