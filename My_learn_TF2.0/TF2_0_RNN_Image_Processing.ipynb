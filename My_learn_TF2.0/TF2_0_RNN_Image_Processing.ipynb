{
  "nbformat": 4,
  "nbformat_minor": 0,
  "metadata": {
    "colab": {
      "name": "TF2.0 RNN_Image Processing",
      "provenance": [],
      "authorship_tag": "ABX9TyNYMuikVTPg5Xe7ibgujS+P",
      "include_colab_link": true
    },
    "kernelspec": {
      "name": "python3",
      "display_name": "Python 3"
    }
  },
  "cells": [
    {
      "cell_type": "markdown",
      "metadata": {
        "id": "view-in-github",
        "colab_type": "text"
      },
      "source": [
        "<a href=\"https://colab.research.google.com/github/NitinShindeJ/TensorFlow2.0/blob/master/My_learn_TF2.0/TF2_0_RNN_Image_Processing.ipynb\" target=\"_parent\"><img src=\"https://colab.research.google.com/assets/colab-badge.svg\" alt=\"Open In Colab\"/></a>"
      ]
    },
    {
      "cell_type": "code",
      "metadata": {
        "id": "nbK5a3IWUkkX",
        "colab_type": "code",
        "colab": {
          "base_uri": "https://localhost:8080/",
          "height": 70
        },
        "outputId": "34c0cf12-5063-484d-8ad0-50360857d43b"
      },
      "source": [
        "#Install Tensor flow\n",
        "!pip install -q tensorflow==2.0.beta1"
      ],
      "execution_count": 1,
      "outputs": [
        {
          "output_type": "stream",
          "text": [
            "\u001b[K     |████████████████████████████████| 87.9MB 63kB/s \n",
            "\u001b[K     |████████████████████████████████| 501kB 39.1MB/s \n",
            "\u001b[K     |████████████████████████████████| 3.1MB 29.4MB/s \n",
            "\u001b[?25h"
          ],
          "name": "stdout"
        }
      ]
    },
    {
      "cell_type": "code",
      "metadata": {
        "id": "raHodwb86yRa",
        "colab_type": "code",
        "colab": {}
      },
      "source": [
        "import numpy as np\n",
        "import matplotlib.pyplot as plt"
      ],
      "execution_count": 0,
      "outputs": []
    },
    {
      "cell_type": "code",
      "metadata": {
        "id": "uns2PU8V7AhE",
        "colab_type": "code",
        "colab": {}
      },
      "source": [
        "from tensorflow.keras.layers import Dense, Input, LSTM, GlobalMaxPool2D, Flatten, GRU, SimpleRNN, GlobalMaxPool1D\n",
        "from tensorflow.keras.models import Model\n",
        "from tensorflow.keras.optimizers import Optimizer, SGD, Adam"
      ],
      "execution_count": 0,
      "outputs": []
    },
    {
      "cell_type": "code",
      "metadata": {
        "id": "7TggQt6h74o7",
        "colab_type": "code",
        "colab": {}
      },
      "source": [
        "import tensorflow as tf"
      ],
      "execution_count": 0,
      "outputs": []
    },
    {
      "cell_type": "code",
      "metadata": {
        "id": "C6oBUNF279hE",
        "colab_type": "code",
        "colab": {
          "base_uri": "https://localhost:8080/",
          "height": 34
        },
        "outputId": "be30187b-ee84-4dd3-ad8c-e5265f18198c"
      },
      "source": [
        "#Data Loading\n",
        "df_mnist = tf.keras.datasets.mnist\n",
        "\n",
        "(X_train, Y_train), (X_test, Y_test) = df_mnist.load_data()\n",
        "X_train, X_test = X_train/255.0, X_test/255.0\n",
        "print(\"X_Train Shape: \", X_train.shape)"
      ],
      "execution_count": 15,
      "outputs": [
        {
          "output_type": "stream",
          "text": [
            "X_Train Shape:  (60000, 28, 28)\n"
          ],
          "name": "stdout"
        }
      ]
    },
    {
      "cell_type": "code",
      "metadata": {
        "id": "esUfdNvE7mvt",
        "colab_type": "code",
        "colab": {
          "base_uri": "https://localhost:8080/",
          "height": 107
        },
        "outputId": "ad7ee6f2-4a54-4291-f207-43b8b3ce381a"
      },
      "source": [
        "#Build The Model\n",
        "i = Input(shape=X_train[0].shape) \n",
        "x = LSTM(128, return_sequences=True)(i)\n",
        "x = GlobalMaxPool1D()(x)\n",
        "x = Dense(10, activation='softmax')(x)\n",
        "\n",
        "model = Model(i,x)"
      ],
      "execution_count": 31,
      "outputs": [
        {
          "output_type": "stream",
          "text": [
            "WARNING:tensorflow:Entity <function standard_lstm at 0x7f9200cda268> could not be transformed and will be executed as-is. Please report this to the AutoGraph team. When filing the bug, set the verbosity to 10 (on Linux, `export AUTOGRAPH_VERBOSITY=10`) and attach the full output. Cause: converting <function standard_lstm at 0x7f9200cda268>: AttributeError: module 'gast' has no attribute 'Num'\n",
            "WARNING: Entity <function standard_lstm at 0x7f9200cda268> could not be transformed and will be executed as-is. Please report this to the AutoGraph team. When filing the bug, set the verbosity to 10 (on Linux, `export AUTOGRAPH_VERBOSITY=10`) and attach the full output. Cause: converting <function standard_lstm at 0x7f9200cda268>: AttributeError: module 'gast' has no attribute 'Num'\n",
            "WARNING:tensorflow:Entity <function cudnn_lstm at 0x7f9200cda2f0> could not be transformed and will be executed as-is. Please report this to the AutoGraph team. When filing the bug, set the verbosity to 10 (on Linux, `export AUTOGRAPH_VERBOSITY=10`) and attach the full output. Cause: converting <function cudnn_lstm at 0x7f9200cda2f0>: AttributeError: module 'gast' has no attribute 'Num'\n",
            "WARNING: Entity <function cudnn_lstm at 0x7f9200cda2f0> could not be transformed and will be executed as-is. Please report this to the AutoGraph team. When filing the bug, set the verbosity to 10 (on Linux, `export AUTOGRAPH_VERBOSITY=10`) and attach the full output. Cause: converting <function cudnn_lstm at 0x7f9200cda2f0>: AttributeError: module 'gast' has no attribute 'Num'\n"
          ],
          "name": "stdout"
        }
      ]
    },
    {
      "cell_type": "code",
      "metadata": {
        "id": "cZTmx83O8KMi",
        "colab_type": "code",
        "colab": {
          "base_uri": "https://localhost:8080/",
          "height": 390
        },
        "outputId": "f4e44c95-f25d-45b4-907d-78d3b405b270"
      },
      "source": [
        "#Compile and Train\n",
        "model.compile(optimizer='adam', loss='sparse_categorical_crossentropy',metrics=['accuracy'])\n",
        "\n",
        "r = model.fit(X_train, Y_train, validation_data=(X_test, Y_test), epochs=10)"
      ],
      "execution_count": 32,
      "outputs": [
        {
          "output_type": "stream",
          "text": [
            "Train on 60000 samples, validate on 10000 samples\n",
            "Epoch 1/10\n",
            "60000/60000 [==============================] - 83s 1ms/sample - loss: 0.3908 - accuracy: 0.8819 - val_loss: 0.1597 - val_accuracy: 0.9522\n",
            "Epoch 2/10\n",
            "60000/60000 [==============================] - 82s 1ms/sample - loss: 0.1122 - accuracy: 0.9667 - val_loss: 0.0834 - val_accuracy: 0.9744\n",
            "Epoch 3/10\n",
            "60000/60000 [==============================] - 82s 1ms/sample - loss: 0.0752 - accuracy: 0.9777 - val_loss: 0.0604 - val_accuracy: 0.9820\n",
            "Epoch 4/10\n",
            "60000/60000 [==============================] - 85s 1ms/sample - loss: 0.0542 - accuracy: 0.9839 - val_loss: 0.0549 - val_accuracy: 0.9849\n",
            "Epoch 5/10\n",
            "60000/60000 [==============================] - 82s 1ms/sample - loss: 0.0443 - accuracy: 0.9863 - val_loss: 0.0576 - val_accuracy: 0.9824\n",
            "Epoch 6/10\n",
            "60000/60000 [==============================] - 82s 1ms/sample - loss: 0.0374 - accuracy: 0.9886 - val_loss: 0.0412 - val_accuracy: 0.9876\n",
            "Epoch 7/10\n",
            "60000/60000 [==============================] - 83s 1ms/sample - loss: 0.0305 - accuracy: 0.9904 - val_loss: 0.0433 - val_accuracy: 0.9868\n",
            "Epoch 8/10\n",
            "60000/60000 [==============================] - 83s 1ms/sample - loss: 0.0262 - accuracy: 0.9920 - val_loss: 0.0509 - val_accuracy: 0.9843\n",
            "Epoch 9/10\n",
            "60000/60000 [==============================] - 83s 1ms/sample - loss: 0.0242 - accuracy: 0.9926 - val_loss: 0.0368 - val_accuracy: 0.9888\n",
            "Epoch 10/10\n",
            "60000/60000 [==============================] - 83s 1ms/sample - loss: 0.0225 - accuracy: 0.9929 - val_loss: 0.0368 - val_accuracy: 0.9901\n"
          ],
          "name": "stdout"
        }
      ]
    },
    {
      "cell_type": "code",
      "metadata": {
        "id": "eTDRVS6d-3-P",
        "colab_type": "code",
        "colab": {
          "base_uri": "https://localhost:8080/",
          "height": 282
        },
        "outputId": "f6411b2a-1970-463d-b62a-eda56b66c24d"
      },
      "source": [
        "# Plot loss per iteration\n",
        "plt.plot(r.history['loss'], label='loss')\n",
        "plt.plot(r.history['val_loss'], label='val_loss')\n",
        "plt.legend()"
      ],
      "execution_count": 33,
      "outputs": [
        {
          "output_type": "execute_result",
          "data": {
            "text/plain": [
              "<matplotlib.legend.Legend at 0x7f91e8a72c50>"
            ]
          },
          "metadata": {
            "tags": []
          },
          "execution_count": 33
        },
        {
          "output_type": "display_data",
          "data": {
            "image/png": "[encoded data removed]",
            "text/plain": [
              "<Figure size 432x288 with 1 Axes>"
            ]
          },
          "metadata": {
            "tags": [],
            "needs_background": "light"
          }
        }
      ]
    },
    {
      "cell_type": "code",
      "metadata": {
        "id": "ovdrUp_o-9cD",
        "colab_type": "code",
        "colab": {
          "base_uri": "https://localhost:8080/",
          "height": 282
        },
        "outputId": "0b87c866-dafc-4bb2-9e70-aed8c4c2318e"
      },
      "source": [
        "# Plot accuracy per iteration\n",
        "plt.plot(r.history['accuracy'], label='acc')\n",
        "plt.plot(r.history['val_accuracy'], label='val_acc')\n",
        "plt.legend()"
      ],
      "execution_count": 34,
      "outputs": [
        {
          "output_type": "execute_result",
          "data": {
            "text/plain": [
              "<matplotlib.legend.Legend at 0x7f91e9654128>"
            ]
          },
          "metadata": {
            "tags": []
          },
          "execution_count": 34
        },
        {
          "output_type": "display_data",
          "data": {
            "image/png": "[encoded data removed]",
            "text/plain": [
              "<Figure size 432x288 with 1 Axes>"
            ]
          },
          "metadata": {
            "tags": [],
            "needs_background": "light"
          }
        }
      ]
    },
    {
      "cell_type": "code",
      "metadata": {
        "id": "JSpO-yVB_PD1",
        "colab_type": "code",
        "colab": {}
      },
      "source": [
        "from sklearn.metrics import confusion_matrix\n",
        "import itertools\n",
        "\n",
        "#Plot Confusion Matrix\n",
        "def plot_conf_matrix(cm, classes,\n",
        "                     normalize=False, \n",
        "                     title = 'Confusion Matrix',\n",
        "                     cmap=plt.cm.Blues):\n",
        "  \"\"\"\n",
        "  This function prints and plots the confusion matrix.\n",
        "  Normalization can be applied by setting `normalize=True`.\n",
        "  \"\"\"\n",
        "  if normalize:\n",
        "      cm = cm.astype('float') / cm.sum(axis=1)[:, np.newaxis]\n",
        "      print(\"Normalized confusion matrix\")\n",
        "  else:\n",
        "      print('Confusion matrix, without normalization')\n",
        "\n",
        "  print(cm)\n",
        "\n",
        "  plt.imshow(cm, interpolation='nearest', cmap=cmap)\n",
        "  plt.title(title)\n",
        "  plt.colorbar()\n",
        "  tick_marks = np.arange(len(classes))\n",
        "  plt.xticks(tick_marks, classes, rotation=45)\n",
        "  plt.yticks(tick_marks, classes)\n",
        "\n",
        "  fmt = '.2f' if normalize else 'd'\n",
        "  thresh = cm.max() / 2.\n",
        "  for i, j in itertools.product(range(cm.shape[0]), range(cm.shape[1])):\n",
        "      plt.text(j, i, format(cm[i, j], fmt),\n",
        "               horizontalalignment=\"center\",\n",
        "               color=\"white\" if cm[i, j] > thresh else \"black\")\n",
        "\n",
        "  plt.tight_layout()\n",
        "  plt.ylabel('True label')\n",
        "  plt.xlabel('Predicted label')\n",
        "  plt.show()"
      ],
      "execution_count": 0,
      "outputs": []
    },
    {
      "cell_type": "code",
      "metadata": {
        "id": "OhE4rYT2DGN2",
        "colab_type": "code",
        "colab": {
          "base_uri": "https://localhost:8080/",
          "height": 506
        },
        "outputId": "4b40ee52-b12b-43d7-f904-7411858fc6b4"
      },
      "source": [
        "p_test = model.predict(X_test).argmax(axis=1)\n",
        "cm = confusion_matrix(Y_test, p_test)\n",
        "plot_conf_matrix(cm, list(range(10)))"
      ],
      "execution_count": 35,
      "outputs": [
        {
          "output_type": "stream",
          "text": [
            "Confusion matrix, without normalization\n",
            "[[ 975    0    1    0    0    0    2    1    1    0]\n",
            " [   0 1131    1    1    0    0    1    1    0    0]\n",
            " [   1    2 1022    3    1    0    0    3    0    0]\n",
            " [   0    0    1 1006    0    0    0    1    2    0]\n",
            " [   0    0    0    0  963    0    4    2    1   12]\n",
            " [   1    0    0   15    0  871    1    1    1    2]\n",
            " [   3    2    0    0    1    0  951    0    1    0]\n",
            " [   0    1    5    2    1    0    0 1016    0    3]\n",
            " [   0    0    0    3    0    1    0    1  966    3]\n",
            " [   0    0    0    0    4    3    0    2    0 1000]]\n"
          ],
          "name": "stdout"
        },
        {
          "output_type": "display_data",
          "data": {
            "image/png": "[encoded data removed]",
            "text/plain": [
              "<Figure size 432x288 with 2 Axes>"
            ]
          },
          "metadata": {
            "tags": [],
            "needs_background": "light"
          }
        }
      ]
    },
    {
      "cell_type": "code",
      "metadata": {
        "id": "zBZwIh0G_YcM",
        "colab_type": "code",
        "colab": {
          "base_uri": "https://localhost:8080/",
          "height": 281
        },
        "outputId": "87fd814e-652a-45f9-d62a-b945c49a68db"
      },
      "source": [
        "# Show some misclassified examples\n",
        "misclassified_idx = np.where(p_test != Y_test)[0]\n",
        "i = np.random.choice(misclassified_idx)\n",
        "plt.imshow(X_test[i], cmap='gray')\n",
        "plt.title(\"True label: %s Predicted: %s\" % (Y_test[i], p_test[i]));"
      ],
      "execution_count": 36,
      "outputs": [
        {
          "output_type": "display_data",
          "data": {
            "image/png": "[encoded data removed]",
            "text/plain": [
              "<Figure size 432x288 with 1 Axes>"
            ]
          },
          "metadata": {
            "tags": [],
            "needs_background": "light"
          }
        }
      ]
    }
  ]
}