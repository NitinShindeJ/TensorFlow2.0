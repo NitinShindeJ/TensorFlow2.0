{
  "nbformat": 4,
  "nbformat_minor": 0,
  "metadata": {
    "colab": {
      "name": "TF2.0 Data Loading _Google Colab.ipynb",
      "provenance": []
    },
    "kernelspec": {
      "name": "python3",
      "display_name": "Python 3"
    }
  },
  "cells": [
    {
      "cell_type": "markdown",
      "metadata": {
        "id": "xCEUPEKDoes-",
        "colab_type": "text"
      },
      "source": [
        "# Part 1: Using **WGET**"
      ]
    },
    {
      "cell_type": "code",
      "metadata": {
        "id": "4EeGfrNyn4QS",
        "colab_type": "code",
        "colab": {}
      },
      "source": [
        "# Download the data from URL\n",
        "#Linux command\n",
        "# sourcs: https://archive.ics.uci.edu/ml/datasets/Arrhythmia\n",
        "!wget https://archive.ics.uci.edu/ml/machine-learning-databases/arrhythmia/arrhythmia.data"
      ],
      "execution_count": 0,
      "outputs": []
    },
    {
      "cell_type": "code",
      "metadata": {
        "id": "LfNn5i-Tpi-v",
        "colab_type": "code",
        "colab": {}
      },
      "source": [
        "# list files in current directory\n",
        "!ls"
      ],
      "execution_count": 0,
      "outputs": []
    },
    {
      "cell_type": "markdown",
      "metadata": {
        "id": "7W7bzq4qqZ4F",
        "colab_type": "text"
      },
      "source": [
        "## **Data Loading with Pandas**"
      ]
    },
    {
      "cell_type": "code",
      "metadata": {
        "id": "t-BV180GqYXW",
        "colab_type": "code",
        "colab": {}
      },
      "source": [
        "import pandas as pd\n",
        "df = pd.read_csv('arrhythmia.data', header=None)"
      ],
      "execution_count": 0,
      "outputs": []
    },
    {
      "cell_type": "code",
      "metadata": {
        "id": "OKdWbh_bqybI",
        "colab_type": "code",
        "colab": {}
      },
      "source": [
        "!ls "
      ],
      "execution_count": 0,
      "outputs": []
    },
    {
      "cell_type": "code",
      "metadata": {
        "id": "XYCoghvzsd1v",
        "colab_type": "code",
        "colab": {}
      },
      "source": [
        "# First few columns rename\n",
        "data = df[[0,1,2,3,4,5]]\n",
        "data.columns = ['age','sex','height','weight','QRS duration','P-R interval']"
      ],
      "execution_count": 0,
      "outputs": []
    },
    {
      "cell_type": "code",
      "metadata": {
        "id": "fetem7ljtARG",
        "colab_type": "code",
        "colab": {}
      },
      "source": [
        "import matplotlib.pyplot as plt"
      ],
      "execution_count": 0,
      "outputs": []
    },
    {
      "cell_type": "code",
      "metadata": {
        "id": "sJguVOCFtIzW",
        "colab_type": "code",
        "colab": {}
      },
      "source": [
        "plt.rcParams['figure.figsize']=[10, 10]\n",
        "data.hist(); # use a semicolon to supress return value"
      ],
      "execution_count": 0,
      "outputs": []
    },
    {
      "cell_type": "code",
      "metadata": {
        "id": "O6HN2Hzhum5W",
        "colab_type": "code",
        "colab": {}
      },
      "source": [
        "from pandas.plotting import scatter_matrix\n",
        "scatter_matrix(data);"
      ],
      "execution_count": 0,
      "outputs": []
    },
    {
      "cell_type": "markdown",
      "metadata": {
        "id": "q4ocrZnav9DG",
        "colab_type": "text"
      },
      "source": [
        "# Part 2: Using **TF.KERAS**"
      ]
    },
    {
      "cell_type": "code",
      "metadata": {
        "id": "LfHGWTfttgwW",
        "colab_type": "code",
        "colab": {}
      },
      "source": [
        "#use keras get_file to download the auto MPG dataset\n",
        "# Source https://archive.ics.uci.edu/ml/machine-learning-databases/auto-mpg\n",
        "url ='https://archive.ics.uci.edu/ml/machine-learning-databases/auto-mpg/auto-mpg.data'"
      ],
      "execution_count": 0,
      "outputs": []
    },
    {
      "cell_type": "code",
      "metadata": {
        "id": "-rsIze-OwOfm",
        "colab_type": "code",
        "colab": {}
      },
      "source": [
        "#install TensorFlow\n",
        "!pip install -q tensorflow==2.0.0-beta1\n",
        "import tensorflow as tf\n",
        "print(tf.__version__)"
      ],
      "execution_count": 0,
      "outputs": []
    },
    {
      "cell_type": "code",
      "metadata": {
        "id": "BWYYae36wOq2",
        "colab_type": "code",
        "colab": {}
      },
      "source": [
        "# checkout the documet avalaible on URL\n",
        "tf.keras.utils.get_file('auto-mpg.data', url)"
      ],
      "execution_count": 0,
      "outputs": []
    },
    {
      "cell_type": "code",
      "metadata": {
        "id": "gg68pop-x2e4",
        "colab_type": "code",
        "colab": {}
      },
      "source": [
        "!head /root/.keras/datasets/auto-mpg.data"
      ],
      "execution_count": 0,
      "outputs": []
    },
    {
      "cell_type": "code",
      "metadata": {
        "id": "JGO8l76TyMoJ",
        "colab_type": "code",
        "colab": {}
      },
      "source": [
        "# Loading file\n",
        "df = pd.read_csv('/root/.keras/datasets/auto-mpg.data', heade=None, delim_whitespace=True)\n",
        "df.head()"
      ],
      "execution_count": 0,
      "outputs": []
    },
    {
      "cell_type": "markdown",
      "metadata": {
        "id": "kl0zWvJzyikB",
        "colab_type": "text"
      },
      "source": [
        "# **Part 3: Upload The File Yourself**"
      ]
    },
    {
      "cell_type": "code",
      "metadata": {
        "id": "AKSRKVDWypzn",
        "colab_type": "code",
        "colab": {}
      },
      "source": [
        "#Upload our file\n",
        "from google.colab import files\n",
        "uploaded_file = files.upload()"
      ],
      "execution_count": 0,
      "outputs": []
    },
    {
      "cell_type": "code",
      "metadata": {
        "id": "Xvj13kkUy90X",
        "colab_type": "code",
        "colab": {}
      },
      "source": [
        "uploaded_file"
      ],
      "execution_count": 0,
      "outputs": []
    },
    {
      "cell_type": "code",
      "metadata": {
        "id": "uJxloTnLy99u",
        "colab_type": "code",
        "colab": {}
      },
      "source": [
        "!ls"
      ],
      "execution_count": 0,
      "outputs": []
    },
    {
      "cell_type": "code",
      "metadata": {
        "id": "n_yqoPqky-Jt",
        "colab_type": "code",
        "colab": {}
      },
      "source": [
        "df_files = files.upload() "
      ],
      "execution_count": 0,
      "outputs": []
    },
    {
      "cell_type": "code",
      "metadata": {
        "id": "Y30MDk3L0Rig",
        "colab_type": "code",
        "colab": {}
      },
      "source": [
        "#open the loaded file\n",
        "df = pd.read_csv('Cylinder bands.csv')\n",
        "df.head()"
      ],
      "execution_count": 0,
      "outputs": []
    },
    {
      "cell_type": "code",
      "metadata": {
        "id": "mfB2bI_k0RuG",
        "colab_type": "code",
        "colab": {}
      },
      "source": [
        "# useful codes store in one file i.e. py\n",
        "data_local = files.upload()"
      ],
      "execution_count": 0,
      "outputs": []
    },
    {
      "cell_type": "code",
      "metadata": {
        "id": "S6sul_dE0yVJ",
        "colab_type": "code",
        "colab": {}
      },
      "source": [
        "from Cluster_Postures import No_null_variable\n",
        "No_null_variable(df)"
      ],
      "execution_count": 0,
      "outputs": []
    },
    {
      "cell_type": "code",
      "metadata": {
        "id": "et_kidvf2T1J",
        "colab_type": "code",
        "colab": {}
      },
      "source": [
        "!pwd"
      ],
      "execution_count": 0,
      "outputs": []
    },
    {
      "cell_type": "markdown",
      "metadata": {
        "id": "ykG0LDel26O3",
        "colab_type": "text"
      },
      "source": [
        "# **Part 4 : Access Files From Google Drive**"
      ]
    },
    {
      "cell_type": "code",
      "metadata": {
        "id": "Ukm9OJqX3CvH",
        "colab_type": "code",
        "colab": {}
      },
      "source": [
        "from google.colab import drive\n",
        "drive.mount('/content/gdrive')"
      ],
      "execution_count": 0,
      "outputs": []
    },
    {
      "cell_type": "code",
      "metadata": {
        "id": "D8mdB91h3g0u",
        "colab_type": "code",
        "colab": {}
      },
      "source": [
        "!ls"
      ],
      "execution_count": 0,
      "outputs": []
    },
    {
      "cell_type": "code",
      "metadata": {
        "id": "3MznxCaJ3i8_",
        "colab_type": "code",
        "colab": {}
      },
      "source": [
        "!ls gdrive"
      ],
      "execution_count": 0,
      "outputs": []
    },
    {
      "cell_type": "code",
      "metadata": {
        "id": "uhfMH6023rJe",
        "colab_type": "code",
        "colab": {}
      },
      "source": [
        "!ls '/content/gdrive/My Drive/'"
      ],
      "execution_count": 0,
      "outputs": []
    }
  ]
}