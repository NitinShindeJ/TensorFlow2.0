{
  "nbformat": 4,
  "nbformat_minor": 0,
  "metadata": {
    "colab": {
      "name": "TF2.0 ANN Multiclass Classification",
      "provenance": [],
      "collapsed_sections": []
    },
    "kernelspec": {
      "name": "python3",
      "display_name": "Python 3"
    }
  },
  "cells": [
    {
      "cell_type": "code",
      "metadata": {
        "id": "o4lmSrubeA38",
        "colab_type": "code",
        "colab": {}
      },
      "source": [
        "#Install Tensor flow\n",
        "!pip install -q tensorflow==2.0.beta1"
      ],
      "execution_count": 0,
      "outputs": []
    },
    {
      "cell_type": "code",
      "metadata": {
        "id": "izrdxU5XeUAY",
        "colab_type": "code",
        "colab": {}
      },
      "source": [
        "import pandas as pd\n",
        "import numpy as np\n",
        "import matplotlib.pyplot as plt"
      ],
      "execution_count": 0,
      "outputs": []
    },
    {
      "cell_type": "code",
      "metadata": {
        "id": "YCESebB1e6zn",
        "colab_type": "code",
        "colab": {}
      },
      "source": [
        "import tensorflow as tf\n",
        "print(tf.__version__)"
      ],
      "execution_count": 0,
      "outputs": []
    },
    {
      "cell_type": "code",
      "metadata": {
        "id": "ldJkmRrHedPx",
        "colab_type": "code",
        "colab": {}
      },
      "source": [
        "#Data Loading\n",
        "df_mnist= tf.keras.datasets.mnist"
      ],
      "execution_count": 0,
      "outputs": []
    },
    {
      "cell_type": "code",
      "metadata": {
        "id": "wstVkVsyf33Y",
        "colab_type": "code",
        "colab": {}
      },
      "source": [
        "(X_train, Y_train),(X_test, Y_test) = df_mnist.load_data()\n",
        "\n",
        "X_train, X_test = X_train / 255.0, X_test/255.0\n",
        "print(\"X_train.shape: \", X_train.shape)"
      ],
      "execution_count": 0,
      "outputs": []
    },
    {
      "cell_type": "code",
      "metadata": {
        "id": "-_N-4KgtgoAg",
        "colab_type": "code",
        "colab": {}
      },
      "source": [
        "# Build The Model\n",
        "model = tf.keras.models.Sequential([\n",
        "                                    tf.keras.layers.Flatten(input_shape =(28,28)),\n",
        "                                    tf.keras.layers.Dense(128, activation='relu'),\n",
        "                                    tf.keras.layers.Dropout(0.2),\n",
        "                                    tf.keras.layers.Dense(10, activation='softmax')\n",
        "])"
      ],
      "execution_count": 0,
      "outputs": []
    },
    {
      "cell_type": "code",
      "metadata": {
        "id": "ezycnOUWgoLv",
        "colab_type": "code",
        "colab": {}
      },
      "source": [
        "#Complie the model\n",
        "model.compile(optimizer='adam',\n",
        "              loss='sparse_categorical_crossentropy',\n",
        "              metrics=['accuracy'])"
      ],
      "execution_count": 0,
      "outputs": []
    },
    {
      "cell_type": "code",
      "metadata": {
        "id": "YrZSMTzUgoSP",
        "colab_type": "code",
        "colab": {}
      },
      "source": [
        "#Train the model\n",
        "r = model.fit(X_train, Y_train, validation_data=(X_test, Y_test), epochs=10)"
      ],
      "execution_count": 0,
      "outputs": []
    },
    {
      "cell_type": "code",
      "metadata": {
        "id": "yP7Jg9DaiQDa",
        "colab_type": "code",
        "colab": {}
      },
      "source": [
        "#Plot loss per Itration\n",
        "plt.plot(r.history['loss'], label ='loss')\n",
        "plt.plot(r.history['val_loss'], label = 'val_loss')\n",
        "plt.legend();"
      ],
      "execution_count": 0,
      "outputs": []
    },
    {
      "cell_type": "code",
      "metadata": {
        "id": "UmTLpQFziQKt",
        "colab_type": "code",
        "colab": {}
      },
      "source": [
        "#Plot accuracy per Itration\n",
        "plt.plot(r.history['accuracy'], label ='accuracy')\n",
        "plt.plot(r.history['val_accuracy'], label = 'val_accuracy')\n",
        "plt.legend();"
      ],
      "execution_count": 0,
      "outputs": []
    },
    {
      "cell_type": "code",
      "metadata": {
        "id": "2-uPFgzTjCDQ",
        "colab_type": "code",
        "colab": {}
      },
      "source": [
        "#Evaluate The Model\n",
        "print(model.evaluate(X_test, Y_test))"
      ],
      "execution_count": 0,
      "outputs": []
    },
    {
      "cell_type": "code",
      "metadata": {
        "id": "M_9wdGgtjCK2",
        "colab_type": "code",
        "colab": {}
      },
      "source": [
        " #Plot the confusuion Matrix\n",
        "from sklearn.metrics import confusion_matrix\n",
        "import itertools"
      ],
      "execution_count": 0,
      "outputs": []
    },
    {
      "cell_type": "code",
      "metadata": {
        "id": "rdI2zHEKgocm",
        "colab_type": "code",
        "colab": {}
      },
      "source": [
        "def plot_conf_matrix(cm, classes,\n",
        "                     normalize=False, \n",
        "                     title = 'Confusion Matrix',\n",
        "                     cmap=plt.cm.Blues):\n",
        "  \"\"\"\n",
        "  This function prints and plots the confusion matrix.\n",
        "  Normalization can be applied by setting `normalize=True`.\n",
        "  \"\"\"\n",
        "  if normalize:\n",
        "      cm = cm.astype('float') / cm.sum(axis=1)[:, np.newaxis]\n",
        "      print(\"Normalized confusion matrix\")\n",
        "  else:\n",
        "      print('Confusion matrix, without normalization')\n",
        "\n",
        "  print(cm)\n",
        "\n",
        "  plt.imshow(cm, interpolation='nearest', cmap=cmap)\n",
        "  plt.title(title)\n",
        "  plt.colorbar()\n",
        "  tick_marks = np.arange(len(classes))\n",
        "  plt.xticks(tick_marks, classes, rotation=45)\n",
        "  plt.yticks(tick_marks, classes)\n",
        "\n",
        "  fmt = '.2f' if normalize else 'd'\n",
        "  thresh = cm.max() / 2.\n",
        "  for i, j in itertools.product(range(cm.shape[0]), range(cm.shape[1])):\n",
        "      plt.text(j, i, format(cm[i, j], fmt),\n",
        "               horizontalalignment=\"center\",\n",
        "               color=\"white\" if cm[i, j] > thresh else \"black\")\n",
        "\n",
        "  plt.tight_layout()\n",
        "  plt.ylabel('True label')\n",
        "  plt.xlabel('Predicted label')\n",
        "  plt.show()\n",
        "\n",
        "p_test = model.predict(X_test).argmax(axis=1)\n",
        "cm = confusion_matrix(Y_test, p_test)\n",
        "plot_conf_matrix(cm, list(range(10)))\n",
        "\n",
        "# Do these results make sense?\n",
        "# It's easy to confuse 9 <--> 4, 9 <--> 7, 2 <--> 7, etc. "
      ],
      "execution_count": 0,
      "outputs": []
    },
    {
      "cell_type": "code",
      "metadata": {
        "id": "8wRTHGMUk0BT",
        "colab_type": "code",
        "colab": {}
      },
      "source": [
        "# Show some misclassified examples\n",
        "misclassified_idx = np.where(p_test != Y_test)[0]\n",
        "i = np.random.choice(misclassified_idx)\n",
        "plt.imshow(X_test[i], cmap='gray')\n",
        "plt.title(\"True label: %s Predicted: %s\" % (Y_test[i], p_test[i]));"
      ],
      "execution_count": 0,
      "outputs": []
    },
    {
      "cell_type": "code",
      "metadata": {
        "id": "MNrBSuqRk0NE",
        "colab_type": "code",
        "colab": {}
      },
      "source": [
        ""
      ],
      "execution_count": 0,
      "outputs": []
    },
    {
      "cell_type": "code",
      "metadata": {
        "id": "a7MB4tl5k0TU",
        "colab_type": "code",
        "colab": {}
      },
      "source": [
        ""
      ],
      "execution_count": 0,
      "outputs": []
    }
  ]
}