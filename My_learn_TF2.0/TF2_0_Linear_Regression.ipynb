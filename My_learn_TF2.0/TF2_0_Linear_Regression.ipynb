{
  "nbformat": 4,
  "nbformat_minor": 0,
  "metadata": {
    "colab": {
      "name": "TF2.0 Linear Regression",
      "provenance": []
    },
    "kernelspec": {
      "name": "python3",
      "display_name": "Python 3"
    }
  },
  "cells": [
    {
      "cell_type": "code",
      "metadata": {
        "id": "s6jLmPSMVGgK",
        "colab_type": "code",
        "colab": {}
      },
      "source": [
        "#Install Tensor flow\n",
        "!pip install -q tensorflow==2.0.beta1"
      ],
      "execution_count": 0,
      "outputs": []
    },
    {
      "cell_type": "code",
      "metadata": {
        "id": "5fAP7HrNVS1C",
        "colab_type": "code",
        "colab": {}
      },
      "source": [
        "import tensorflow as tf\n",
        "#print(tf.__version__)"
      ],
      "execution_count": 0,
      "outputs": []
    },
    {
      "cell_type": "code",
      "metadata": {
        "id": "Rp_q_t7AVS4Z",
        "colab_type": "code",
        "colab": {}
      },
      "source": [
        "import numpy as np\n",
        "import pandas as pd\n",
        "import matplotlib.pyplot as plt"
      ],
      "execution_count": 0,
      "outputs": []
    },
    {
      "cell_type": "code",
      "metadata": {
        "id": "yCRLseNMVS7p",
        "colab_type": "code",
        "outputId": "35fadf90-1046-491f-bef8-d21e9245b48b",
        "colab": {
          "base_uri": "https://localhost:8080/",
          "height": 292
        }
      },
      "source": [
        "#Get the data from gitHub\n",
        "!wget https://github.com/NitinShindeJ/TensorFlow2.0/tree/master/tf2.0/moore.csv"
      ],
      "execution_count": 17,
      "outputs": [
        {
          "output_type": "stream",
          "text": [
            "--2020-04-08 10:48:14--  https://github.com/NitinShindeJ/TensorFlow2.0/tree/master/tf2.0/moore.csv\n",
            "Resolving github.com (github.com)... 140.82.112.3\n",
            "Connecting to github.com (github.com)|140.82.112.3|:443... connected.\n",
            "HTTP request sent, awaiting response... 301 Moved Permanently\n",
            "Location: https://github.com/NitinShindeJ/TensorFlow2.0/blob/master/tf2.0/moore.csv [following]\n",
            "--2020-04-08 10:48:14--  https://github.com/NitinShindeJ/TensorFlow2.0/blob/master/tf2.0/moore.csv\n",
            "Reusing existing connection to github.com:443.\n",
            "HTTP request sent, awaiting response... 200 OK\n",
            "Length: unspecified [text/html]\n",
            "Saving to: ‘moore.csv’\n",
            "\n",
            "moore.csv               [ <=>                ]  97.84K   491KB/s    in 0.2s    \n",
            "\n",
            "2020-04-08 10:48:15 (491 KB/s) - ‘moore.csv’ saved [100187]\n",
            "\n"
          ],
          "name": "stdout"
        }
      ]
    },
    {
      "cell_type": "code",
      "metadata": {
        "id": "-GOdMn8_VS_q",
        "colab_type": "code",
        "outputId": "8bdf2f27-b0aa-471d-ed78-4dc5dcaeb98a",
        "colab": {
          "base_uri": "https://localhost:8080/",
          "height": 54
        }
      },
      "source": [
        "#Load the data\n",
        "df = pd.read_csv('moore.csv', header=None, error_bad_lines=False).values"
      ],
      "execution_count": 20,
      "outputs": [
        {
          "output_type": "stream",
          "text": [
            "b'Skipping line 49: expected 1 fields, saw 2\\nSkipping line 79: expected 1 fields, saw 7\\nSkipping line 126: expected 1 fields, saw 3\\nSkipping line 143: expected 1 fields, saw 6\\nSkipping line 144: expected 1 fields, saw 3\\nSkipping line 168: expected 1 fields, saw 4\\nSkipping line 172: expected 1 fields, saw 2\\nSkipping line 174: expected 1 fields, saw 2\\nSkipping line 175: expected 1 fields, saw 2\\nSkipping line 176: expected 1 fields, saw 2\\nSkipping line 177: expected 1 fields, saw 2\\nSkipping line 178: expected 1 fields, saw 2\\nSkipping line 179: expected 1 fields, saw 2\\nSkipping line 180: expected 1 fields, saw 2\\nSkipping line 181: expected 1 fields, saw 2\\nSkipping line 185: expected 1 fields, saw 2\\nSkipping line 186: expected 1 fields, saw 2\\nSkipping line 192: expected 1 fields, saw 2\\nSkipping line 200: expected 1 fields, saw 4\\nSkipping line 206: expected 1 fields, saw 2\\nSkipping line 211: expected 1 fields, saw 2\\nSkipping line 212: expected 1 fields, saw 2\\nSkipping line 213: expected 1 fields, saw 2\\nSkipping line 214: expected 1 fields, saw 2\\nSkipping line 215: expected 1 fields, saw 2\\nSkipping line 220: expected 1 fields, saw 2\\nSkipping line 221: expected 1 fields, saw 2\\nSkipping line 222: expected 1 fields, saw 2\\nSkipping line 229: expected 1 fields, saw 2\\nSkipping line 237: expected 1 fields, saw 4\\nSkipping line 242: expected 1 fields, saw 2\\nSkipping line 245: expected 1 fields, saw 2\\nSkipping line 246: expected 1 fields, saw 2\\nSkipping line 250: expected 1 fields, saw 2\\nSkipping line 251: expected 1 fields, saw 2\\nSkipping line 273: expected 1 fields, saw 2\\nSkipping line 411: expected 1 fields, saw 6\\nSkipping line 412: expected 1 fields, saw 3\\nSkipping line 417: expected 1 fields, saw 6\\nSkipping line 418: expected 1 fields, saw 3\\nSkipping line 500: expected 1 fields, saw 6\\nSkipping line 511: expected 1 fields, saw 6\\nSkipping line 524: expected 1 fields, saw 6\\nSkipping line 666: expected 1 fields, saw 3\\nSkipping line 670: expected 1 fields, saw 3\\nSkipping line 671: expected 1 fields, saw 8\\nSkipping line 766: expected 1 fields, saw 2\\nSkipping line 769: expected 1 fields, saw 2\\nSkipping line 1645: expected 1 fields, saw 2\\nSkipping line 1646: expected 1 fields, saw 3\\nSkipping line 1647: expected 1 fields, saw 3\\nSkipping line 1648: expected 1 fields, saw 3\\nSkipping line 1649: expected 1 fields, saw 3\\nSkipping line 1650: expected 1 fields, saw 3\\nSkipping line 1658: expected 1 fields, saw 3\\nSkipping line 1659: expected 1 fields, saw 3\\nSkipping line 1660: expected 1 fields, saw 3\\nSkipping line 1661: expected 1 fields, saw 3\\nSkipping line 1662: expected 1 fields, saw 3\\nSkipping line 1663: expected 1 fields, saw 3\\n'\n"
          ],
          "name": "stderr"
        }
      ]
    },
    {
      "cell_type": "code",
      "metadata": {
        "id": "VxeuIjL0VTDK",
        "colab_type": "code",
        "colab": {}
      },
      "source": [
        "X=df[:,0].reshape(-1,1) #make it 2D array of size NxD where D=1\n",
        "Y=df[:,1]"
      ],
      "execution_count": 0,
      "outputs": []
    },
    {
      "cell_type": "code",
      "metadata": {
        "id": "DlXhVUcgWQvG",
        "colab_type": "code",
        "colab": {
          "base_uri": "https://localhost:8080/",
          "height": 558
        },
        "outputId": "8cce6d82-7ab9-46a8-ee77-96ee370e1941"
      },
      "source": [
        ""
      ],
      "execution_count": 27,
      "outputs": [
        {
          "output_type": "error",
          "ename": "TypeError",
          "evalue": "ignored",
          "traceback": [
            "\u001b[0;31m---------------------------------------------------------------------------\u001b[0m",
            "\u001b[0;31mTypeError\u001b[0m                                 Traceback (most recent call last)",
            "\u001b[0;32m<ipython-input-27-e9e6d42fbbc6>\u001b[0m in \u001b[0;36m<module>\u001b[0;34m()\u001b[0m\n\u001b[0;32m----> 1\u001b[0;31m \u001b[0mplt\u001b[0m\u001b[0;34m.\u001b[0m\u001b[0mscatter\u001b[0m\u001b[0;34m(\u001b[0m\u001b[0mX\u001b[0m\u001b[0;34m,\u001b[0m \u001b[0mY\u001b[0m\u001b[0;34m)\u001b[0m\u001b[0;34m;\u001b[0m\u001b[0;34m\u001b[0m\u001b[0;34m\u001b[0m\u001b[0m\n\u001b[0m",
            "\u001b[0;32m/usr/local/lib/python3.6/dist-packages/matplotlib/pyplot.py\u001b[0m in \u001b[0;36mscatter\u001b[0;34m(x, y, s, c, marker, cmap, norm, vmin, vmax, alpha, linewidths, verts, edgecolors, plotnonfinite, data, **kwargs)\u001b[0m\n\u001b[1;32m   2814\u001b[0m         \u001b[0mverts\u001b[0m\u001b[0;34m=\u001b[0m\u001b[0mverts\u001b[0m\u001b[0;34m,\u001b[0m \u001b[0medgecolors\u001b[0m\u001b[0;34m=\u001b[0m\u001b[0medgecolors\u001b[0m\u001b[0;34m,\u001b[0m\u001b[0;34m\u001b[0m\u001b[0;34m\u001b[0m\u001b[0m\n\u001b[1;32m   2815\u001b[0m         plotnonfinite=plotnonfinite, **({\"data\": data} if data is not\n\u001b[0;32m-> 2816\u001b[0;31m         None else {}), **kwargs)\n\u001b[0m\u001b[1;32m   2817\u001b[0m     \u001b[0msci\u001b[0m\u001b[0;34m(\u001b[0m\u001b[0m__ret\u001b[0m\u001b[0;34m)\u001b[0m\u001b[0;34m\u001b[0m\u001b[0;34m\u001b[0m\u001b[0m\n\u001b[1;32m   2818\u001b[0m     \u001b[0;32mreturn\u001b[0m \u001b[0m__ret\u001b[0m\u001b[0;34m\u001b[0m\u001b[0;34m\u001b[0m\u001b[0m\n",
            "\u001b[0;32m/usr/local/lib/python3.6/dist-packages/matplotlib/__init__.py\u001b[0m in \u001b[0;36minner\u001b[0;34m(ax, data, *args, **kwargs)\u001b[0m\n\u001b[1;32m   1563\u001b[0m     \u001b[0;32mdef\u001b[0m \u001b[0minner\u001b[0m\u001b[0;34m(\u001b[0m\u001b[0max\u001b[0m\u001b[0;34m,\u001b[0m \u001b[0;34m*\u001b[0m\u001b[0margs\u001b[0m\u001b[0;34m,\u001b[0m \u001b[0mdata\u001b[0m\u001b[0;34m=\u001b[0m\u001b[0;32mNone\u001b[0m\u001b[0;34m,\u001b[0m \u001b[0;34m**\u001b[0m\u001b[0mkwargs\u001b[0m\u001b[0;34m)\u001b[0m\u001b[0;34m:\u001b[0m\u001b[0;34m\u001b[0m\u001b[0;34m\u001b[0m\u001b[0m\n\u001b[1;32m   1564\u001b[0m         \u001b[0;32mif\u001b[0m \u001b[0mdata\u001b[0m \u001b[0;32mis\u001b[0m \u001b[0;32mNone\u001b[0m\u001b[0;34m:\u001b[0m\u001b[0;34m\u001b[0m\u001b[0;34m\u001b[0m\u001b[0m\n\u001b[0;32m-> 1565\u001b[0;31m             \u001b[0;32mreturn\u001b[0m \u001b[0mfunc\u001b[0m\u001b[0;34m(\u001b[0m\u001b[0max\u001b[0m\u001b[0;34m,\u001b[0m \u001b[0;34m*\u001b[0m\u001b[0mmap\u001b[0m\u001b[0;34m(\u001b[0m\u001b[0msanitize_sequence\u001b[0m\u001b[0;34m,\u001b[0m \u001b[0margs\u001b[0m\u001b[0;34m)\u001b[0m\u001b[0;34m,\u001b[0m \u001b[0;34m**\u001b[0m\u001b[0mkwargs\u001b[0m\u001b[0;34m)\u001b[0m\u001b[0;34m\u001b[0m\u001b[0;34m\u001b[0m\u001b[0m\n\u001b[0m\u001b[1;32m   1566\u001b[0m \u001b[0;34m\u001b[0m\u001b[0m\n\u001b[1;32m   1567\u001b[0m         \u001b[0mbound\u001b[0m \u001b[0;34m=\u001b[0m \u001b[0mnew_sig\u001b[0m\u001b[0;34m.\u001b[0m\u001b[0mbind\u001b[0m\u001b[0;34m(\u001b[0m\u001b[0max\u001b[0m\u001b[0;34m,\u001b[0m \u001b[0;34m*\u001b[0m\u001b[0margs\u001b[0m\u001b[0;34m,\u001b[0m \u001b[0;34m**\u001b[0m\u001b[0mkwargs\u001b[0m\u001b[0;34m)\u001b[0m\u001b[0;34m\u001b[0m\u001b[0;34m\u001b[0m\u001b[0m\n",
            "\u001b[0;32m/usr/local/lib/python3.6/dist-packages/matplotlib/cbook/deprecation.py\u001b[0m in \u001b[0;36mwrapper\u001b[0;34m(*args, **kwargs)\u001b[0m\n\u001b[1;32m    356\u001b[0m                 \u001b[0;34mf\"%(removal)s.  If any parameter follows {name!r}, they \"\u001b[0m\u001b[0;34m\u001b[0m\u001b[0;34m\u001b[0m\u001b[0m\n\u001b[1;32m    357\u001b[0m                 f\"should be pass as keyword, not positionally.\")\n\u001b[0;32m--> 358\u001b[0;31m         \u001b[0;32mreturn\u001b[0m \u001b[0mfunc\u001b[0m\u001b[0;34m(\u001b[0m\u001b[0;34m*\u001b[0m\u001b[0margs\u001b[0m\u001b[0;34m,\u001b[0m \u001b[0;34m**\u001b[0m\u001b[0mkwargs\u001b[0m\u001b[0;34m)\u001b[0m\u001b[0;34m\u001b[0m\u001b[0;34m\u001b[0m\u001b[0m\n\u001b[0m\u001b[1;32m    359\u001b[0m \u001b[0;34m\u001b[0m\u001b[0m\n\u001b[1;32m    360\u001b[0m     \u001b[0;32mreturn\u001b[0m \u001b[0mwrapper\u001b[0m\u001b[0;34m\u001b[0m\u001b[0;34m\u001b[0m\u001b[0m\n",
            "\u001b[0;32m/usr/local/lib/python3.6/dist-packages/matplotlib/axes/_axes.py\u001b[0m in \u001b[0;36mscatter\u001b[0;34m(self, x, y, s, c, marker, cmap, norm, vmin, vmax, alpha, linewidths, verts, edgecolors, plotnonfinite, **kwargs)\u001b[0m\n\u001b[1;32m   4369\u001b[0m         \u001b[0;31m# Process **kwargs to handle aliases, conflicts with explicit kwargs:\u001b[0m\u001b[0;34m\u001b[0m\u001b[0;34m\u001b[0m\u001b[0;34m\u001b[0m\u001b[0m\n\u001b[1;32m   4370\u001b[0m \u001b[0;34m\u001b[0m\u001b[0m\n\u001b[0;32m-> 4371\u001b[0;31m         \u001b[0mself\u001b[0m\u001b[0;34m.\u001b[0m\u001b[0m_process_unit_info\u001b[0m\u001b[0;34m(\u001b[0m\u001b[0mxdata\u001b[0m\u001b[0;34m=\u001b[0m\u001b[0mx\u001b[0m\u001b[0;34m,\u001b[0m \u001b[0mydata\u001b[0m\u001b[0;34m=\u001b[0m\u001b[0my\u001b[0m\u001b[0;34m,\u001b[0m \u001b[0mkwargs\u001b[0m\u001b[0;34m=\u001b[0m\u001b[0mkwargs\u001b[0m\u001b[0;34m)\u001b[0m\u001b[0;34m\u001b[0m\u001b[0;34m\u001b[0m\u001b[0m\n\u001b[0m\u001b[1;32m   4372\u001b[0m         \u001b[0mx\u001b[0m \u001b[0;34m=\u001b[0m \u001b[0mself\u001b[0m\u001b[0;34m.\u001b[0m\u001b[0mconvert_xunits\u001b[0m\u001b[0;34m(\u001b[0m\u001b[0mx\u001b[0m\u001b[0;34m)\u001b[0m\u001b[0;34m\u001b[0m\u001b[0;34m\u001b[0m\u001b[0m\n\u001b[1;32m   4373\u001b[0m         \u001b[0my\u001b[0m \u001b[0;34m=\u001b[0m \u001b[0mself\u001b[0m\u001b[0;34m.\u001b[0m\u001b[0mconvert_yunits\u001b[0m\u001b[0;34m(\u001b[0m\u001b[0my\u001b[0m\u001b[0;34m)\u001b[0m\u001b[0;34m\u001b[0m\u001b[0;34m\u001b[0m\u001b[0m\n",
            "\u001b[0;32m/usr/local/lib/python3.6/dist-packages/matplotlib/axes/_base.py\u001b[0m in \u001b[0;36m_process_unit_info\u001b[0;34m(self, xdata, ydata, kwargs)\u001b[0m\n\u001b[1;32m   2071\u001b[0m             \u001b[0;32mreturn\u001b[0m \u001b[0mkwargs\u001b[0m\u001b[0;34m\u001b[0m\u001b[0;34m\u001b[0m\u001b[0m\n\u001b[1;32m   2072\u001b[0m \u001b[0;34m\u001b[0m\u001b[0m\n\u001b[0;32m-> 2073\u001b[0;31m         \u001b[0mkwargs\u001b[0m \u001b[0;34m=\u001b[0m \u001b[0m_process_single_axis\u001b[0m\u001b[0;34m(\u001b[0m\u001b[0mxdata\u001b[0m\u001b[0;34m,\u001b[0m \u001b[0mself\u001b[0m\u001b[0;34m.\u001b[0m\u001b[0mxaxis\u001b[0m\u001b[0;34m,\u001b[0m \u001b[0;34m'xunits'\u001b[0m\u001b[0;34m,\u001b[0m \u001b[0mkwargs\u001b[0m\u001b[0;34m)\u001b[0m\u001b[0;34m\u001b[0m\u001b[0;34m\u001b[0m\u001b[0m\n\u001b[0m\u001b[1;32m   2074\u001b[0m         \u001b[0mkwargs\u001b[0m \u001b[0;34m=\u001b[0m \u001b[0m_process_single_axis\u001b[0m\u001b[0;34m(\u001b[0m\u001b[0mydata\u001b[0m\u001b[0;34m,\u001b[0m \u001b[0mself\u001b[0m\u001b[0;34m.\u001b[0m\u001b[0myaxis\u001b[0m\u001b[0;34m,\u001b[0m \u001b[0;34m'yunits'\u001b[0m\u001b[0;34m,\u001b[0m \u001b[0mkwargs\u001b[0m\u001b[0;34m)\u001b[0m\u001b[0;34m\u001b[0m\u001b[0;34m\u001b[0m\u001b[0m\n\u001b[1;32m   2075\u001b[0m         \u001b[0;32mreturn\u001b[0m \u001b[0mkwargs\u001b[0m\u001b[0;34m\u001b[0m\u001b[0;34m\u001b[0m\u001b[0m\n",
            "\u001b[0;32m/usr/local/lib/python3.6/dist-packages/matplotlib/axes/_base.py\u001b[0m in \u001b[0;36m_process_single_axis\u001b[0;34m(data, axis, unit_name, kwargs)\u001b[0m\n\u001b[1;32m   2054\u001b[0m                 \u001b[0;31m# We only need to update if there is nothing set yet.\u001b[0m\u001b[0;34m\u001b[0m\u001b[0;34m\u001b[0m\u001b[0;34m\u001b[0m\u001b[0m\n\u001b[1;32m   2055\u001b[0m                 \u001b[0;32mif\u001b[0m \u001b[0;32mnot\u001b[0m \u001b[0maxis\u001b[0m\u001b[0;34m.\u001b[0m\u001b[0mhave_units\u001b[0m\u001b[0;34m(\u001b[0m\u001b[0;34m)\u001b[0m\u001b[0;34m:\u001b[0m\u001b[0;34m\u001b[0m\u001b[0;34m\u001b[0m\u001b[0m\n\u001b[0;32m-> 2056\u001b[0;31m                     \u001b[0maxis\u001b[0m\u001b[0;34m.\u001b[0m\u001b[0mupdate_units\u001b[0m\u001b[0;34m(\u001b[0m\u001b[0mdata\u001b[0m\u001b[0;34m)\u001b[0m\u001b[0;34m\u001b[0m\u001b[0;34m\u001b[0m\u001b[0m\n\u001b[0m\u001b[1;32m   2057\u001b[0m \u001b[0;34m\u001b[0m\u001b[0m\n\u001b[1;32m   2058\u001b[0m             \u001b[0;31m# Check for units in the kwargs, and if present update axis\u001b[0m\u001b[0;34m\u001b[0m\u001b[0;34m\u001b[0m\u001b[0;34m\u001b[0m\u001b[0m\n",
            "\u001b[0;32m/usr/local/lib/python3.6/dist-packages/matplotlib/axis.py\u001b[0m in \u001b[0;36mupdate_units\u001b[0;34m(self, data)\u001b[0m\n\u001b[1;32m   1514\u001b[0m         \u001b[0mneednew\u001b[0m \u001b[0;34m=\u001b[0m \u001b[0mself\u001b[0m\u001b[0;34m.\u001b[0m\u001b[0mconverter\u001b[0m \u001b[0;34m!=\u001b[0m \u001b[0mconverter\u001b[0m\u001b[0;34m\u001b[0m\u001b[0;34m\u001b[0m\u001b[0m\n\u001b[1;32m   1515\u001b[0m         \u001b[0mself\u001b[0m\u001b[0;34m.\u001b[0m\u001b[0mconverter\u001b[0m \u001b[0;34m=\u001b[0m \u001b[0mconverter\u001b[0m\u001b[0;34m\u001b[0m\u001b[0;34m\u001b[0m\u001b[0m\n\u001b[0;32m-> 1516\u001b[0;31m         \u001b[0mdefault\u001b[0m \u001b[0;34m=\u001b[0m \u001b[0mself\u001b[0m\u001b[0;34m.\u001b[0m\u001b[0mconverter\u001b[0m\u001b[0;34m.\u001b[0m\u001b[0mdefault_units\u001b[0m\u001b[0;34m(\u001b[0m\u001b[0mdata\u001b[0m\u001b[0;34m,\u001b[0m \u001b[0mself\u001b[0m\u001b[0;34m)\u001b[0m\u001b[0;34m\u001b[0m\u001b[0;34m\u001b[0m\u001b[0m\n\u001b[0m\u001b[1;32m   1517\u001b[0m         \u001b[0;32mif\u001b[0m \u001b[0mdefault\u001b[0m \u001b[0;32mis\u001b[0m \u001b[0;32mnot\u001b[0m \u001b[0;32mNone\u001b[0m \u001b[0;32mand\u001b[0m \u001b[0mself\u001b[0m\u001b[0;34m.\u001b[0m\u001b[0munits\u001b[0m \u001b[0;32mis\u001b[0m \u001b[0;32mNone\u001b[0m\u001b[0;34m:\u001b[0m\u001b[0;34m\u001b[0m\u001b[0;34m\u001b[0m\u001b[0m\n\u001b[1;32m   1518\u001b[0m             \u001b[0mself\u001b[0m\u001b[0;34m.\u001b[0m\u001b[0mset_units\u001b[0m\u001b[0;34m(\u001b[0m\u001b[0mdefault\u001b[0m\u001b[0;34m)\u001b[0m\u001b[0;34m\u001b[0m\u001b[0;34m\u001b[0m\u001b[0m\n",
            "\u001b[0;32m/usr/local/lib/python3.6/dist-packages/matplotlib/category.py\u001b[0m in \u001b[0;36mdefault_units\u001b[0;34m(data, axis)\u001b[0m\n\u001b[1;32m    105\u001b[0m         \u001b[0;31m# the conversion call stack is default_units -> axis_info -> convert\u001b[0m\u001b[0;34m\u001b[0m\u001b[0;34m\u001b[0m\u001b[0;34m\u001b[0m\u001b[0m\n\u001b[1;32m    106\u001b[0m         \u001b[0;32mif\u001b[0m \u001b[0maxis\u001b[0m\u001b[0;34m.\u001b[0m\u001b[0munits\u001b[0m \u001b[0;32mis\u001b[0m \u001b[0;32mNone\u001b[0m\u001b[0;34m:\u001b[0m\u001b[0;34m\u001b[0m\u001b[0;34m\u001b[0m\u001b[0m\n\u001b[0;32m--> 107\u001b[0;31m             \u001b[0maxis\u001b[0m\u001b[0;34m.\u001b[0m\u001b[0mset_units\u001b[0m\u001b[0;34m(\u001b[0m\u001b[0mUnitData\u001b[0m\u001b[0;34m(\u001b[0m\u001b[0mdata\u001b[0m\u001b[0;34m)\u001b[0m\u001b[0;34m)\u001b[0m\u001b[0;34m\u001b[0m\u001b[0;34m\u001b[0m\u001b[0m\n\u001b[0m\u001b[1;32m    108\u001b[0m         \u001b[0;32melse\u001b[0m\u001b[0;34m:\u001b[0m\u001b[0;34m\u001b[0m\u001b[0;34m\u001b[0m\u001b[0m\n\u001b[1;32m    109\u001b[0m             \u001b[0maxis\u001b[0m\u001b[0;34m.\u001b[0m\u001b[0munits\u001b[0m\u001b[0;34m.\u001b[0m\u001b[0mupdate\u001b[0m\u001b[0;34m(\u001b[0m\u001b[0mdata\u001b[0m\u001b[0;34m)\u001b[0m\u001b[0;34m\u001b[0m\u001b[0;34m\u001b[0m\u001b[0m\n",
            "\u001b[0;32m/usr/local/lib/python3.6/dist-packages/matplotlib/category.py\u001b[0m in \u001b[0;36m__init__\u001b[0;34m(self, data)\u001b[0m\n\u001b[1;32m    173\u001b[0m         \u001b[0mself\u001b[0m\u001b[0;34m.\u001b[0m\u001b[0m_counter\u001b[0m \u001b[0;34m=\u001b[0m \u001b[0mitertools\u001b[0m\u001b[0;34m.\u001b[0m\u001b[0mcount\u001b[0m\u001b[0;34m(\u001b[0m\u001b[0;34m)\u001b[0m\u001b[0;34m\u001b[0m\u001b[0;34m\u001b[0m\u001b[0m\n\u001b[1;32m    174\u001b[0m         \u001b[0;32mif\u001b[0m \u001b[0mdata\u001b[0m \u001b[0;32mis\u001b[0m \u001b[0;32mnot\u001b[0m \u001b[0;32mNone\u001b[0m\u001b[0;34m:\u001b[0m\u001b[0;34m\u001b[0m\u001b[0;34m\u001b[0m\u001b[0m\n\u001b[0;32m--> 175\u001b[0;31m             \u001b[0mself\u001b[0m\u001b[0;34m.\u001b[0m\u001b[0mupdate\u001b[0m\u001b[0;34m(\u001b[0m\u001b[0mdata\u001b[0m\u001b[0;34m)\u001b[0m\u001b[0;34m\u001b[0m\u001b[0;34m\u001b[0m\u001b[0m\n\u001b[0m\u001b[1;32m    176\u001b[0m \u001b[0;34m\u001b[0m\u001b[0m\n\u001b[1;32m    177\u001b[0m     \u001b[0;34m@\u001b[0m\u001b[0mstaticmethod\u001b[0m\u001b[0;34m\u001b[0m\u001b[0;34m\u001b[0m\u001b[0m\n",
            "\u001b[0;32m/usr/local/lib/python3.6/dist-packages/matplotlib/category.py\u001b[0m in \u001b[0;36mupdate\u001b[0;34m(self, data)\u001b[0m\n\u001b[1;32m    208\u001b[0m         \u001b[0;31m# check if convertible to number:\u001b[0m\u001b[0;34m\u001b[0m\u001b[0;34m\u001b[0m\u001b[0;34m\u001b[0m\u001b[0m\n\u001b[1;32m    209\u001b[0m         \u001b[0mconvertible\u001b[0m \u001b[0;34m=\u001b[0m \u001b[0;32mTrue\u001b[0m\u001b[0;34m\u001b[0m\u001b[0;34m\u001b[0m\u001b[0m\n\u001b[0;32m--> 210\u001b[0;31m         \u001b[0;32mfor\u001b[0m \u001b[0mval\u001b[0m \u001b[0;32min\u001b[0m \u001b[0mOrderedDict\u001b[0m\u001b[0;34m.\u001b[0m\u001b[0mfromkeys\u001b[0m\u001b[0;34m(\u001b[0m\u001b[0mdata\u001b[0m\u001b[0;34m)\u001b[0m\u001b[0;34m:\u001b[0m\u001b[0;34m\u001b[0m\u001b[0;34m\u001b[0m\u001b[0m\n\u001b[0m\u001b[1;32m    211\u001b[0m             \u001b[0;31m# OrderedDict just iterates over unique values in data.\u001b[0m\u001b[0;34m\u001b[0m\u001b[0;34m\u001b[0m\u001b[0;34m\u001b[0m\u001b[0m\n\u001b[1;32m    212\u001b[0m             \u001b[0mcbook\u001b[0m\u001b[0;34m.\u001b[0m\u001b[0m_check_isinstance\u001b[0m\u001b[0;34m(\u001b[0m\u001b[0;34m(\u001b[0m\u001b[0mstr\u001b[0m\u001b[0;34m,\u001b[0m \u001b[0mbytes\u001b[0m\u001b[0;34m)\u001b[0m\u001b[0;34m,\u001b[0m \u001b[0mvalue\u001b[0m\u001b[0;34m=\u001b[0m\u001b[0mval\u001b[0m\u001b[0;34m)\u001b[0m\u001b[0;34m\u001b[0m\u001b[0;34m\u001b[0m\u001b[0m\n",
            "\u001b[0;31mTypeError\u001b[0m: unhashable type: 'numpy.ndarray'"
          ]
        },
        {
          "output_type": "display_data",
          "data": {
            "image/png": "[encoded data removed]",
            "text/plain": [
              "<Figure size 432x288 with 1 Axes>"
            ]
          },
          "metadata": {
            "tags": []
          }
        }
      ]
    },
    {
      "cell_type": "code",
      "metadata": {
        "id": "jG7IE1kNWQyZ",
        "colab_type": "code",
        "colab": {
          "base_uri": "https://localhost:8080/",
          "height": 136
        },
        "outputId": "d5a8d446-5958-4855-d4a9-9fe0d11cf680"
      },
      "source": [
        "df"
      ],
      "execution_count": 23,
      "outputs": [
        {
          "output_type": "execute_result",
          "data": {
            "text/plain": [
              "array([['<!DOCTYPE html>'],\n",
              "       ['<html lang=\"en\">'],\n",
              "       ['  <head>'],\n",
              "       ...,\n",
              "       ['  <div aria-live=\"polite\" class=\"js-global-screen-reader-notice sr-only\"></div>'],\n",
              "       ['  </body>'],\n",
              "       ['</html>']], dtype=object)"
            ]
          },
          "metadata": {
            "tags": []
          },
          "execution_count": 23
        }
      ]
    },
    {
      "cell_type": "code",
      "metadata": {
        "id": "ZFtUOvRrWQ1p",
        "colab_type": "code",
        "colab": {
          "base_uri": "https://localhost:8080/",
          "height": 54
        },
        "outputId": "88ee6dd6-98b7-4bfa-bf50-0f8215d99359"
      },
      "source": [
        "#Load the data\n",
        "df = pd.read_csv('moore_1.csv', header=None, error_bad_lines=False).values"
      ],
      "execution_count": 36,
      "outputs": [
        {
          "output_type": "stream",
          "text": [
            "b'Skipping line 29: expected 3 fields, saw 4\\nSkipping line 57: expected 3 fields, saw 4\\nSkipping line 69: expected 3 fields, saw 4\\nSkipping line 71: expected 3 fields, saw 4\\nSkipping line 72: expected 3 fields, saw 4\\nSkipping line 73: expected 3 fields, saw 4\\nSkipping line 74: expected 3 fields, saw 4\\nSkipping line 75: expected 3 fields, saw 4\\nSkipping line 76: expected 3 fields, saw 4\\nSkipping line 77: expected 3 fields, saw 4\\nSkipping line 78: expected 3 fields, saw 4\\nSkipping line 79: expected 3 fields, saw 4\\nSkipping line 80: expected 3 fields, saw 4\\nSkipping line 81: expected 3 fields, saw 4\\nSkipping line 82: expected 3 fields, saw 4\\nSkipping line 83: expected 3 fields, saw 4\\nSkipping line 84: expected 3 fields, saw 4\\nSkipping line 85: expected 3 fields, saw 4\\nSkipping line 86: expected 3 fields, saw 4\\nSkipping line 87: expected 3 fields, saw 4\\nSkipping line 88: expected 3 fields, saw 4\\nSkipping line 89: expected 3 fields, saw 4\\nSkipping line 90: expected 3 fields, saw 4\\nSkipping line 91: expected 3 fields, saw 4\\nSkipping line 92: expected 3 fields, saw 4\\nSkipping line 93: expected 3 fields, saw 4\\nSkipping line 94: expected 3 fields, saw 4\\nSkipping line 95: expected 3 fields, saw 4\\nSkipping line 96: expected 3 fields, saw 4\\nSkipping line 97: expected 3 fields, saw 4\\nSkipping line 98: expected 3 fields, saw 4\\nSkipping line 99: expected 3 fields, saw 4\\nSkipping line 100: expected 3 fields, saw 4\\nSkipping line 101: expected 3 fields, saw 4\\nSkipping line 102: expected 3 fields, saw 4\\n'\n"
          ],
          "name": "stderr"
        }
      ]
    },
    {
      "cell_type": "code",
      "metadata": {
        "id": "jkVvGHEaWQ5L",
        "colab_type": "code",
        "colab": {}
      },
      "source": [
        "import re\n",
        "\n",
        "X = []\n",
        "Y = []\n",
        "\n",
        "# some numbers show up as 1,170,000,000 (commas)\n",
        "# some numbers have references in square brackets after them\n",
        "non_decimal = re.compile(r'[^\\d]+')\n",
        "\n",
        "for line in open('moore_1.csv'):\n",
        "    r = line.split('\\t')\n",
        "\n",
        "    x = int(non_decimal.sub('', r[2].split('[')[0]))\n",
        "    y = int(non_decimal.sub('', r[1].split('[')[0]))\n",
        "    X.append(x)\n",
        "    Y.append(y)\n",
        "\n",
        "\n",
        "X = np.array(X)\n",
        "Y = np.array(Y)"
      ],
      "execution_count": 0,
      "outputs": []
    },
    {
      "cell_type": "code",
      "metadata": {
        "id": "5WLsMEnGbJIC",
        "colab_type": "code",
        "colab": {
          "base_uri": "https://localhost:8080/",
          "height": 276
        },
        "outputId": "4d7ec0d9-e662-4692-859a-f39a375c3a1b"
      },
      "source": [
        "#Plot the data\n",
        "plt.scatter(X, Y);"
      ],
      "execution_count": 38,
      "outputs": [
        {
          "output_type": "display_data",
          "data": {
            "image/png": "[encoded data removed]",
            "text/plain": [
              "<Figure size 432x288 with 1 Axes>"
            ]
          },
          "metadata": {
            "tags": []
          }
        }
      ]
    },
    {
      "cell_type": "code",
      "metadata": {
        "id": "nTt8io_euokV",
        "colab_type": "code",
        "colab": {
          "base_uri": "https://localhost:8080/",
          "height": 265
        },
        "outputId": "c8534a7c-9093-4324-8ab7-a346f5cab5a3"
      },
      "source": [
        "#So we want  linear model take log\n",
        "Y= np.log(Y) \n",
        "plt.scatter(X,Y);"
      ],
      "execution_count": 39,
      "outputs": [
        {
          "output_type": "display_data",
          "data": {
            "image/png": "[encoded data removed]",
            "text/plain": [
              "<Figure size 432x288 with 1 Axes>"
            ]
          },
          "metadata": {
            "tags": []
          }
        }
      ]
    },
    {
      "cell_type": "code",
      "metadata": {
        "id": "w8JSNiBZuo0Y",
        "colab_type": "code",
        "colab": {}
      },
      "source": [
        "#Pre processing X\n",
        "# center X, X is the year so large range values, \n",
        "X=X-X.mean()"
      ],
      "execution_count": 0,
      "outputs": []
    },
    {
      "cell_type": "code",
      "metadata": {
        "id": "2ZntZlLDvKTb",
        "colab_type": "code",
        "colab": {
          "base_uri": "https://localhost:8080/",
          "height": 1000
        },
        "outputId": "e491f933-ff11-4fdb-d0f9-e45e73b1101a"
      },
      "source": [
        "#Now we create TensorFlow\n",
        "model = tf.keras.models.Sequential([\n",
        "                                    tf.keras.layers.Input(shape=(1,)),\n",
        "                                    tf.keras.layers.Dense(1)])\n",
        "\n",
        "model.compile(optimizer=tf.keras.optimizers.SGD(0.001, 0.9), loss='mse')\n",
        "#model.compile(Optimizer='adam', loss='mse')\n",
        "\n",
        "#learning rate scheduler\n",
        "def schedule(epoch, lr):\n",
        "  if epoch >= 50:\n",
        "    return 0.0001\n",
        "  return 0.001\n",
        "\n",
        "scheduler = tf.keras.callbacks.LearningRateScheduler(schedule)\n",
        "\n",
        "#Train the model\n",
        "r = model.fit(X, Y, epochs=200, callbacks=[scheduler])"
      ],
      "execution_count": 43,
      "outputs": [
        {
          "output_type": "stream",
          "text": [
            "Train on 102 samples\n",
            "Epoch 1/200\n",
            "102/102 [==============================] - 0s 727us/sample - loss: 296.7641\n",
            "Epoch 2/200\n",
            "102/102 [==============================] - 0s 85us/sample - loss: 290.5010\n",
            "Epoch 3/200\n",
            "102/102 [==============================] - 0s 64us/sample - loss: 259.2537\n",
            "Epoch 4/200\n",
            "102/102 [==============================] - 0s 67us/sample - loss: 231.1567\n",
            "Epoch 5/200\n",
            "102/102 [==============================] - 0s 66us/sample - loss: 218.3512\n",
            "Epoch 6/200\n",
            "102/102 [==============================] - 0s 75us/sample - loss: 167.9320\n",
            "Epoch 7/200\n",
            "102/102 [==============================] - 0s 97us/sample - loss: 163.2623\n",
            "Epoch 8/200\n",
            "102/102 [==============================] - 0s 54us/sample - loss: 152.7849\n",
            "Epoch 9/200\n",
            "102/102 [==============================] - 0s 64us/sample - loss: 115.0577\n",
            "Epoch 10/200\n",
            "102/102 [==============================] - 0s 61us/sample - loss: 86.7276\n",
            "Epoch 11/200\n",
            "102/102 [==============================] - 0s 71us/sample - loss: 77.3198\n",
            "Epoch 12/200\n",
            "102/102 [==============================] - 0s 69us/sample - loss: 60.2894\n",
            "Epoch 13/200\n",
            "102/102 [==============================] - 0s 65us/sample - loss: 46.7013\n",
            "Epoch 14/200\n",
            "102/102 [==============================] - 0s 67us/sample - loss: 36.4362\n",
            "Epoch 15/200\n",
            "102/102 [==============================] - 0s 78us/sample - loss: 30.2718\n",
            "Epoch 16/200\n",
            "102/102 [==============================] - 0s 91us/sample - loss: 24.5035\n",
            "Epoch 17/200\n",
            "102/102 [==============================] - 0s 75us/sample - loss: 19.7501\n",
            "Epoch 18/200\n",
            "102/102 [==============================] - 0s 77us/sample - loss: 16.4399\n",
            "Epoch 19/200\n",
            "102/102 [==============================] - 0s 70us/sample - loss: 13.4797\n",
            "Epoch 20/200\n",
            "102/102 [==============================] - 0s 64us/sample - loss: 10.9698\n",
            "Epoch 21/200\n",
            "102/102 [==============================] - 0s 59us/sample - loss: 10.4664\n",
            "Epoch 22/200\n",
            "102/102 [==============================] - 0s 58us/sample - loss: 7.7817\n",
            "Epoch 23/200\n",
            "102/102 [==============================] - 0s 72us/sample - loss: 6.3704\n",
            "Epoch 24/200\n",
            "102/102 [==============================] - 0s 65us/sample - loss: 5.7477\n",
            "Epoch 25/200\n",
            "102/102 [==============================] - 0s 69us/sample - loss: 4.3334\n",
            "Epoch 26/200\n",
            "102/102 [==============================] - 0s 84us/sample - loss: 4.2554\n",
            "Epoch 27/200\n",
            "102/102 [==============================] - 0s 90us/sample - loss: 3.1956\n",
            "Epoch 28/200\n",
            "102/102 [==============================] - 0s 92us/sample - loss: 2.9359\n",
            "Epoch 29/200\n",
            "102/102 [==============================] - 0s 76us/sample - loss: 2.4081\n",
            "Epoch 30/200\n",
            "102/102 [==============================] - 0s 91us/sample - loss: 2.1753\n",
            "Epoch 31/200\n",
            "102/102 [==============================] - 0s 73us/sample - loss: 1.9191\n",
            "Epoch 32/200\n",
            "102/102 [==============================] - 0s 73us/sample - loss: 1.8544\n",
            "Epoch 33/200\n",
            "102/102 [==============================] - 0s 69us/sample - loss: 1.6626\n",
            "Epoch 34/200\n",
            "102/102 [==============================] - 0s 73us/sample - loss: 1.5124\n",
            "Epoch 35/200\n",
            "102/102 [==============================] - 0s 70us/sample - loss: 1.4306\n",
            "Epoch 36/200\n",
            "102/102 [==============================] - 0s 76us/sample - loss: 1.3467\n",
            "Epoch 37/200\n",
            "102/102 [==============================] - 0s 70us/sample - loss: 1.3262\n",
            "Epoch 38/200\n",
            "102/102 [==============================] - 0s 81us/sample - loss: 1.4128\n",
            "Epoch 39/200\n",
            "102/102 [==============================] - 0s 86us/sample - loss: 1.3140\n",
            "Epoch 40/200\n",
            "102/102 [==============================] - 0s 92us/sample - loss: 1.2119\n",
            "Epoch 41/200\n",
            "102/102 [==============================] - 0s 102us/sample - loss: 1.1980\n",
            "Epoch 42/200\n",
            "102/102 [==============================] - 0s 73us/sample - loss: 1.1513\n",
            "Epoch 43/200\n",
            "102/102 [==============================] - 0s 79us/sample - loss: 1.1220\n",
            "Epoch 44/200\n",
            "102/102 [==============================] - 0s 78us/sample - loss: 1.2125\n",
            "Epoch 45/200\n",
            "102/102 [==============================] - 0s 77us/sample - loss: 1.1780\n",
            "Epoch 46/200\n",
            "102/102 [==============================] - 0s 66us/sample - loss: 1.2857\n",
            "Epoch 47/200\n",
            "102/102 [==============================] - 0s 78us/sample - loss: 1.3555\n",
            "Epoch 48/200\n",
            "102/102 [==============================] - 0s 78us/sample - loss: 1.1089\n",
            "Epoch 49/200\n",
            "102/102 [==============================] - 0s 77us/sample - loss: 1.1287\n",
            "Epoch 50/200\n",
            "102/102 [==============================] - 0s 74us/sample - loss: 1.0612\n",
            "Epoch 51/200\n",
            "102/102 [==============================] - 0s 69us/sample - loss: 1.1936\n",
            "Epoch 52/200\n",
            "102/102 [==============================] - 0s 75us/sample - loss: 1.1937\n",
            "Epoch 53/200\n",
            "102/102 [==============================] - 0s 73us/sample - loss: 1.1005\n",
            "Epoch 54/200\n",
            "102/102 [==============================] - 0s 68us/sample - loss: 1.0673\n",
            "Epoch 55/200\n",
            "102/102 [==============================] - 0s 76us/sample - loss: 1.0763\n",
            "Epoch 56/200\n",
            "102/102 [==============================] - 0s 73us/sample - loss: 1.0669\n",
            "Epoch 57/200\n",
            "102/102 [==============================] - 0s 68us/sample - loss: 1.0476\n",
            "Epoch 58/200\n",
            "102/102 [==============================] - 0s 83us/sample - loss: 1.0627\n",
            "Epoch 59/200\n",
            "102/102 [==============================] - 0s 60us/sample - loss: 1.0698\n",
            "Epoch 60/200\n",
            "102/102 [==============================] - 0s 77us/sample - loss: 1.0604\n",
            "Epoch 61/200\n",
            "102/102 [==============================] - 0s 179us/sample - loss: 1.0537\n",
            "Epoch 62/200\n",
            "102/102 [==============================] - 0s 82us/sample - loss: 1.0543\n",
            "Epoch 63/200\n",
            "102/102 [==============================] - 0s 86us/sample - loss: 1.0536\n",
            "Epoch 64/200\n",
            "102/102 [==============================] - 0s 81us/sample - loss: 1.0517\n",
            "Epoch 65/200\n",
            "102/102 [==============================] - 0s 70us/sample - loss: 1.0554\n",
            "Epoch 66/200\n",
            "102/102 [==============================] - 0s 76us/sample - loss: 1.0552\n",
            "Epoch 67/200\n",
            "102/102 [==============================] - 0s 77us/sample - loss: 1.0575\n",
            "Epoch 68/200\n",
            "102/102 [==============================] - 0s 81us/sample - loss: 1.0588\n",
            "Epoch 69/200\n",
            "102/102 [==============================] - 0s 72us/sample - loss: 1.0556\n",
            "Epoch 70/200\n",
            "102/102 [==============================] - 0s 78us/sample - loss: 1.0539\n",
            "Epoch 71/200\n",
            "102/102 [==============================] - 0s 69us/sample - loss: 1.0558\n",
            "Epoch 72/200\n",
            "102/102 [==============================] - 0s 69us/sample - loss: 1.0526\n",
            "Epoch 73/200\n",
            "102/102 [==============================] - 0s 76us/sample - loss: 1.0551\n",
            "Epoch 74/200\n",
            "102/102 [==============================] - 0s 74us/sample - loss: 1.0563\n",
            "Epoch 75/200\n",
            "102/102 [==============================] - 0s 78us/sample - loss: 1.0533\n",
            "Epoch 76/200\n",
            "102/102 [==============================] - 0s 65us/sample - loss: 1.0520\n",
            "Epoch 77/200\n",
            "102/102 [==============================] - 0s 80us/sample - loss: 1.0522\n",
            "Epoch 78/200\n",
            "102/102 [==============================] - 0s 74us/sample - loss: 1.0512\n",
            "Epoch 79/200\n",
            "102/102 [==============================] - 0s 72us/sample - loss: 1.0541\n",
            "Epoch 80/200\n",
            "102/102 [==============================] - 0s 75us/sample - loss: 1.0489\n",
            "Epoch 81/200\n",
            "102/102 [==============================] - 0s 83us/sample - loss: 1.0518\n",
            "Epoch 82/200\n",
            "102/102 [==============================] - 0s 85us/sample - loss: 1.0879\n",
            "Epoch 83/200\n",
            "102/102 [==============================] - 0s 91us/sample - loss: 1.1051\n",
            "Epoch 84/200\n",
            "102/102 [==============================] - 0s 68us/sample - loss: 1.0816\n",
            "Epoch 85/200\n",
            "102/102 [==============================] - 0s 94us/sample - loss: 1.0630\n",
            "Epoch 86/200\n",
            "102/102 [==============================] - 0s 78us/sample - loss: 1.0506\n",
            "Epoch 87/200\n",
            "102/102 [==============================] - 0s 73us/sample - loss: 1.0525\n",
            "Epoch 88/200\n",
            "102/102 [==============================] - 0s 73us/sample - loss: 1.0551\n",
            "Epoch 89/200\n",
            "102/102 [==============================] - 0s 75us/sample - loss: 1.0532\n",
            "Epoch 90/200\n",
            "102/102 [==============================] - 0s 76us/sample - loss: 1.0572\n",
            "Epoch 91/200\n",
            "102/102 [==============================] - 0s 70us/sample - loss: 1.0583\n",
            "Epoch 92/200\n",
            "102/102 [==============================] - 0s 67us/sample - loss: 1.0603\n",
            "Epoch 93/200\n",
            "102/102 [==============================] - 0s 73us/sample - loss: 1.0509\n",
            "Epoch 94/200\n",
            "102/102 [==============================] - 0s 70us/sample - loss: 1.0518\n",
            "Epoch 95/200\n",
            "102/102 [==============================] - 0s 73us/sample - loss: 1.0545\n",
            "Epoch 96/200\n",
            "102/102 [==============================] - 0s 76us/sample - loss: 1.0522\n",
            "Epoch 97/200\n",
            "102/102 [==============================] - 0s 70us/sample - loss: 1.0524\n",
            "Epoch 98/200\n",
            "102/102 [==============================] - 0s 80us/sample - loss: 1.0496\n",
            "Epoch 99/200\n",
            "102/102 [==============================] - 0s 68us/sample - loss: 1.0514\n",
            "Epoch 100/200\n",
            "102/102 [==============================] - 0s 126us/sample - loss: 1.0567\n",
            "Epoch 101/200\n",
            "102/102 [==============================] - 0s 64us/sample - loss: 1.0494\n",
            "Epoch 102/200\n",
            "102/102 [==============================] - 0s 82us/sample - loss: 1.0538\n",
            "Epoch 103/200\n",
            "102/102 [==============================] - 0s 57us/sample - loss: 1.0579\n",
            "Epoch 104/200\n",
            "102/102 [==============================] - 0s 93us/sample - loss: 1.0528\n",
            "Epoch 105/200\n",
            "102/102 [==============================] - 0s 69us/sample - loss: 1.0493\n",
            "Epoch 106/200\n",
            "102/102 [==============================] - 0s 105us/sample - loss: 1.0538\n",
            "Epoch 107/200\n",
            "102/102 [==============================] - 0s 87us/sample - loss: 1.0600\n",
            "Epoch 108/200\n",
            "102/102 [==============================] - 0s 71us/sample - loss: 1.0559\n",
            "Epoch 109/200\n",
            "102/102 [==============================] - 0s 87us/sample - loss: 1.0473\n",
            "Epoch 110/200\n",
            "102/102 [==============================] - 0s 96us/sample - loss: 1.0545\n",
            "Epoch 111/200\n",
            "102/102 [==============================] - 0s 89us/sample - loss: 1.0888\n",
            "Epoch 112/200\n",
            "102/102 [==============================] - 0s 98us/sample - loss: 1.1020\n",
            "Epoch 113/200\n",
            "102/102 [==============================] - 0s 85us/sample - loss: 1.0816\n",
            "Epoch 114/200\n",
            "102/102 [==============================] - 0s 84us/sample - loss: 1.0481\n",
            "Epoch 115/200\n",
            "102/102 [==============================] - 0s 77us/sample - loss: 1.0550\n",
            "Epoch 116/200\n",
            "102/102 [==============================] - 0s 79us/sample - loss: 1.0582\n",
            "Epoch 117/200\n",
            "102/102 [==============================] - 0s 63us/sample - loss: 1.0575\n",
            "Epoch 118/200\n",
            "102/102 [==============================] - 0s 73us/sample - loss: 1.0554\n",
            "Epoch 119/200\n",
            "102/102 [==============================] - 0s 68us/sample - loss: 1.0564\n",
            "Epoch 120/200\n",
            "102/102 [==============================] - 0s 74us/sample - loss: 1.0534\n",
            "Epoch 121/200\n",
            "102/102 [==============================] - 0s 71us/sample - loss: 1.0524\n",
            "Epoch 122/200\n",
            "102/102 [==============================] - 0s 63us/sample - loss: 1.0498\n",
            "Epoch 123/200\n",
            "102/102 [==============================] - 0s 68us/sample - loss: 1.0494\n",
            "Epoch 124/200\n",
            "102/102 [==============================] - 0s 79us/sample - loss: 1.0495\n",
            "Epoch 125/200\n",
            "102/102 [==============================] - 0s 99us/sample - loss: 1.0515\n",
            "Epoch 126/200\n",
            "102/102 [==============================] - 0s 70us/sample - loss: 1.0500\n",
            "Epoch 127/200\n",
            "102/102 [==============================] - 0s 61us/sample - loss: 1.0559\n",
            "Epoch 128/200\n",
            "102/102 [==============================] - 0s 60us/sample - loss: 1.0520\n",
            "Epoch 129/200\n",
            "102/102 [==============================] - 0s 61us/sample - loss: 1.0490\n",
            "Epoch 130/200\n",
            "102/102 [==============================] - 0s 65us/sample - loss: 1.0544\n",
            "Epoch 131/200\n",
            "102/102 [==============================] - 0s 61us/sample - loss: 1.0536\n",
            "Epoch 132/200\n",
            "102/102 [==============================] - 0s 61us/sample - loss: 1.0516\n",
            "Epoch 133/200\n",
            "102/102 [==============================] - 0s 63us/sample - loss: 1.0565\n",
            "Epoch 134/200\n",
            "102/102 [==============================] - 0s 79us/sample - loss: 1.0516\n",
            "Epoch 135/200\n",
            "102/102 [==============================] - 0s 76us/sample - loss: 1.0578\n",
            "Epoch 136/200\n",
            "102/102 [==============================] - 0s 73us/sample - loss: 1.0601\n",
            "Epoch 137/200\n",
            "102/102 [==============================] - 0s 75us/sample - loss: 1.0552\n",
            "Epoch 138/200\n",
            "102/102 [==============================] - 0s 84us/sample - loss: 1.0479\n",
            "Epoch 139/200\n",
            "102/102 [==============================] - 0s 69us/sample - loss: 1.0497\n",
            "Epoch 140/200\n",
            "102/102 [==============================] - 0s 99us/sample - loss: 1.0533\n",
            "Epoch 141/200\n",
            "102/102 [==============================] - 0s 62us/sample - loss: 1.0480\n",
            "Epoch 142/200\n",
            "102/102 [==============================] - 0s 71us/sample - loss: 1.0485\n",
            "Epoch 143/200\n",
            "102/102 [==============================] - 0s 86us/sample - loss: 1.0520\n",
            "Epoch 144/200\n",
            "102/102 [==============================] - 0s 84us/sample - loss: 1.0513\n",
            "Epoch 145/200\n",
            "102/102 [==============================] - 0s 64us/sample - loss: 1.0485\n",
            "Epoch 146/200\n",
            "102/102 [==============================] - 0s 91us/sample - loss: 1.0486\n",
            "Epoch 147/200\n",
            "102/102 [==============================] - 0s 68us/sample - loss: 1.0538\n",
            "Epoch 148/200\n",
            "102/102 [==============================] - 0s 138us/sample - loss: 1.0588\n",
            "Epoch 149/200\n",
            "102/102 [==============================] - 0s 83us/sample - loss: 1.0585\n",
            "Epoch 150/200\n",
            "102/102 [==============================] - 0s 83us/sample - loss: 1.0469\n",
            "Epoch 151/200\n",
            "102/102 [==============================] - 0s 82us/sample - loss: 1.0514\n",
            "Epoch 152/200\n",
            "102/102 [==============================] - 0s 77us/sample - loss: 1.0590\n",
            "Epoch 153/200\n",
            "102/102 [==============================] - 0s 87us/sample - loss: 1.0586\n",
            "Epoch 154/200\n",
            "102/102 [==============================] - 0s 81us/sample - loss: 1.0542\n",
            "Epoch 155/200\n",
            "102/102 [==============================] - 0s 85us/sample - loss: 1.0480\n",
            "Epoch 156/200\n",
            "102/102 [==============================] - 0s 86us/sample - loss: 1.0508\n",
            "Epoch 157/200\n",
            "102/102 [==============================] - 0s 98us/sample - loss: 1.0616\n",
            "Epoch 158/200\n",
            "102/102 [==============================] - 0s 71us/sample - loss: 1.0516\n",
            "Epoch 159/200\n",
            "102/102 [==============================] - 0s 63us/sample - loss: 1.0496\n",
            "Epoch 160/200\n",
            "102/102 [==============================] - 0s 78us/sample - loss: 1.0528\n",
            "Epoch 161/200\n",
            "102/102 [==============================] - 0s 90us/sample - loss: 1.0492\n",
            "Epoch 162/200\n",
            "102/102 [==============================] - 0s 72us/sample - loss: 1.0483\n",
            "Epoch 163/200\n",
            "102/102 [==============================] - 0s 83us/sample - loss: 1.0488\n",
            "Epoch 164/200\n",
            "102/102 [==============================] - 0s 91us/sample - loss: 1.0515\n",
            "Epoch 165/200\n",
            "102/102 [==============================] - 0s 84us/sample - loss: 1.0534\n",
            "Epoch 166/200\n",
            "102/102 [==============================] - 0s 86us/sample - loss: 1.0508\n",
            "Epoch 167/200\n",
            "102/102 [==============================] - 0s 81us/sample - loss: 1.0494\n",
            "Epoch 168/200\n",
            "102/102 [==============================] - 0s 79us/sample - loss: 1.0544\n",
            "Epoch 169/200\n",
            "102/102 [==============================] - 0s 85us/sample - loss: 1.0551\n",
            "Epoch 170/200\n",
            "102/102 [==============================] - 0s 67us/sample - loss: 1.0483\n",
            "Epoch 171/200\n",
            "102/102 [==============================] - 0s 82us/sample - loss: 1.0487\n",
            "Epoch 172/200\n",
            "102/102 [==============================] - 0s 70us/sample - loss: 1.0506\n",
            "Epoch 173/200\n",
            "102/102 [==============================] - 0s 83us/sample - loss: 1.0504\n",
            "Epoch 174/200\n",
            "102/102 [==============================] - 0s 88us/sample - loss: 1.0506\n",
            "Epoch 175/200\n",
            "102/102 [==============================] - 0s 78us/sample - loss: 1.0523\n",
            "Epoch 176/200\n",
            "102/102 [==============================] - 0s 105us/sample - loss: 1.0519\n",
            "Epoch 177/200\n",
            "102/102 [==============================] - 0s 173us/sample - loss: 1.0540\n",
            "Epoch 178/200\n",
            "102/102 [==============================] - 0s 74us/sample - loss: 1.0509\n",
            "Epoch 179/200\n",
            "102/102 [==============================] - 0s 58us/sample - loss: 1.0466\n",
            "Epoch 180/200\n",
            "102/102 [==============================] - 0s 85us/sample - loss: 1.0505\n",
            "Epoch 181/200\n",
            "102/102 [==============================] - 0s 79us/sample - loss: 1.0564\n",
            "Epoch 182/200\n",
            "102/102 [==============================] - 0s 82us/sample - loss: 1.0621\n",
            "Epoch 183/200\n",
            "102/102 [==============================] - 0s 84us/sample - loss: 1.0552\n",
            "Epoch 184/200\n",
            "102/102 [==============================] - 0s 63us/sample - loss: 1.0499\n",
            "Epoch 185/200\n",
            "102/102 [==============================] - 0s 81us/sample - loss: 1.0492\n",
            "Epoch 186/200\n",
            "102/102 [==============================] - 0s 81us/sample - loss: 1.0473\n",
            "Epoch 187/200\n",
            "102/102 [==============================] - 0s 75us/sample - loss: 1.0511\n",
            "Epoch 188/200\n",
            "102/102 [==============================] - 0s 71us/sample - loss: 1.0534\n",
            "Epoch 189/200\n",
            "102/102 [==============================] - 0s 66us/sample - loss: 1.0492\n",
            "Epoch 190/200\n",
            "102/102 [==============================] - 0s 75us/sample - loss: 1.0573\n",
            "Epoch 191/200\n",
            "102/102 [==============================] - 0s 75us/sample - loss: 1.0608\n",
            "Epoch 192/200\n",
            "102/102 [==============================] - 0s 83us/sample - loss: 1.0582\n",
            "Epoch 193/200\n",
            "102/102 [==============================] - 0s 79us/sample - loss: 1.0528\n",
            "Epoch 194/200\n",
            "102/102 [==============================] - 0s 80us/sample - loss: 1.0519\n",
            "Epoch 195/200\n",
            "102/102 [==============================] - 0s 99us/sample - loss: 1.0489\n",
            "Epoch 196/200\n",
            "102/102 [==============================] - 0s 69us/sample - loss: 1.0478\n",
            "Epoch 197/200\n",
            "102/102 [==============================] - 0s 68us/sample - loss: 1.0678\n",
            "Epoch 198/200\n",
            "102/102 [==============================] - 0s 70us/sample - loss: 1.0603\n",
            "Epoch 199/200\n",
            "102/102 [==============================] - 0s 75us/sample - loss: 1.0494\n",
            "Epoch 200/200\n",
            "102/102 [==============================] - 0s 72us/sample - loss: 1.0482\n"
          ],
          "name": "stdout"
        }
      ]
    },
    {
      "cell_type": "code",
      "metadata": {
        "id": "ifUP8x7mvKj6",
        "colab_type": "code",
        "colab": {
          "base_uri": "https://localhost:8080/",
          "height": 282
        },
        "outputId": "724f8a34-a943-4ca0-9f05-a1541bc35962"
      },
      "source": [
        "#Plot the loss\n",
        "plt.plot(r.history['loss'], label='loss')"
      ],
      "execution_count": 45,
      "outputs": [
        {
          "output_type": "execute_result",
          "data": {
            "text/plain": [
              "[<matplotlib.lines.Line2D at 0x7f5e3e30b780>]"
            ]
          },
          "metadata": {
            "tags": []
          },
          "execution_count": 45
        },
        {
          "output_type": "display_data",
          "data": {
            "image/png": "[encoded data removed]",
            "text/plain": [
              "<Figure size 432x288 with 1 Axes>"
            ]
          },
          "metadata": {
            "tags": []
          }
        }
      ]
    },
    {
      "cell_type": "code",
      "metadata": {
        "id": "BnxU-h89vKnb",
        "colab_type": "code",
        "colab": {
          "base_uri": "https://localhost:8080/",
          "height": 51
        },
        "outputId": "476674af-5788-485f-d68e-fcfb3a884881"
      },
      "source": [
        "#Get the slope of the line\n",
        "#Slope of the line is related to the doubling rate of transistor count\n",
        "print(model.layers) #Note: there is only 1 layer, the 'Input' layer doesn't count\n",
        "print(model.layers[0].get_weights())"
      ],
      "execution_count": 46,
      "outputs": [
        {
          "output_type": "stream",
          "text": [
            "[<tensorflow.python.keras.layers.core.Dense object at 0x7f5e3eae5b38>]\n",
            "[array([[0.34796974]], dtype=float32), array([16.951452], dtype=float32)]\n"
          ],
          "name": "stdout"
        }
      ]
    },
    {
      "cell_type": "code",
      "metadata": {
        "id": "GRCRnp1px5sm",
        "colab_type": "code",
        "colab": {}
      },
      "source": [
        "#Slope of the line is\n",
        "a = model.layers[0].get_weights()[0][0,0]"
      ],
      "execution_count": 0,
      "outputs": []
    },
    {
      "cell_type": "code",
      "metadata": {
        "id": "RAFyhOkHx5z6",
        "colab_type": "code",
        "colab": {
          "base_uri": "https://localhost:8080/",
          "height": 34
        },
        "outputId": "0b2b6339-e1f6-4d8b-ec72-b6e2ab168cf8"
      },
      "source": [
        "a"
      ],
      "execution_count": 49,
      "outputs": [
        {
          "output_type": "execute_result",
          "data": {
            "text/plain": [
              "0.34796974"
            ]
          },
          "metadata": {
            "tags": []
          },
          "execution_count": 49
        }
      ]
    },
    {
      "cell_type": "code",
      "metadata": {
        "id": "sQqo1rKqx5__",
        "colab_type": "code",
        "colab": {
          "base_uri": "https://localhost:8080/",
          "height": 34
        },
        "outputId": "006fcc35-6088-4ef6-bfad-37ff44d7c644"
      },
      "source": [
        "print('Time to Double:', np.log(2)/a)"
      ],
      "execution_count": 50,
      "outputs": [
        {
          "output_type": "stream",
          "text": [
            "Time to Double: 1.99197544966583\n"
          ],
          "name": "stdout"
        }
      ]
    },
    {
      "cell_type": "code",
      "metadata": {
        "id": "u8yEzhvby-EK",
        "colab_type": "code",
        "colab": {
          "base_uri": "https://localhost:8080/",
          "height": 51
        },
        "outputId": "7cd6639a-fdc0-4b82-f5d7-30cae8342110"
      },
      "source": [
        "#If You want Analytical Soln\n",
        "X = np.array(X).flatten()\n",
        "Y=np.array(Y)\n",
        "denominator = X.dot(X)-X.mean()*X.sum()\n",
        "a = (X.dot(Y)-Y.mean()*X.sum()) / denominator\n",
        "b = (Y.mean()*X.dot(X)-X.mean()*X.dot(Y))/denominator\n",
        "\n",
        "print(a,b)\n",
        "print('Time to Double:', np.log(2)/a)"
      ],
      "execution_count": 51,
      "outputs": [
        {
          "output_type": "stream",
          "text": [
            "0.35104357336423775 16.96984782380809\n",
            "Time to Double: 1.9745331723841182\n"
          ],
          "name": "stdout"
        }
      ]
    }
  ]
}