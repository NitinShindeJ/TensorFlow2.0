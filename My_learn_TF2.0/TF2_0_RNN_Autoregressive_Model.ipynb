{
  "nbformat": 4,
  "nbformat_minor": 0,
  "metadata": {
    "colab": {
      "name": "TF2.0 RNN_Autoregressive Model",
      "provenance": []
    },
    "kernelspec": {
      "name": "python3",
      "display_name": "Python 3"
    }
  },
  "cells": [
    {
      "cell_type": "code",
      "metadata": {
        "id": "nbK5a3IWUkkX",
        "colab_type": "code",
        "colab": {}
      },
      "source": [
        "#Install Tensor flow\n",
        "!pip install -q tensorflow==2.0.beta1"
      ],
      "execution_count": 0,
      "outputs": []
    },
    {
      "cell_type": "code",
      "metadata": {
        "id": "dFrIFFQZUngu",
        "colab_type": "code",
        "colab": {}
      },
      "source": [
        "import numpy as np\n",
        "import pandas as pd\n",
        "import matplotlib.pyplot as plt\n",
        "import tensorflow as tf"
      ],
      "execution_count": 0,
      "outputs": []
    },
    {
      "cell_type": "code",
      "metadata": {
        "id": "OkiG3seO72K3",
        "colab_type": "code",
        "colab": {}
      },
      "source": [
        "from tensorflow.keras.layers import Input, Dense\n",
        "from tensorflow.keras.models import Model\n",
        "from tensorflow.keras.optimizers import SGD, Adam"
      ],
      "execution_count": 0,
      "outputs": []
    },
    {
      "cell_type": "code",
      "metadata": {
        "id": "5k-EMIaA8YaO",
        "colab_type": "code",
        "colab": {}
      },
      "source": [
        "#Basic Time Series with Sine wave with no noise.\n",
        "#series = np.sin(0.1*np.arange(200)) \n",
        "#Basic Time Series with Sine wave with no noise.\n",
        "series = np.sin(0.1*np.arange(200)) + np.random.randn(200)*0.1\n",
        "\n",
        "#plot it\n",
        "plt.plot(series);"
      ],
      "execution_count": 0,
      "outputs": []
    },
    {
      "cell_type": "code",
      "metadata": {
        "id": "ZTw1ElVa9L2T",
        "colab_type": "code",
        "colab": {}
      },
      "source": [
        "###Build the data set\n",
        "# let's see if we can use T past values to predict the next value\n",
        "T=10\n",
        "X=[]\n",
        "Y=[]\n",
        "\n",
        "#Final Target Index = Final t + T = [len(series)-T-1]+T = len(series)-1\n",
        "for t in range(len(series)-T):\n",
        "  x= series[t:t+T]\n",
        "  X.append(x)\n",
        "  y = series[t+T]\n",
        "  Y.append(y)\n",
        "\n",
        "X = np.array(X).reshape(-1, T)\n",
        "Y = np.array(Y)\n",
        "N=len(X)\n",
        "print(\"X.Shape:\", X.shape, \"Y.Shape:\", Y.shape)"
      ],
      "execution_count": 0,
      "outputs": []
    },
    {
      "cell_type": "code",
      "metadata": {
        "id": "A_d01RLu9L6G",
        "colab_type": "code",
        "colab": {}
      },
      "source": [
        "## Try Autoregressive linear model\n",
        "i = Input(shape=(T,))\n",
        "x = Dense(1)(i)\n",
        "model = Model(i, x)\n",
        "model.compile(loss='mse', optimizer=Adam(lr=0.1),)\n",
        "\n",
        "#Train the RNN\n",
        "r = model.fit(\n",
        "    X[:-N//2], Y[:-N//2], \n",
        "    epochs=80, \n",
        "    validation_data=(X[-N//2:], Y[-N//2:]),\n",
        ")"
      ],
      "execution_count": 0,
      "outputs": []
    },
    {
      "cell_type": "code",
      "metadata": {
        "id": "cVs6e3vf9L-O",
        "colab_type": "code",
        "colab": {}
      },
      "source": [
        "# Plot loss per iteration\n",
        "import matplotlib.pyplot as plt\n",
        "plt.plot(r.history['loss'], label='loss')\n",
        "plt.plot(r.history['val_loss'], label='val_loss')\n",
        "plt.legend()"
      ],
      "execution_count": 0,
      "outputs": []
    },
    {
      "cell_type": "code",
      "metadata": {
        "id": "Ss8a7AlDAECq",
        "colab_type": "code",
        "colab": {}
      },
      "source": [
        "# \"Wrong\" forecast using true targets\n",
        "\n",
        "validation_target = Y[-N//2:]\n",
        "validation_predictions = []\n",
        "\n",
        "# index of first validation input\n",
        "i = -N//2\n",
        "\n",
        "while len(validation_predictions) < len(validation_target):\n",
        "  p = model.predict(X[i].reshape(1, -1))[0,0] # 1x1 array -> scalar\n",
        "  i += 1\n",
        "  \n",
        "  # update the predictions list\n",
        "  validation_predictions.append(p)"
      ],
      "execution_count": 0,
      "outputs": []
    },
    {
      "cell_type": "code",
      "metadata": {
        "id": "5JZRE1qaBDhn",
        "colab_type": "code",
        "colab": {}
      },
      "source": [
        "plt.plot(validation_target, label='forecast target')\n",
        "plt.plot(validation_predictions, label='forecast prediction')\n",
        "plt.legend()"
      ],
      "execution_count": 0,
      "outputs": []
    },
    {
      "cell_type": "code",
      "metadata": {
        "id": "j9Idhr4ss3g_",
        "colab_type": "code",
        "colab": {}
      },
      "source": [
        "# Forecast future values (use only self-predictions for making future predictions)\n",
        "\n",
        "validation_target = Y[-N//2:]\n",
        "validation_predictions = []\n",
        "\n",
        "# first validation input\n",
        "last_x = X[-N//2] # 1-D array of length T\n",
        "\n",
        "while len(validation_predictions) < len(validation_target):\n",
        "  p = model.predict(last_x.reshape(1, -1))[0,0] # 1x1 array -> scalar\n",
        "  \n",
        "  # update the predictions list\n",
        "  validation_predictions.append(p)\n",
        "  \n",
        "  # make the new input\n",
        "  #roll = shift function i.e. use last prediction value for future prediction\n",
        "  last_x = np.roll(last_x, -1)\n",
        "  last_x[-1] = p"
      ],
      "execution_count": 0,
      "outputs": []
    },
    {
      "cell_type": "code",
      "metadata": {
        "id": "i0QEZgwV3WPI",
        "colab_type": "code",
        "colab": {}
      },
      "source": [
        "plt.plot(validation_target, label='forecast target')\n",
        "plt.plot(validation_predictions, label='forecast prediction')\n",
        "plt.legend()"
      ],
      "execution_count": 0,
      "outputs": []
    }
  ]
}