{
  "nbformat": 4,
  "nbformat_minor": 0,
  "metadata": {
    "colab": {
      "name": "TF2.0 DeepLearning_TransferLearning_WithDataAugmentation",
      "provenance": [],
      "collapsed_sections": [],
      "authorship_tag": "ABX9TyPK0S2nXyRJPoWCuc/ocqqp",
      "include_colab_link": true
    },
    "kernelspec": {
      "name": "python3",
      "display_name": "Python 3"
    }
  },
  "cells": [
    {
      "cell_type": "markdown",
      "metadata": {
        "id": "view-in-github",
        "colab_type": "text"
      },
      "source": [
        "<a href=\"https://colab.research.google.com/github/NitinShindeJ/TensorFlow2.0/blob/master/My_learn_TF2.0/TF2_0_DeepLearning_TransferLearning_WithDataAugmentation.ipynb\" target=\"_parent\"><img src=\"https://colab.research.google.com/assets/colab-badge.svg\" alt=\"Open In Colab\"/></a>"
      ]
    },
    {
      "cell_type": "code",
      "metadata": {
        "id": "g9B63vE_Fqj7",
        "colab_type": "code",
        "colab": {
          "base_uri": "https://localhost:8080/",
          "height": 123
        },
        "outputId": "4176ad05-3ca7-418e-b111-9d214888b860"
      },
      "source": [
        "try:\n",
        "  %tensorflow_version 2.x  # Colab only.\n",
        "except Exception:\n",
        "  pass\n",
        "\n",
        "import tensorflow as tf\n",
        "print(tf.__version__)"
      ],
      "execution_count": 1,
      "outputs": [
        {
          "output_type": "stream",
          "text": [
            "`%tensorflow_version` only switches the major version: 1.x or 2.x.\n",
            "You set: `2.x  # Colab only.`. This will be interpreted as: `2.x`.\n",
            "\n",
            "\n",
            "TensorFlow 2.x selected.\n",
            "2.2.0-rc3\n"
          ],
          "name": "stdout"
        }
      ]
    },
    {
      "cell_type": "code",
      "metadata": {
        "id": "XLGyTExuGAiH",
        "colab_type": "code",
        "colab": {}
      },
      "source": [
        "import numpy as np\n",
        "import pandas as pd\n",
        "import matplotlib.pyplot as plt\n",
        "import sys, os"
      ],
      "execution_count": 0,
      "outputs": []
    },
    {
      "cell_type": "code",
      "metadata": {
        "id": "zIhbuy6RF_kZ",
        "colab_type": "code",
        "colab": {}
      },
      "source": [
        "# More imports\n",
        "from tensorflow.keras.layers import Input, Dense, Flatten\n",
        "from tensorflow.keras.models import Model\n",
        "from tensorflow.keras.optimizers import SGD, Adam\n",
        "from tensorflow.keras.preprocessing import image"
      ],
      "execution_count": 0,
      "outputs": []
    },
    {
      "cell_type": "code",
      "metadata": {
        "id": "m5Z2fzBUGMFe",
        "colab_type": "code",
        "colab": {}
      },
      "source": [
        "#Transfer Learning Imports\n",
        "from tensorflow.keras.applications.vgg16 import VGG16 as PretrainedModel, preprocess_input\n",
        "from tensorflow.keras.preprocessing.image import ImageDataGenerator"
      ],
      "execution_count": 0,
      "outputs": []
    },
    {
      "cell_type": "code",
      "metadata": {
        "id": "Z6Q6sEttGGns",
        "colab_type": "code",
        "colab": {}
      },
      "source": [
        "from glob import glob"
      ],
      "execution_count": 0,
      "outputs": []
    },
    {
      "cell_type": "code",
      "metadata": {
        "id": "AVsvrp9IGXhn",
        "colab_type": "code",
        "colab": {}
      },
      "source": [
        "#Data set fo Binary classification\n",
        "# Data from: https://mmspg.epfl.ch/downloads/food-image-datasets/\n",
        "# !wget --passive-ftp --prefer-family=ipv4 --ftp-user FoodImage@grebvm2.epfl.ch \\\n",
        "#  --ftp-password Cahc1moo -nc ftp://tremplin.epfl.ch/Food-5K.zip\n",
        "#!wget -nc https://lazyprogrammer.me/course_files/Food-5K.zip\n",
        "!wget -nc https://github.com/NitinShindeJ/TensorFlow2.0.git//Data/Food_Data.zip"
      ],
      "execution_count": 0,
      "outputs": []
    },
    {
      "cell_type": "code",
      "metadata": {
        "id": "whRULKCeGXt8",
        "colab_type": "code",
        "colab": {}
      },
      "source": [
        "!unzip -qq -o Food-5K.zip"
      ],
      "execution_count": 0,
      "outputs": []
    },
    {
      "cell_type": "code",
      "metadata": {
        "id": "hfsIFVenGj0O",
        "colab_type": "code",
        "colab": {
          "base_uri": "https://localhost:8080/",
          "height": 34
        },
        "outputId": "61fdc83e-27b7-498f-bb01-aaace4c2cab2"
      },
      "source": [
        "!ls "
      ],
      "execution_count": 8,
      "outputs": [
        {
          "output_type": "stream",
          "text": [
            "Data  Food_Data.zip  sample_data\n"
          ],
          "name": "stdout"
        }
      ]
    },
    {
      "cell_type": "code",
      "metadata": {
        "id": "8gBeJi2kGj-9",
        "colab_type": "code",
        "colab": {}
      },
      "source": [
        "#Files in training \n",
        "!ls Food-5K/training"
      ],
      "execution_count": 0,
      "outputs": []
    },
    {
      "cell_type": "code",
      "metadata": {
        "id": "QBGDU15JGvWs",
        "colab_type": "code",
        "colab": {}
      },
      "source": [
        "!mv Food-5K/* "
      ],
      "execution_count": 0,
      "outputs": []
    },
    {
      "cell_type": "code",
      "metadata": {
        "id": "1xBNJf08Gvfl",
        "colab_type": "code",
        "colab": {}
      },
      "source": [
        "# look at an image for fun\n",
        "plt.imshow(image.load_img('training/0_410.jpg'))\n",
        "plt.show()"
      ],
      "execution_count": 0,
      "outputs": []
    },
    {
      "cell_type": "code",
      "metadata": {
        "id": "MfIH_AgnGvjV",
        "colab_type": "code",
        "colab": {}
      },
      "source": [
        "# Food images start with 1, non-food images start with 0\n",
        "plt.imshow(image.load_img('training/1_616.jpg'))\n",
        "plt.show()"
      ],
      "execution_count": 0,
      "outputs": []
    },
    {
      "cell_type": "code",
      "metadata": {
        "id": "bJW1wc3rGvnH",
        "colab_type": "code",
        "colab": {}
      },
      "source": [
        "#Making folder Data\n",
        "!mkdir data"
      ],
      "execution_count": 0,
      "outputs": []
    },
    {
      "cell_type": "code",
      "metadata": {
        "id": "IPjsXwPEG5L3",
        "colab_type": "code",
        "colab": {}
      },
      "source": [
        "# Make directories to store the data Keras-style\n",
        "#making folders \n",
        "!mkdir data/train\n",
        "!mkdir data/test\n",
        "!mkdir data/train/nonfood\n",
        "!mkdir data/train/food\n",
        "!mkdir data/test/nonfood\n",
        "!mkdir data/test/food"
      ],
      "execution_count": 0,
      "outputs": []
    },
    {
      "cell_type": "code",
      "metadata": {
        "id": "0eRi8crEeGRf",
        "colab_type": "code",
        "colab": {}
      },
      "source": [
        "# Move the images\n",
        "# Note: we will consider 'training' to be the train set\n",
        "#       'validation' folder will be the test set\n",
        "#       ignore the 'evaluation' set\n",
        "!mv training/0*.jpg data/train/nonfood\n",
        "!mv training/1*.jpg data/train/food\n",
        "!mv validation/0*.jpg data/test/nonfood\n",
        "!mv validation/1*.jpg data/test/food"
      ],
      "execution_count": 0,
      "outputs": []
    },
    {
      "cell_type": "code",
      "metadata": {
        "id": "3WmHNAE65elD",
        "colab_type": "code",
        "colab": {}
      },
      "source": [
        "!unzip -qq -o Food_Data.zip"
      ],
      "execution_count": 0,
      "outputs": []
    },
    {
      "cell_type": "code",
      "metadata": {
        "id": "xu1nf5xkeiXs",
        "colab_type": "code",
        "colab": {}
      },
      "source": [
        "train_path = 'Data/train'\n",
        "valid_path = 'Data/test'"
      ],
      "execution_count": 0,
      "outputs": []
    },
    {
      "cell_type": "code",
      "metadata": {
        "id": "pS1RfyFueujP",
        "colab_type": "code",
        "colab": {}
      },
      "source": [
        "# These images are pretty big and of different sizes\n",
        "# Let's load them all in as the same (smaller) size\n",
        "IMAGE_SIZE = [200, 200]"
      ],
      "execution_count": 0,
      "outputs": []
    },
    {
      "cell_type": "code",
      "metadata": {
        "id": "iQ9p_iH1fEvv",
        "colab_type": "code",
        "colab": {}
      },
      "source": [
        "# useful for getting number of files\n",
        "image_files = glob(train_path + '/*/*.jpg')\n",
        "valid_image_files = glob(valid_path + '/*/*.jpg')"
      ],
      "execution_count": 0,
      "outputs": []
    },
    {
      "cell_type": "code",
      "metadata": {
        "id": "FsFgJn-6fI36",
        "colab_type": "code",
        "colab": {
          "base_uri": "https://localhost:8080/",
          "height": 34
        },
        "outputId": "a4ec217c-cd73-47e0-e98f-898ffd003ee7"
      },
      "source": [
        "# useful for getting number of classes\n",
        "folders = glob(train_path + '/*')\n",
        "folders"
      ],
      "execution_count": 12,
      "outputs": [
        {
          "output_type": "execute_result",
          "data": {
            "text/plain": [
              "['Data/train/food', 'Data/train/nonfood']"
            ]
          },
          "metadata": {
            "tags": []
          },
          "execution_count": 12
        }
      ]
    },
    {
      "cell_type": "code",
      "metadata": {
        "id": "Tt6ccnhhfJ6y",
        "colab_type": "code",
        "colab": {
          "base_uri": "https://localhost:8080/",
          "height": 268
        },
        "outputId": "6cf3fcaf-677d-4b84-9d52-6bad42d8ea3b"
      },
      "source": [
        "# look at an image for fun\n",
        "plt.imshow(image.load_img(np.random.choice(image_files)))\n",
        "plt.show()"
      ],
      "execution_count": 15,
      "outputs": [
        {
          "output_type": "display_data",
          "data": {
            "image/png": "[encoded data removed]",
            "text/plain": [
              "<Figure size 432x288 with 1 Axes>"
            ]
          },
          "metadata": {
            "tags": [],
            "needs_background": "light"
          }
        }
      ]
    },
    {
      "cell_type": "code",
      "metadata": {
        "id": "Mz1weoVCfN0-",
        "colab_type": "code",
        "colab": {
          "base_uri": "https://localhost:8080/",
          "height": 52
        },
        "outputId": "c199652c-a724-41e7-dce1-31a7c951af16"
      },
      "source": [
        "#VGG Model\n",
        "ptm = PretrainedModel(\n",
        "    input_shape=IMAGE_SIZE + [3], #Image size for inpput shape & [3] for color standard\n",
        "    weights='imagenet',\n",
        "    include_top=False) #layer upto final conv layer"
      ],
      "execution_count": 16,
      "outputs": [
        {
          "output_type": "stream",
          "text": [
            "Downloading data from https://storage.googleapis.com/tensorflow/keras-applications/vgg16/vgg16_weights_tf_dim_ordering_tf_kernels_notop.h5\n",
            "58892288/58889256 [==============================] - 1s 0us/step\n"
          ],
          "name": "stdout"
        }
      ]
    },
    {
      "cell_type": "code",
      "metadata": {
        "id": "45WQBt9pfiG5",
        "colab_type": "code",
        "colab": {}
      },
      "source": [
        "# freeze pretrained model weights\n",
        "ptm.trainable = False"
      ],
      "execution_count": 0,
      "outputs": []
    },
    {
      "cell_type": "code",
      "metadata": {
        "id": "YkxxS9zifoR3",
        "colab_type": "code",
        "colab": {}
      },
      "source": [
        "# map the data into feature vectors\n",
        "\n",
        "# Keras image data generator returns classes one-hot encoded\n",
        "\n",
        "K = len(folders) # number of classes\n",
        "x = Flatten()(ptm.output)\n",
        "x = Dense(K, activation='softmax')(x)"
      ],
      "execution_count": 0,
      "outputs": []
    },
    {
      "cell_type": "code",
      "metadata": {
        "id": "TqzghjxNftgX",
        "colab_type": "code",
        "colab": {}
      },
      "source": [
        "# create a model object\n",
        "model = Model(inputs=ptm.input, outputs=x)"
      ],
      "execution_count": 0,
      "outputs": []
    },
    {
      "cell_type": "code",
      "metadata": {
        "id": "U8EO7sLIft1r",
        "colab_type": "code",
        "colab": {
          "base_uri": "https://localhost:8080/",
          "height": 905
        },
        "outputId": "14e6c287-6355-4900-836c-f849d81e7c5f"
      },
      "source": [
        "# view the structure of the model\n",
        "model.summary()"
      ],
      "execution_count": 20,
      "outputs": [
        {
          "output_type": "stream",
          "text": [
            "Model: \"model\"\n",
            "_________________________________________________________________\n",
            "Layer (type)                 Output Shape              Param #   \n",
            "=================================================================\n",
            "input_1 (InputLayer)         [(None, 200, 200, 3)]     0         \n",
            "_________________________________________________________________\n",
            "block1_conv1 (Conv2D)        (None, 200, 200, 64)      1792      \n",
            "_________________________________________________________________\n",
            "block1_conv2 (Conv2D)        (None, 200, 200, 64)      36928     \n",
            "_________________________________________________________________\n",
            "block1_pool (MaxPooling2D)   (None, 100, 100, 64)      0         \n",
            "_________________________________________________________________\n",
            "block2_conv1 (Conv2D)        (None, 100, 100, 128)     73856     \n",
            "_________________________________________________________________\n",
            "block2_conv2 (Conv2D)        (None, 100, 100, 128)     147584    \n",
            "_________________________________________________________________\n",
            "block2_pool (MaxPooling2D)   (None, 50, 50, 128)       0         \n",
            "_________________________________________________________________\n",
            "block3_conv1 (Conv2D)        (None, 50, 50, 256)       295168    \n",
            "_________________________________________________________________\n",
            "block3_conv2 (Conv2D)        (None, 50, 50, 256)       590080    \n",
            "_________________________________________________________________\n",
            "block3_conv3 (Conv2D)        (None, 50, 50, 256)       590080    \n",
            "_________________________________________________________________\n",
            "block3_pool (MaxPooling2D)   (None, 25, 25, 256)       0         \n",
            "_________________________________________________________________\n",
            "block4_conv1 (Conv2D)        (None, 25, 25, 512)       1180160   \n",
            "_________________________________________________________________\n",
            "block4_conv2 (Conv2D)        (None, 25, 25, 512)       2359808   \n",
            "_________________________________________________________________\n",
            "block4_conv3 (Conv2D)        (None, 25, 25, 512)       2359808   \n",
            "_________________________________________________________________\n",
            "block4_pool (MaxPooling2D)   (None, 12, 12, 512)       0         \n",
            "_________________________________________________________________\n",
            "block5_conv1 (Conv2D)        (None, 12, 12, 512)       2359808   \n",
            "_________________________________________________________________\n",
            "block5_conv2 (Conv2D)        (None, 12, 12, 512)       2359808   \n",
            "_________________________________________________________________\n",
            "block5_conv3 (Conv2D)        (None, 12, 12, 512)       2359808   \n",
            "_________________________________________________________________\n",
            "block5_pool (MaxPooling2D)   (None, 6, 6, 512)         0         \n",
            "_________________________________________________________________\n",
            "flatten (Flatten)            (None, 18432)             0         \n",
            "_________________________________________________________________\n",
            "dense (Dense)                (None, 2)                 36866     \n",
            "=================================================================\n",
            "Total params: 14,751,554\n",
            "Trainable params: 36,866\n",
            "Non-trainable params: 14,714,688\n",
            "_________________________________________________________________\n"
          ],
          "name": "stdout"
        }
      ]
    },
    {
      "cell_type": "code",
      "metadata": {
        "id": "wKC5ilt4hc1K",
        "colab_type": "code",
        "colab": {}
      },
      "source": [
        "# create an instance of ImageDataGenerator\n",
        "gen_train = ImageDataGenerator(\n",
        "  rotation_range=20,\n",
        "  width_shift_range=0.1,\n",
        "  height_shift_range=0.1,\n",
        "  shear_range=0.1,\n",
        "  zoom_range=0.2,\n",
        "  horizontal_flip=True,\n",
        "  preprocessing_function=preprocess_input\n",
        ")\n",
        "\n",
        "gen_test = ImageDataGenerator(\n",
        "  preprocessing_function=preprocess_input\n",
        ")"
      ],
      "execution_count": 0,
      "outputs": []
    },
    {
      "cell_type": "code",
      "metadata": {
        "id": "SgtuBIoThuZc",
        "colab_type": "code",
        "colab": {
          "base_uri": "https://localhost:8080/",
          "height": 52
        },
        "outputId": "40ade22d-1ff3-4c86-c9c0-8ecb27b324ca"
      },
      "source": [
        "batch_size = 128\n",
        "\n",
        "# create generators\n",
        "train_generator = gen_train.flow_from_directory(\n",
        "  train_path,\n",
        "  shuffle=True,\n",
        "  target_size=IMAGE_SIZE,\n",
        "  batch_size=batch_size,\n",
        ")\n",
        "valid_generator = gen_test.flow_from_directory(\n",
        "  valid_path,\n",
        "  target_size=IMAGE_SIZE,\n",
        "  batch_size=batch_size,\n",
        ")"
      ],
      "execution_count": 22,
      "outputs": [
        {
          "output_type": "stream",
          "text": [
            "Found 3000 images belonging to 2 classes.\n",
            "Found 1000 images belonging to 2 classes.\n"
          ],
          "name": "stdout"
        }
      ]
    },
    {
      "cell_type": "code",
      "metadata": {
        "id": "I5pDP0IStBZp",
        "colab_type": "code",
        "colab": {}
      },
      "source": [
        "model.compile(\n",
        "  loss='categorical_crossentropy',\n",
        "  optimizer='adam',\n",
        "  metrics=['accuracy']\n",
        ")"
      ],
      "execution_count": 0,
      "outputs": []
    },
    {
      "cell_type": "code",
      "metadata": {
        "id": "rlwkypTAsqW2",
        "colab_type": "code",
        "colab": {
          "base_uri": "https://localhost:8080/",
          "height": 425
        },
        "outputId": "a628ad19-2aa6-47aa-d15f-e3ee1141bfa1"
      },
      "source": [
        "# fit the model\n",
        "r = model.fit_generator(\n",
        "  train_generator,\n",
        "  validation_data=valid_generator,\n",
        "  epochs=10,\n",
        "  steps_per_epoch=int(np.ceil(len(image_files) / batch_size)),\n",
        "  validation_steps=int(np.ceil(len(valid_image_files) / batch_size)),\n",
        ")"
      ],
      "execution_count": 24,
      "outputs": [
        {
          "output_type": "stream",
          "text": [
            "WARNING:tensorflow:From <ipython-input-24-e491934f98c9>:6: Model.fit_generator (from tensorflow.python.keras.engine.training) is deprecated and will be removed in a future version.\n",
            "Instructions for updating:\n",
            "Please use Model.fit, which supports generators.\n",
            "Epoch 1/10\n",
            "24/24 [==============================] - 1559s 65s/step - loss: 2.2492 - accuracy: 0.9053 - val_loss: 0.4687 - val_accuracy: 0.9790\n",
            "Epoch 2/10\n",
            "24/24 [==============================] - 1565s 65s/step - loss: 0.5146 - accuracy: 0.9783 - val_loss: 0.4157 - val_accuracy: 0.9830\n",
            "Epoch 3/10\n",
            "24/24 [==============================] - 1561s 65s/step - loss: 0.4015 - accuracy: 0.9810 - val_loss: 0.4833 - val_accuracy: 0.9800\n",
            "Epoch 4/10\n",
            "24/24 [==============================] - 1571s 65s/step - loss: 0.2260 - accuracy: 0.9887 - val_loss: 0.6071 - val_accuracy: 0.9680\n",
            "Epoch 5/10\n",
            "24/24 [==============================] - 1556s 65s/step - loss: 0.2020 - accuracy: 0.9873 - val_loss: 0.4171 - val_accuracy: 0.9810\n",
            "Epoch 6/10\n",
            "24/24 [==============================] - 1561s 65s/step - loss: 0.2237 - accuracy: 0.9847 - val_loss: 0.8547 - val_accuracy: 0.9710\n",
            "Epoch 7/10\n",
            "24/24 [==============================] - 1575s 66s/step - loss: 0.2043 - accuracy: 0.9897 - val_loss: 0.5111 - val_accuracy: 0.9780\n",
            "Epoch 8/10\n",
            "24/24 [==============================] - 1573s 66s/step - loss: 0.1293 - accuracy: 0.9917 - val_loss: 0.5667 - val_accuracy: 0.9820\n",
            "Epoch 9/10\n",
            "24/24 [==============================] - 1575s 66s/step - loss: 0.1546 - accuracy: 0.9893 - val_loss: 0.5955 - val_accuracy: 0.9820\n",
            "Epoch 10/10\n",
            "24/24 [==============================] - 1564s 65s/step - loss: 0.1145 - accuracy: 0.9920 - val_loss: 0.6759 - val_accuracy: 0.9740\n"
          ],
          "name": "stdout"
        }
      ]
    },
    {
      "cell_type": "code",
      "metadata": {
        "id": "344JeS4eZIUP",
        "colab_type": "code",
        "colab": {
          "base_uri": "https://localhost:8080/",
          "height": 238
        },
        "outputId": "dcad50fd-42a7-439c-bc24-8025f80d75d6"
      },
      "source": [
        "# create a 2nd train generator which does not use data augmentation\n",
        "# to get the true train accuracy\n",
        "train_generator2 = gen_test.flow_from_directory(\n",
        "  train_path,\n",
        "  target_size=IMAGE_SIZE,\n",
        "  batch_size=batch_size,\n",
        ")\n",
        "model.evaluate_generator(\n",
        "    train_generator2,\n",
        "    steps=int(np.ceil(len(image_files) / batch_size)))"
      ],
      "execution_count": 3,
      "outputs": [
        {
          "output_type": "error",
          "ename": "NameError",
          "evalue": "ignored",
          "traceback": [
            "\u001b[0;31m---------------------------------------------------------------------------\u001b[0m",
            "\u001b[0;31mNameError\u001b[0m                                 Traceback (most recent call last)",
            "\u001b[0;32m<ipython-input-3-56760adedc0d>\u001b[0m in \u001b[0;36m<module>\u001b[0;34m()\u001b[0m\n\u001b[0;32m----> 1\u001b[0;31m train_generator2 = gen_test.flow_from_directory(\n\u001b[0m\u001b[1;32m      2\u001b[0m   \u001b[0mtrain_path\u001b[0m\u001b[0;34m,\u001b[0m\u001b[0;34m\u001b[0m\u001b[0;34m\u001b[0m\u001b[0m\n\u001b[1;32m      3\u001b[0m   \u001b[0mtarget_size\u001b[0m\u001b[0;34m=\u001b[0m\u001b[0mIMAGE_SIZE\u001b[0m\u001b[0;34m,\u001b[0m\u001b[0;34m\u001b[0m\u001b[0;34m\u001b[0m\u001b[0m\n\u001b[1;32m      4\u001b[0m   \u001b[0mbatch_size\u001b[0m\u001b[0;34m=\u001b[0m\u001b[0mbatch_size\u001b[0m\u001b[0;34m,\u001b[0m\u001b[0;34m\u001b[0m\u001b[0;34m\u001b[0m\u001b[0m\n\u001b[1;32m      5\u001b[0m )\n",
            "\u001b[0;31mNameError\u001b[0m: name 'gen_test' is not defined"
          ]
        }
      ]
    },
    {
      "cell_type": "code",
      "metadata": {
        "id": "2oa3tHhOSC8J",
        "colab_type": "code",
        "colab": {
          "base_uri": "https://localhost:8080/",
          "height": 221
        },
        "outputId": "86a230ff-9d65-406b-d826-caf44f256a5e"
      },
      "source": [
        "# loss\n",
        "plt.plot(r.history['loss'], label='train loss')\n",
        "plt.plot(r.history['val_loss'], label='val loss')\n",
        "plt.legend()\n",
        "plt.show()"
      ],
      "execution_count": 1,
      "outputs": [
        {
          "output_type": "error",
          "ename": "NameError",
          "evalue": "ignored",
          "traceback": [
            "\u001b[0;31m---------------------------------------------------------------------------\u001b[0m",
            "\u001b[0;31mNameError\u001b[0m                                 Traceback (most recent call last)",
            "\u001b[0;32m<ipython-input-1-ab8509e5891e>\u001b[0m in \u001b[0;36m<module>\u001b[0;34m()\u001b[0m\n\u001b[0;32m----> 1\u001b[0;31m \u001b[0mplt\u001b[0m\u001b[0;34m.\u001b[0m\u001b[0mplot\u001b[0m\u001b[0;34m(\u001b[0m\u001b[0mr\u001b[0m\u001b[0;34m.\u001b[0m\u001b[0mhistory\u001b[0m\u001b[0;34m[\u001b[0m\u001b[0;34m'loss'\u001b[0m\u001b[0;34m]\u001b[0m\u001b[0;34m,\u001b[0m \u001b[0mlabel\u001b[0m\u001b[0;34m=\u001b[0m\u001b[0;34m'train loss'\u001b[0m\u001b[0;34m)\u001b[0m\u001b[0;34m\u001b[0m\u001b[0;34m\u001b[0m\u001b[0m\n\u001b[0m\u001b[1;32m      2\u001b[0m \u001b[0mplt\u001b[0m\u001b[0;34m.\u001b[0m\u001b[0mplot\u001b[0m\u001b[0;34m(\u001b[0m\u001b[0mr\u001b[0m\u001b[0;34m.\u001b[0m\u001b[0mhistory\u001b[0m\u001b[0;34m[\u001b[0m\u001b[0;34m'val_loss'\u001b[0m\u001b[0;34m]\u001b[0m\u001b[0;34m,\u001b[0m \u001b[0mlabel\u001b[0m\u001b[0;34m=\u001b[0m\u001b[0;34m'val loss'\u001b[0m\u001b[0;34m)\u001b[0m\u001b[0;34m\u001b[0m\u001b[0;34m\u001b[0m\u001b[0m\n\u001b[1;32m      3\u001b[0m \u001b[0mplt\u001b[0m\u001b[0;34m.\u001b[0m\u001b[0mlegend\u001b[0m\u001b[0;34m(\u001b[0m\u001b[0;34m)\u001b[0m\u001b[0;34m\u001b[0m\u001b[0;34m\u001b[0m\u001b[0m\n\u001b[1;32m      4\u001b[0m \u001b[0mplt\u001b[0m\u001b[0;34m.\u001b[0m\u001b[0mshow\u001b[0m\u001b[0;34m(\u001b[0m\u001b[0;34m)\u001b[0m\u001b[0;34m\u001b[0m\u001b[0;34m\u001b[0m\u001b[0m\n",
            "\u001b[0;31mNameError\u001b[0m: name 'plt' is not defined"
          ]
        }
      ]
    },
    {
      "cell_type": "code",
      "metadata": {
        "id": "T3urB6c6SDaU",
        "colab_type": "code",
        "colab": {}
      },
      "source": [
        "# accuracies\n",
        "plt.plot(r.history['accuracy'], label='train acc')\n",
        "plt.plot(r.history['val_accuracy'], label='val acc')\n",
        "plt.legend()\n",
        "plt.show()"
      ],
      "execution_count": 0,
      "outputs": []
    },
    {
      "cell_type": "code",
      "metadata": {
        "id": "b7CYkghkr4d3",
        "colab_type": "code",
        "colab": {}
      },
      "source": [
        ""
      ],
      "execution_count": 0,
      "outputs": []
    },
    {
      "cell_type": "code",
      "metadata": {
        "id": "EWb6-n8Fr4t0",
        "colab_type": "code",
        "colab": {}
      },
      "source": [
        ""
      ],
      "execution_count": 0,
      "outputs": []
    }
  ]
}