{
  "nbformat": 4,
  "nbformat_minor": 0,
  "metadata": {
    "colab": {
      "name": "TF2.0_StockPrediction_Learn",
      "provenance": [],
      "authorship_tag": "ABX9TyMHBk4vRWfRslgZ7H1u7jh7",
      "include_colab_link": true
    },
    "kernelspec": {
      "name": "python3",
      "display_name": "Python 3"
    }
  },
  "cells": [
    {
      "cell_type": "markdown",
      "metadata": {
        "id": "view-in-github",
        "colab_type": "text"
      },
      "source": [
        "<a href=\"https://colab.research.google.com/github/NitinShindeJ/TensorFlow2.0/blob/master/My_learn_TF2.0/TF2_0_StockPrediction_Learn.ipynb\" target=\"_parent\"><img src=\"https://colab.research.google.com/assets/colab-badge.svg\" alt=\"Open In Colab\"/></a>"
      ]
    },
    {
      "cell_type": "code",
      "metadata": {
        "id": "JkljvqYBN0Fa",
        "colab_type": "code",
        "outputId": "ae677e56-8138-4400-f091-5c06b3e50b0f",
        "colab": {
          "base_uri": "https://localhost:8080/",
          "height": 123
        }
      },
      "source": [
        "# Install TensorFlow\n",
        "# !pip install -q tensorflow-gpu==2.0.0-beta1\n",
        "\n",
        "try:\n",
        "  %tensorflow_version 2.x  # Colab only.\n",
        "except Exception:\n",
        "  pass\n",
        "\n",
        "import tensorflow as tf\n",
        "print(tf.__version__)"
      ],
      "execution_count": 1,
      "outputs": [
        {
          "output_type": "stream",
          "text": [
            "`%tensorflow_version` only switches the major version: 1.x or 2.x.\n",
            "You set: `2.x  # Colab only.`. This will be interpreted as: `2.x`.\n",
            "\n",
            "\n",
            "TensorFlow 2.x selected.\n",
            "2.2.0-rc3\n"
          ],
          "name": "stdout"
        }
      ]
    },
    {
      "cell_type": "code",
      "metadata": {
        "id": "AJ1XDZAJNjNG",
        "colab_type": "code",
        "colab": {}
      },
      "source": [
        "# More imports\n",
        "from tensorflow.keras.layers import Input, LSTM, GRU, SimpleRNN, Dense, GlobalMaxPool1D\n",
        "from tensorflow.keras.models import Model\n",
        "from tensorflow.keras.optimizers import SGD, Adam\n",
        "\n",
        "import numpy as np\n",
        "import pandas as pd\n",
        "import matplotlib.pyplot as plt\n",
        "from sklearn.preprocessing import StandardScaler"
      ],
      "execution_count": 0,
      "outputs": []
    },
    {
      "cell_type": "code",
      "metadata": {
        "id": "DhvsuKhcNq7t",
        "colab_type": "code",
        "colab": {}
      },
      "source": [
        "# yes, you can read dataframes from URLs!\n",
        "df = pd.read_csv('https://raw.githubusercontent.com/lazyprogrammer/machine_learning_examples/master/tf2.0/sbux.csv')"
      ],
      "execution_count": 0,
      "outputs": []
    },
    {
      "cell_type": "code",
      "metadata": {
        "id": "vWSPFdncODH9",
        "colab_type": "code",
        "outputId": "2df505c2-a8a3-4ef5-ba92-2a4c64bea72e",
        "colab": {
          "base_uri": "https://localhost:8080/",
          "height": 197
        }
      },
      "source": [
        "df.head()"
      ],
      "execution_count": 4,
      "outputs": [
        {
          "output_type": "execute_result",
          "data": {
            "text/html": [
              "<div>\n",
              "<style scoped>\n",
              "    .dataframe tbody tr th:only-of-type {\n",
              "        vertical-align: middle;\n",
              "    }\n",
              "\n",
              "    .dataframe tbody tr th {\n",
              "        vertical-align: top;\n",
              "    }\n",
              "\n",
              "    .dataframe thead th {\n",
              "        text-align: right;\n",
              "    }\n",
              "</style>\n",
              "<table border=\"1\" class=\"dataframe\">\n",
              "  <thead>\n",
              "    <tr style=\"text-align: right;\">\n",
              "      <th></th>\n",
              "      <th>date</th>\n",
              "      <th>open</th>\n",
              "      <th>high</th>\n",
              "      <th>low</th>\n",
              "      <th>close</th>\n",
              "      <th>volume</th>\n",
              "      <th>Name</th>\n",
              "    </tr>\n",
              "  </thead>\n",
              "  <tbody>\n",
              "    <tr>\n",
              "      <th>0</th>\n",
              "      <td>2013-02-08</td>\n",
              "      <td>27.920</td>\n",
              "      <td>28.325</td>\n",
              "      <td>27.920</td>\n",
              "      <td>28.185</td>\n",
              "      <td>7146296</td>\n",
              "      <td>SBUX</td>\n",
              "    </tr>\n",
              "    <tr>\n",
              "      <th>1</th>\n",
              "      <td>2013-02-11</td>\n",
              "      <td>28.260</td>\n",
              "      <td>28.260</td>\n",
              "      <td>27.930</td>\n",
              "      <td>28.070</td>\n",
              "      <td>5457354</td>\n",
              "      <td>SBUX</td>\n",
              "    </tr>\n",
              "    <tr>\n",
              "      <th>2</th>\n",
              "      <td>2013-02-12</td>\n",
              "      <td>28.000</td>\n",
              "      <td>28.275</td>\n",
              "      <td>27.975</td>\n",
              "      <td>28.130</td>\n",
              "      <td>8665592</td>\n",
              "      <td>SBUX</td>\n",
              "    </tr>\n",
              "    <tr>\n",
              "      <th>3</th>\n",
              "      <td>2013-02-13</td>\n",
              "      <td>28.230</td>\n",
              "      <td>28.230</td>\n",
              "      <td>27.750</td>\n",
              "      <td>27.915</td>\n",
              "      <td>7022056</td>\n",
              "      <td>SBUX</td>\n",
              "    </tr>\n",
              "    <tr>\n",
              "      <th>4</th>\n",
              "      <td>2013-02-14</td>\n",
              "      <td>27.765</td>\n",
              "      <td>27.905</td>\n",
              "      <td>27.675</td>\n",
              "      <td>27.775</td>\n",
              "      <td>8899188</td>\n",
              "      <td>SBUX</td>\n",
              "    </tr>\n",
              "  </tbody>\n",
              "</table>\n",
              "</div>"
            ],
            "text/plain": [
              "         date    open    high     low   close   volume  Name\n",
              "0  2013-02-08  27.920  28.325  27.920  28.185  7146296  SBUX\n",
              "1  2013-02-11  28.260  28.260  27.930  28.070  5457354  SBUX\n",
              "2  2013-02-12  28.000  28.275  27.975  28.130  8665592  SBUX\n",
              "3  2013-02-13  28.230  28.230  27.750  27.915  7022056  SBUX\n",
              "4  2013-02-14  27.765  27.905  27.675  27.775  8899188  SBUX"
            ]
          },
          "metadata": {
            "tags": []
          },
          "execution_count": 4
        }
      ]
    },
    {
      "cell_type": "code",
      "metadata": {
        "id": "NLmweO2o-wgS",
        "colab_type": "code",
        "outputId": "960350ad-e16d-4e9e-c157-944833acdb49",
        "colab": {
          "base_uri": "https://localhost:8080/",
          "height": 197
        }
      },
      "source": [
        "df.tail()"
      ],
      "execution_count": 5,
      "outputs": [
        {
          "output_type": "execute_result",
          "data": {
            "text/html": [
              "<div>\n",
              "<style scoped>\n",
              "    .dataframe tbody tr th:only-of-type {\n",
              "        vertical-align: middle;\n",
              "    }\n",
              "\n",
              "    .dataframe tbody tr th {\n",
              "        vertical-align: top;\n",
              "    }\n",
              "\n",
              "    .dataframe thead th {\n",
              "        text-align: right;\n",
              "    }\n",
              "</style>\n",
              "<table border=\"1\" class=\"dataframe\">\n",
              "  <thead>\n",
              "    <tr style=\"text-align: right;\">\n",
              "      <th></th>\n",
              "      <th>date</th>\n",
              "      <th>open</th>\n",
              "      <th>high</th>\n",
              "      <th>low</th>\n",
              "      <th>close</th>\n",
              "      <th>volume</th>\n",
              "      <th>Name</th>\n",
              "    </tr>\n",
              "  </thead>\n",
              "  <tbody>\n",
              "    <tr>\n",
              "      <th>1254</th>\n",
              "      <td>2018-02-01</td>\n",
              "      <td>56.280</td>\n",
              "      <td>56.42</td>\n",
              "      <td>55.89</td>\n",
              "      <td>56.00</td>\n",
              "      <td>14690146</td>\n",
              "      <td>SBUX</td>\n",
              "    </tr>\n",
              "    <tr>\n",
              "      <th>1255</th>\n",
              "      <td>2018-02-02</td>\n",
              "      <td>55.900</td>\n",
              "      <td>56.32</td>\n",
              "      <td>55.70</td>\n",
              "      <td>55.77</td>\n",
              "      <td>15358909</td>\n",
              "      <td>SBUX</td>\n",
              "    </tr>\n",
              "    <tr>\n",
              "      <th>1256</th>\n",
              "      <td>2018-02-05</td>\n",
              "      <td>55.530</td>\n",
              "      <td>56.26</td>\n",
              "      <td>54.57</td>\n",
              "      <td>54.69</td>\n",
              "      <td>16059955</td>\n",
              "      <td>SBUX</td>\n",
              "    </tr>\n",
              "    <tr>\n",
              "      <th>1257</th>\n",
              "      <td>2018-02-06</td>\n",
              "      <td>53.685</td>\n",
              "      <td>56.06</td>\n",
              "      <td>53.56</td>\n",
              "      <td>55.61</td>\n",
              "      <td>17415065</td>\n",
              "      <td>SBUX</td>\n",
              "    </tr>\n",
              "    <tr>\n",
              "      <th>1258</th>\n",
              "      <td>2018-02-07</td>\n",
              "      <td>55.080</td>\n",
              "      <td>55.43</td>\n",
              "      <td>54.44</td>\n",
              "      <td>54.46</td>\n",
              "      <td>13927022</td>\n",
              "      <td>SBUX</td>\n",
              "    </tr>\n",
              "  </tbody>\n",
              "</table>\n",
              "</div>"
            ],
            "text/plain": [
              "            date    open   high    low  close    volume  Name\n",
              "1254  2018-02-01  56.280  56.42  55.89  56.00  14690146  SBUX\n",
              "1255  2018-02-02  55.900  56.32  55.70  55.77  15358909  SBUX\n",
              "1256  2018-02-05  55.530  56.26  54.57  54.69  16059955  SBUX\n",
              "1257  2018-02-06  53.685  56.06  53.56  55.61  17415065  SBUX\n",
              "1258  2018-02-07  55.080  55.43  54.44  54.46  13927022  SBUX"
            ]
          },
          "metadata": {
            "tags": []
          },
          "execution_count": 5
        }
      ]
    },
    {
      "cell_type": "code",
      "metadata": {
        "id": "qczc-TUNO0th",
        "colab_type": "code",
        "colab": {}
      },
      "source": [
        "# Start by doing the WRONG thing - trying to predict the price itself\n",
        "series = df['close'].values.reshape(-1, 1)"
      ],
      "execution_count": 0,
      "outputs": []
    },
    {
      "cell_type": "code",
      "metadata": {
        "id": "X6lJwsOgPVaB",
        "colab_type": "code",
        "colab": {}
      },
      "source": [
        "# Normalize the data\n",
        "# Note: I didn't think about where the true boundary is, this is just approx.\n",
        "scaler = StandardScaler()\n",
        "scaler.fit(series[:len(series) // 2])\n",
        "series = scaler.transform(series).flatten()"
      ],
      "execution_count": 0,
      "outputs": []
    },
    {
      "cell_type": "code",
      "metadata": {
        "id": "3j6Jk2pkPTjE",
        "colab_type": "code",
        "outputId": "db2b33b0-c494-40e5-b9ec-0234466f3ce8",
        "colab": {
          "base_uri": "https://localhost:8080/",
          "height": 34
        }
      },
      "source": [
        "### build the dataset\n",
        "# let's see if we can use T past values to predict the next value\n",
        "T = 10\n",
        "D = 1\n",
        "X = []\n",
        "Y = []\n",
        "for t in range(len(series) - T):\n",
        "  x = series[t:t+T]\n",
        "  X.append(x)\n",
        "  y = series[t+T]\n",
        "  Y.append(y)\n",
        "\n",
        "X = np.array(X).reshape(-1, T, 1) # Now the data should be N x T x D\n",
        "Y = np.array(Y)\n",
        "N = len(X)\n",
        "print(\"X.shape\", X.shape, \"Y.shape\", Y.shape)"
      ],
      "execution_count": 17,
      "outputs": [
        {
          "output_type": "stream",
          "text": [
            "X.shape (1249, 10, 1) Y.shape (1249,)\n"
          ],
          "name": "stdout"
        }
      ]
    },
    {
      "cell_type": "code",
      "metadata": {
        "id": "R5uMLXonPEnZ",
        "colab_type": "code",
        "outputId": "d409d08f-649a-445d-d785-28a546e6509d",
        "colab": {
          "base_uri": "https://localhost:8080/",
          "height": 1000
        }
      },
      "source": [
        "### try autoregressive RNN model\n",
        "i = Input(shape=(T, 1))\n",
        "x = LSTM(5)(i)\n",
        "x = Dense(1)(x)\n",
        "model = Model(i, x)\n",
        "model.compile(\n",
        "  loss='mse',\n",
        "  optimizer=Adam(lr=0.1),\n",
        ")\n",
        "\n",
        "# train the RNN\n",
        "r = model.fit(\n",
        "  X[:-N//2], Y[:-N//2],\n",
        "  epochs=80,\n",
        "  validation_data=(X[-N//2:], Y[-N//2:]),\n",
        ")"
      ],
      "execution_count": 18,
      "outputs": [
        {
          "output_type": "stream",
          "text": [
            "Epoch 1/80\n",
            "20/20 [==============================] - 0s 22ms/step - loss: 0.1085 - val_loss: 0.0579\n",
            "Epoch 2/80\n",
            "20/20 [==============================] - 0s 7ms/step - loss: 0.0118 - val_loss: 0.0693\n",
            "Epoch 3/80\n",
            "20/20 [==============================] - 0s 7ms/step - loss: 0.0075 - val_loss: 0.0480\n",
            "Epoch 4/80\n",
            "20/20 [==============================] - 0s 7ms/step - loss: 0.0064 - val_loss: 0.0409\n",
            "Epoch 5/80\n",
            "20/20 [==============================] - 0s 7ms/step - loss: 0.0060 - val_loss: 0.0273\n",
            "Epoch 6/80\n",
            "20/20 [==============================] - 0s 7ms/step - loss: 0.0062 - val_loss: 0.0337\n",
            "Epoch 7/80\n",
            "20/20 [==============================] - 0s 7ms/step - loss: 0.0064 - val_loss: 0.0417\n",
            "Epoch 8/80\n",
            "20/20 [==============================] - 0s 7ms/step - loss: 0.0058 - val_loss: 0.0577\n",
            "Epoch 9/80\n",
            "20/20 [==============================] - 0s 7ms/step - loss: 0.0069 - val_loss: 0.0497\n",
            "Epoch 10/80\n",
            "20/20 [==============================] - 0s 7ms/step - loss: 0.0062 - val_loss: 0.0228\n",
            "Epoch 11/80\n",
            "20/20 [==============================] - 0s 7ms/step - loss: 0.0068 - val_loss: 0.0194\n",
            "Epoch 12/80\n",
            "20/20 [==============================] - 0s 7ms/step - loss: 0.0096 - val_loss: 0.0398\n",
            "Epoch 13/80\n",
            "20/20 [==============================] - 0s 7ms/step - loss: 0.0094 - val_loss: 0.0207\n",
            "Epoch 14/80\n",
            "20/20 [==============================] - 0s 7ms/step - loss: 0.0077 - val_loss: 0.0312\n",
            "Epoch 15/80\n",
            "20/20 [==============================] - 0s 7ms/step - loss: 0.0061 - val_loss: 0.0215\n",
            "Epoch 16/80\n",
            "20/20 [==============================] - 0s 7ms/step - loss: 0.0066 - val_loss: 0.0986\n",
            "Epoch 17/80\n",
            "20/20 [==============================] - 0s 7ms/step - loss: 0.0117 - val_loss: 0.0371\n",
            "Epoch 18/80\n",
            "20/20 [==============================] - 0s 7ms/step - loss: 0.0100 - val_loss: 0.0341\n",
            "Epoch 19/80\n",
            "20/20 [==============================] - 0s 7ms/step - loss: 0.0059 - val_loss: 0.0237\n",
            "Epoch 20/80\n",
            "20/20 [==============================] - 0s 7ms/step - loss: 0.0062 - val_loss: 0.0203\n",
            "Epoch 21/80\n",
            "20/20 [==============================] - 0s 7ms/step - loss: 0.0056 - val_loss: 0.0194\n",
            "Epoch 22/80\n",
            "20/20 [==============================] - 0s 7ms/step - loss: 0.0057 - val_loss: 0.0223\n",
            "Epoch 23/80\n",
            "20/20 [==============================] - 0s 7ms/step - loss: 0.0062 - val_loss: 0.0202\n",
            "Epoch 24/80\n",
            "20/20 [==============================] - 0s 7ms/step - loss: 0.0054 - val_loss: 0.0203\n",
            "Epoch 25/80\n",
            "20/20 [==============================] - 0s 7ms/step - loss: 0.0085 - val_loss: 0.0253\n",
            "Epoch 26/80\n",
            "20/20 [==============================] - 0s 7ms/step - loss: 0.0059 - val_loss: 0.0347\n",
            "Epoch 27/80\n",
            "20/20 [==============================] - 0s 7ms/step - loss: 0.0058 - val_loss: 0.0170\n",
            "Epoch 28/80\n",
            "20/20 [==============================] - 0s 7ms/step - loss: 0.0059 - val_loss: 0.0198\n",
            "Epoch 29/80\n",
            "20/20 [==============================] - 0s 7ms/step - loss: 0.0067 - val_loss: 0.0267\n",
            "Epoch 30/80\n",
            "20/20 [==============================] - 0s 7ms/step - loss: 0.0055 - val_loss: 0.0326\n",
            "Epoch 31/80\n",
            "20/20 [==============================] - 0s 7ms/step - loss: 0.0051 - val_loss: 0.0336\n",
            "Epoch 32/80\n",
            "20/20 [==============================] - 0s 7ms/step - loss: 0.0056 - val_loss: 0.0233\n",
            "Epoch 33/80\n",
            "20/20 [==============================] - 0s 7ms/step - loss: 0.0054 - val_loss: 0.0353\n",
            "Epoch 34/80\n",
            "20/20 [==============================] - 0s 7ms/step - loss: 0.0054 - val_loss: 0.0170\n",
            "Epoch 35/80\n",
            "20/20 [==============================] - 0s 7ms/step - loss: 0.0061 - val_loss: 0.0234\n",
            "Epoch 36/80\n",
            "20/20 [==============================] - 0s 7ms/step - loss: 0.0060 - val_loss: 0.0174\n",
            "Epoch 37/80\n",
            "20/20 [==============================] - 0s 7ms/step - loss: 0.0055 - val_loss: 0.0196\n",
            "Epoch 38/80\n",
            "20/20 [==============================] - 0s 7ms/step - loss: 0.0055 - val_loss: 0.0186\n",
            "Epoch 39/80\n",
            "20/20 [==============================] - 0s 7ms/step - loss: 0.0063 - val_loss: 0.0195\n",
            "Epoch 40/80\n",
            "20/20 [==============================] - 0s 7ms/step - loss: 0.0064 - val_loss: 0.0214\n",
            "Epoch 41/80\n",
            "20/20 [==============================] - 0s 7ms/step - loss: 0.0060 - val_loss: 0.0199\n",
            "Epoch 42/80\n",
            "20/20 [==============================] - 0s 8ms/step - loss: 0.0056 - val_loss: 0.0130\n",
            "Epoch 43/80\n",
            "20/20 [==============================] - 0s 7ms/step - loss: 0.0053 - val_loss: 0.0137\n",
            "Epoch 44/80\n",
            "20/20 [==============================] - 0s 7ms/step - loss: 0.0049 - val_loss: 0.0152\n",
            "Epoch 45/80\n",
            "20/20 [==============================] - 0s 7ms/step - loss: 0.0061 - val_loss: 0.0160\n",
            "Epoch 46/80\n",
            "20/20 [==============================] - 0s 7ms/step - loss: 0.0069 - val_loss: 0.0173\n",
            "Epoch 47/80\n",
            "20/20 [==============================] - 0s 7ms/step - loss: 0.0057 - val_loss: 0.0166\n",
            "Epoch 48/80\n",
            "20/20 [==============================] - 0s 7ms/step - loss: 0.0053 - val_loss: 0.0158\n",
            "Epoch 49/80\n",
            "20/20 [==============================] - 0s 7ms/step - loss: 0.0057 - val_loss: 0.0278\n",
            "Epoch 50/80\n",
            "20/20 [==============================] - 0s 7ms/step - loss: 0.0065 - val_loss: 0.0165\n",
            "Epoch 51/80\n",
            "20/20 [==============================] - 0s 7ms/step - loss: 0.0059 - val_loss: 0.0162\n",
            "Epoch 52/80\n",
            "20/20 [==============================] - 0s 7ms/step - loss: 0.0057 - val_loss: 0.0185\n",
            "Epoch 53/80\n",
            "20/20 [==============================] - 0s 7ms/step - loss: 0.0065 - val_loss: 0.0431\n",
            "Epoch 54/80\n",
            "20/20 [==============================] - 0s 7ms/step - loss: 0.0073 - val_loss: 0.0348\n",
            "Epoch 55/80\n",
            "20/20 [==============================] - 0s 7ms/step - loss: 0.0073 - val_loss: 0.0228\n",
            "Epoch 56/80\n",
            "20/20 [==============================] - 0s 7ms/step - loss: 0.0065 - val_loss: 0.0215\n",
            "Epoch 57/80\n",
            "20/20 [==============================] - 0s 7ms/step - loss: 0.0064 - val_loss: 0.0297\n",
            "Epoch 58/80\n",
            "20/20 [==============================] - 0s 7ms/step - loss: 0.0054 - val_loss: 0.0190\n",
            "Epoch 59/80\n",
            "20/20 [==============================] - 0s 7ms/step - loss: 0.0055 - val_loss: 0.0150\n",
            "Epoch 60/80\n",
            "20/20 [==============================] - 0s 8ms/step - loss: 0.0050 - val_loss: 0.0190\n",
            "Epoch 61/80\n",
            "20/20 [==============================] - 0s 7ms/step - loss: 0.0062 - val_loss: 0.0443\n",
            "Epoch 62/80\n",
            "20/20 [==============================] - 0s 7ms/step - loss: 0.0077 - val_loss: 0.0352\n",
            "Epoch 63/80\n",
            "20/20 [==============================] - 0s 7ms/step - loss: 0.0070 - val_loss: 0.0159\n",
            "Epoch 64/80\n",
            "20/20 [==============================] - 0s 7ms/step - loss: 0.0057 - val_loss: 0.0153\n",
            "Epoch 65/80\n",
            "20/20 [==============================] - 0s 7ms/step - loss: 0.0055 - val_loss: 0.0132\n",
            "Epoch 66/80\n",
            "20/20 [==============================] - 0s 7ms/step - loss: 0.0055 - val_loss: 0.0165\n",
            "Epoch 67/80\n",
            "20/20 [==============================] - 0s 7ms/step - loss: 0.0053 - val_loss: 0.0241\n",
            "Epoch 68/80\n",
            "20/20 [==============================] - 0s 7ms/step - loss: 0.0065 - val_loss: 0.0294\n",
            "Epoch 69/80\n",
            "20/20 [==============================] - 0s 7ms/step - loss: 0.0060 - val_loss: 0.0173\n",
            "Epoch 70/80\n",
            "20/20 [==============================] - 0s 7ms/step - loss: 0.0055 - val_loss: 0.0259\n",
            "Epoch 71/80\n",
            "20/20 [==============================] - 0s 7ms/step - loss: 0.0057 - val_loss: 0.0190\n",
            "Epoch 72/80\n",
            "20/20 [==============================] - 0s 7ms/step - loss: 0.0075 - val_loss: 0.0128\n",
            "Epoch 73/80\n",
            "20/20 [==============================] - 0s 7ms/step - loss: 0.0061 - val_loss: 0.0185\n",
            "Epoch 74/80\n",
            "20/20 [==============================] - 0s 7ms/step - loss: 0.0066 - val_loss: 0.0131\n",
            "Epoch 75/80\n",
            "20/20 [==============================] - 0s 7ms/step - loss: 0.0063 - val_loss: 0.0203\n",
            "Epoch 76/80\n",
            "20/20 [==============================] - 0s 7ms/step - loss: 0.0052 - val_loss: 0.0130\n",
            "Epoch 77/80\n",
            "20/20 [==============================] - 0s 7ms/step - loss: 0.0054 - val_loss: 0.0145\n",
            "Epoch 78/80\n",
            "20/20 [==============================] - 0s 7ms/step - loss: 0.0055 - val_loss: 0.0133\n",
            "Epoch 79/80\n",
            "20/20 [==============================] - 0s 7ms/step - loss: 0.0057 - val_loss: 0.0162\n",
            "Epoch 80/80\n",
            "20/20 [==============================] - 0s 7ms/step - loss: 0.0061 - val_loss: 0.0150\n"
          ],
          "name": "stdout"
        }
      ]
    },
    {
      "cell_type": "code",
      "metadata": {
        "id": "gNKGakDwP6I8",
        "colab_type": "code",
        "outputId": "9eb718f0-87a1-45cd-8c7c-3c3877d314b4",
        "colab": {
          "base_uri": "https://localhost:8080/",
          "height": 282
        }
      },
      "source": [
        "# Plot loss per iteration\n",
        "import matplotlib.pyplot as plt\n",
        "plt.plot(r.history['loss'], label='loss')\n",
        "plt.plot(r.history['val_loss'], label='val_loss')\n",
        "plt.legend()"
      ],
      "execution_count": 19,
      "outputs": [
        {
          "output_type": "execute_result",
          "data": {
            "text/plain": [
              "<matplotlib.legend.Legend at 0x7fd8f6b76a90>"
            ]
          },
          "metadata": {
            "tags": []
          },
          "execution_count": 19
        },
        {
          "output_type": "display_data",
          "data": {
            "image/png": "[encoded data removed]",
            "text/plain": [
              "<Figure size 432x288 with 1 Axes>"
            ]
          },
          "metadata": {
            "tags": [],
            "needs_background": "light"
          }
        }
      ]
    },
    {
      "cell_type": "code",
      "metadata": {
        "id": "SnonG_CKP-W2",
        "colab_type": "code",
        "outputId": "6f1a07b0-6421-420a-bc8d-cbef51318bb8",
        "colab": {
          "base_uri": "https://localhost:8080/",
          "height": 282
        }
      },
      "source": [
        "# One-step forecast using true targets\n",
        "outputs = model.predict(X)\n",
        "print(outputs.shape)\n",
        "predictions = outputs[:,0]\n",
        "\n",
        "plt.plot(Y, label='targets')\n",
        "plt.plot(predictions, label='predictions')\n",
        "plt.legend()\n",
        "plt.show()"
      ],
      "execution_count": 20,
      "outputs": [
        {
          "output_type": "stream",
          "text": [
            "(1249, 1)\n"
          ],
          "name": "stdout"
        },
        {
          "output_type": "display_data",
          "data": {
            "image/png": "[encoded data removed]",
            "text/plain": [
              "<Figure size 432x288 with 1 Axes>"
            ]
          },
          "metadata": {
            "tags": [],
            "needs_background": "light"
          }
        }
      ]
    },
    {
      "cell_type": "code",
      "metadata": {
        "id": "_lQrWPlHQJw_",
        "colab_type": "code",
        "outputId": "494ffb81-8e97-4b52-adb6-9a5593530d49",
        "colab": {
          "base_uri": "https://localhost:8080/",
          "height": 282
        }
      },
      "source": [
        "# Multi-step forecast\n",
        "validation_target = Y[-N//2:]\n",
        "validation_predictions = []\n",
        "\n",
        "# first validation input\n",
        "last_x = X[-N//2] # 1-D array of length T\n",
        "\n",
        "while len(validation_predictions) < len(validation_target):\n",
        "  p = model.predict(last_x.reshape(1, T, 1))[0,0] # 1x1 array -> scalar\n",
        "  \n",
        "  # update the predictions list\n",
        "  validation_predictions.append(p)\n",
        "  \n",
        "  # make the new input\n",
        "  last_x = np.roll(last_x, -1)\n",
        "  last_x[-1] = p\n",
        "\n",
        "plt.plot(validation_target, label='forecast target')\n",
        "plt.plot(validation_predictions, label='forecast prediction')\n",
        "plt.legend()\n",
        "\n",
        "#One Step : Only copying previous value"
      ],
      "execution_count": 21,
      "outputs": [
        {
          "output_type": "execute_result",
          "data": {
            "text/plain": [
              "<matplotlib.legend.Legend at 0x7fd8fa853160>"
            ]
          },
          "metadata": {
            "tags": []
          },
          "execution_count": 21
        },
        {
          "output_type": "display_data",
          "data": {
            "image/png": "[encoded data removed]",
            "text/plain": [
              "<Figure size 432x288 with 1 Axes>"
            ]
          },
          "metadata": {
            "tags": [],
            "needs_background": "light"
          }
        }
      ]
    },
    {
      "cell_type": "code",
      "metadata": {
        "id": "HyqtntC7OGu0",
        "colab_type": "code",
        "colab": {}
      },
      "source": [
        "# calculate returns by first shifting the data\n",
        "df['PrevClose'] = df['close'].shift(1) # move everything up 1\n",
        "\n",
        "# so now it's like\n",
        "# close / prev close\n",
        "# x[2] x[1]\n",
        "# x[3] x[2]\n",
        "# x[4] x[3]\n",
        "# ...\n",
        "# x[t] x[t-1]"
      ],
      "execution_count": 0,
      "outputs": []
    },
    {
      "cell_type": "code",
      "metadata": {
        "id": "K4HG4nDUOPHK",
        "colab_type": "code",
        "outputId": "3cd14ba4-cd81-40b0-c375-98f69993ce10",
        "colab": {
          "base_uri": "https://localhost:8080/",
          "height": 197
        }
      },
      "source": [
        "df.head()"
      ],
      "execution_count": 23,
      "outputs": [
        {
          "output_type": "execute_result",
          "data": {
            "text/html": [
              "<div>\n",
              "<style scoped>\n",
              "    .dataframe tbody tr th:only-of-type {\n",
              "        vertical-align: middle;\n",
              "    }\n",
              "\n",
              "    .dataframe tbody tr th {\n",
              "        vertical-align: top;\n",
              "    }\n",
              "\n",
              "    .dataframe thead th {\n",
              "        text-align: right;\n",
              "    }\n",
              "</style>\n",
              "<table border=\"1\" class=\"dataframe\">\n",
              "  <thead>\n",
              "    <tr style=\"text-align: right;\">\n",
              "      <th></th>\n",
              "      <th>date</th>\n",
              "      <th>open</th>\n",
              "      <th>high</th>\n",
              "      <th>low</th>\n",
              "      <th>close</th>\n",
              "      <th>volume</th>\n",
              "      <th>Name</th>\n",
              "      <th>PrevClose</th>\n",
              "    </tr>\n",
              "  </thead>\n",
              "  <tbody>\n",
              "    <tr>\n",
              "      <th>0</th>\n",
              "      <td>2013-02-08</td>\n",
              "      <td>27.920</td>\n",
              "      <td>28.325</td>\n",
              "      <td>27.920</td>\n",
              "      <td>28.185</td>\n",
              "      <td>7146296</td>\n",
              "      <td>SBUX</td>\n",
              "      <td>NaN</td>\n",
              "    </tr>\n",
              "    <tr>\n",
              "      <th>1</th>\n",
              "      <td>2013-02-11</td>\n",
              "      <td>28.260</td>\n",
              "      <td>28.260</td>\n",
              "      <td>27.930</td>\n",
              "      <td>28.070</td>\n",
              "      <td>5457354</td>\n",
              "      <td>SBUX</td>\n",
              "      <td>28.185</td>\n",
              "    </tr>\n",
              "    <tr>\n",
              "      <th>2</th>\n",
              "      <td>2013-02-12</td>\n",
              "      <td>28.000</td>\n",
              "      <td>28.275</td>\n",
              "      <td>27.975</td>\n",
              "      <td>28.130</td>\n",
              "      <td>8665592</td>\n",
              "      <td>SBUX</td>\n",
              "      <td>28.070</td>\n",
              "    </tr>\n",
              "    <tr>\n",
              "      <th>3</th>\n",
              "      <td>2013-02-13</td>\n",
              "      <td>28.230</td>\n",
              "      <td>28.230</td>\n",
              "      <td>27.750</td>\n",
              "      <td>27.915</td>\n",
              "      <td>7022056</td>\n",
              "      <td>SBUX</td>\n",
              "      <td>28.130</td>\n",
              "    </tr>\n",
              "    <tr>\n",
              "      <th>4</th>\n",
              "      <td>2013-02-14</td>\n",
              "      <td>27.765</td>\n",
              "      <td>27.905</td>\n",
              "      <td>27.675</td>\n",
              "      <td>27.775</td>\n",
              "      <td>8899188</td>\n",
              "      <td>SBUX</td>\n",
              "      <td>27.915</td>\n",
              "    </tr>\n",
              "  </tbody>\n",
              "</table>\n",
              "</div>"
            ],
            "text/plain": [
              "         date    open    high     low   close   volume  Name  PrevClose\n",
              "0  2013-02-08  27.920  28.325  27.920  28.185  7146296  SBUX        NaN\n",
              "1  2013-02-11  28.260  28.260  27.930  28.070  5457354  SBUX     28.185\n",
              "2  2013-02-12  28.000  28.275  27.975  28.130  8665592  SBUX     28.070\n",
              "3  2013-02-13  28.230  28.230  27.750  27.915  7022056  SBUX     28.130\n",
              "4  2013-02-14  27.765  27.905  27.675  27.775  8899188  SBUX     27.915"
            ]
          },
          "metadata": {
            "tags": []
          },
          "execution_count": 23
        }
      ]
    },
    {
      "cell_type": "code",
      "metadata": {
        "id": "8NozObuNORn4",
        "colab_type": "code",
        "colab": {}
      },
      "source": [
        "# then the return is\n",
        "# (x[t] - x[t-1]) / x[t-1]\n",
        "df['Return'] = (df['close'] - df['PrevClose']) / df['PrevClose']"
      ],
      "execution_count": 0,
      "outputs": []
    },
    {
      "cell_type": "code",
      "metadata": {
        "id": "1o0ynO0aOVWu",
        "colab_type": "code",
        "outputId": "6a6953bf-2ec7-4776-e2d6-ce10c7f54b58",
        "colab": {
          "base_uri": "https://localhost:8080/",
          "height": 197
        }
      },
      "source": [
        "df.head()"
      ],
      "execution_count": 25,
      "outputs": [
        {
          "output_type": "execute_result",
          "data": {
            "text/html": [
              "<div>\n",
              "<style scoped>\n",
              "    .dataframe tbody tr th:only-of-type {\n",
              "        vertical-align: middle;\n",
              "    }\n",
              "\n",
              "    .dataframe tbody tr th {\n",
              "        vertical-align: top;\n",
              "    }\n",
              "\n",
              "    .dataframe thead th {\n",
              "        text-align: right;\n",
              "    }\n",
              "</style>\n",
              "<table border=\"1\" class=\"dataframe\">\n",
              "  <thead>\n",
              "    <tr style=\"text-align: right;\">\n",
              "      <th></th>\n",
              "      <th>date</th>\n",
              "      <th>open</th>\n",
              "      <th>high</th>\n",
              "      <th>low</th>\n",
              "      <th>close</th>\n",
              "      <th>volume</th>\n",
              "      <th>Name</th>\n",
              "      <th>PrevClose</th>\n",
              "      <th>Return</th>\n",
              "    </tr>\n",
              "  </thead>\n",
              "  <tbody>\n",
              "    <tr>\n",
              "      <th>0</th>\n",
              "      <td>2013-02-08</td>\n",
              "      <td>27.920</td>\n",
              "      <td>28.325</td>\n",
              "      <td>27.920</td>\n",
              "      <td>28.185</td>\n",
              "      <td>7146296</td>\n",
              "      <td>SBUX</td>\n",
              "      <td>NaN</td>\n",
              "      <td>NaN</td>\n",
              "    </tr>\n",
              "    <tr>\n",
              "      <th>1</th>\n",
              "      <td>2013-02-11</td>\n",
              "      <td>28.260</td>\n",
              "      <td>28.260</td>\n",
              "      <td>27.930</td>\n",
              "      <td>28.070</td>\n",
              "      <td>5457354</td>\n",
              "      <td>SBUX</td>\n",
              "      <td>28.185</td>\n",
              "      <td>-0.004080</td>\n",
              "    </tr>\n",
              "    <tr>\n",
              "      <th>2</th>\n",
              "      <td>2013-02-12</td>\n",
              "      <td>28.000</td>\n",
              "      <td>28.275</td>\n",
              "      <td>27.975</td>\n",
              "      <td>28.130</td>\n",
              "      <td>8665592</td>\n",
              "      <td>SBUX</td>\n",
              "      <td>28.070</td>\n",
              "      <td>0.002138</td>\n",
              "    </tr>\n",
              "    <tr>\n",
              "      <th>3</th>\n",
              "      <td>2013-02-13</td>\n",
              "      <td>28.230</td>\n",
              "      <td>28.230</td>\n",
              "      <td>27.750</td>\n",
              "      <td>27.915</td>\n",
              "      <td>7022056</td>\n",
              "      <td>SBUX</td>\n",
              "      <td>28.130</td>\n",
              "      <td>-0.007643</td>\n",
              "    </tr>\n",
              "    <tr>\n",
              "      <th>4</th>\n",
              "      <td>2013-02-14</td>\n",
              "      <td>27.765</td>\n",
              "      <td>27.905</td>\n",
              "      <td>27.675</td>\n",
              "      <td>27.775</td>\n",
              "      <td>8899188</td>\n",
              "      <td>SBUX</td>\n",
              "      <td>27.915</td>\n",
              "      <td>-0.005015</td>\n",
              "    </tr>\n",
              "  </tbody>\n",
              "</table>\n",
              "</div>"
            ],
            "text/plain": [
              "         date    open    high     low  ...   volume  Name PrevClose    Return\n",
              "0  2013-02-08  27.920  28.325  27.920  ...  7146296  SBUX       NaN       NaN\n",
              "1  2013-02-11  28.260  28.260  27.930  ...  5457354  SBUX    28.185 -0.004080\n",
              "2  2013-02-12  28.000  28.275  27.975  ...  8665592  SBUX    28.070  0.002138\n",
              "3  2013-02-13  28.230  28.230  27.750  ...  7022056  SBUX    28.130 -0.007643\n",
              "4  2013-02-14  27.765  27.905  27.675  ...  8899188  SBUX    27.915 -0.005015\n",
              "\n",
              "[5 rows x 9 columns]"
            ]
          },
          "metadata": {
            "tags": []
          },
          "execution_count": 25
        }
      ]
    },
    {
      "cell_type": "code",
      "metadata": {
        "id": "2caEww0GXddl",
        "colab_type": "code",
        "outputId": "6127a916-2f29-471d-9c0f-736661a402c4",
        "colab": {
          "base_uri": "https://localhost:8080/",
          "height": 282
        }
      },
      "source": [
        "# Now let's try an LSTM to predict returns\n",
        "df['Return'].hist()"
      ],
      "execution_count": 26,
      "outputs": [
        {
          "output_type": "execute_result",
          "data": {
            "text/plain": [
              "<matplotlib.axes._subplots.AxesSubplot at 0x7fd8fa965780>"
            ]
          },
          "metadata": {
            "tags": []
          },
          "execution_count": 26
        },
        {
          "output_type": "display_data",
          "data": {
            "image/png": "[encoded data removed]",
            "text/plain": [
              "<Figure size 432x288 with 1 Axes>"
            ]
          },
          "metadata": {
            "tags": [],
            "needs_background": "light"
          }
        }
      ]
    },
    {
      "cell_type": "code",
      "metadata": {
        "id": "t0xUTZvFXoHc",
        "colab_type": "code",
        "colab": {}
      },
      "source": [
        "series = df['Return'].values[1:].reshape(-1, 1)\n",
        "\n",
        "# Normalize the data\n",
        "# Note: I didn't think about where the true boundary is, this is just approx.\n",
        "scaler = StandardScaler()\n",
        "scaler.fit(series[:len(series) // 2])\n",
        "series = scaler.transform(series).flatten()"
      ],
      "execution_count": 0,
      "outputs": []
    },
    {
      "cell_type": "code",
      "metadata": {
        "id": "PLNwOWOWX1m9",
        "colab_type": "code",
        "outputId": "1f058594-3bf9-4757-93a0-9b77b27dd725",
        "colab": {
          "base_uri": "https://localhost:8080/",
          "height": 34
        }
      },
      "source": [
        "### build the dataset\n",
        "# let's see if we can use T past values to predict the next value\n",
        "T = 10\n",
        "D = 1\n",
        "X = []\n",
        "Y = []\n",
        "for t in range(len(series) - T):\n",
        "  x = series[t:t+T]\n",
        "  X.append(x)\n",
        "  y = series[t+T]\n",
        "  Y.append(y)\n",
        "\n",
        "X = np.array(X).reshape(-1, T, 1) # Now the data should be N x T x D\n",
        "Y = np.array(Y)\n",
        "N = len(X)\n",
        "print(\"X.shape\", X.shape, \"Y.shape\", Y.shape)"
      ],
      "execution_count": 28,
      "outputs": [
        {
          "output_type": "stream",
          "text": [
            "X.shape (1248, 10, 1) Y.shape (1248,)\n"
          ],
          "name": "stdout"
        }
      ]
    },
    {
      "cell_type": "code",
      "metadata": {
        "id": "F_fhQMaOYAxR",
        "colab_type": "code",
        "outputId": "93552e56-00d2-4674-9d5b-4deac263eebf",
        "colab": {
          "base_uri": "https://localhost:8080/",
          "height": 1000
        }
      },
      "source": [
        "### try autoregressive RNN model\n",
        "i = Input(shape=(T, 1))\n",
        "x = LSTM(5)(i)\n",
        "x = Dense(1)(x)\n",
        "model = Model(i, x)\n",
        "model.compile(\n",
        "  loss='mse',\n",
        "  optimizer=Adam(lr=0.01),\n",
        ")\n",
        "\n",
        "# train the RNN\n",
        "r = model.fit(\n",
        "  X[:-N//2], Y[:-N//2],\n",
        "  epochs=80,\n",
        "  validation_data=(X[-N//2:], Y[-N//2:]),\n",
        ")"
      ],
      "execution_count": 29,
      "outputs": [
        {
          "output_type": "stream",
          "text": [
            "Epoch 1/80\n",
            "20/20 [==============================] - 0s 23ms/step - loss: 0.9989 - val_loss: 1.1613\n",
            "Epoch 2/80\n",
            "20/20 [==============================] - 0s 7ms/step - loss: 0.9879 - val_loss: 1.1605\n",
            "Epoch 3/80\n",
            "20/20 [==============================] - 0s 7ms/step - loss: 0.9844 - val_loss: 1.1704\n",
            "Epoch 4/80\n",
            "20/20 [==============================] - 0s 7ms/step - loss: 0.9882 - val_loss: 1.1640\n",
            "Epoch 5/80\n",
            "20/20 [==============================] - 0s 7ms/step - loss: 0.9900 - val_loss: 1.1729\n",
            "Epoch 6/80\n",
            "20/20 [==============================] - 0s 7ms/step - loss: 0.9709 - val_loss: 1.1742\n",
            "Epoch 7/80\n",
            "20/20 [==============================] - 0s 7ms/step - loss: 1.0006 - val_loss: 1.1689\n",
            "Epoch 8/80\n",
            "20/20 [==============================] - 0s 7ms/step - loss: 0.9838 - val_loss: 1.1862\n",
            "Epoch 9/80\n",
            "20/20 [==============================] - 0s 7ms/step - loss: 0.9954 - val_loss: 1.1782\n",
            "Epoch 10/80\n",
            "20/20 [==============================] - 0s 7ms/step - loss: 0.9724 - val_loss: 1.1825\n",
            "Epoch 11/80\n",
            "20/20 [==============================] - 0s 7ms/step - loss: 0.9733 - val_loss: 1.1877\n",
            "Epoch 12/80\n",
            "20/20 [==============================] - 0s 7ms/step - loss: 0.9680 - val_loss: 1.1778\n",
            "Epoch 13/80\n",
            "20/20 [==============================] - 0s 7ms/step - loss: 0.9710 - val_loss: 1.2027\n",
            "Epoch 14/80\n",
            "20/20 [==============================] - 0s 7ms/step - loss: 0.9610 - val_loss: 1.2042\n",
            "Epoch 15/80\n",
            "20/20 [==============================] - 0s 7ms/step - loss: 0.9548 - val_loss: 1.2335\n",
            "Epoch 16/80\n",
            "20/20 [==============================] - 0s 7ms/step - loss: 0.9585 - val_loss: 1.2053\n",
            "Epoch 17/80\n",
            "20/20 [==============================] - 0s 7ms/step - loss: 0.9508 - val_loss: 1.2185\n",
            "Epoch 18/80\n",
            "20/20 [==============================] - 0s 7ms/step - loss: 0.9296 - val_loss: 1.2838\n",
            "Epoch 19/80\n",
            "20/20 [==============================] - 0s 7ms/step - loss: 0.9713 - val_loss: 1.3519\n",
            "Epoch 20/80\n",
            "20/20 [==============================] - 0s 7ms/step - loss: 0.9557 - val_loss: 1.2263\n",
            "Epoch 21/80\n",
            "20/20 [==============================] - 0s 7ms/step - loss: 0.9332 - val_loss: 1.2540\n",
            "Epoch 22/80\n",
            "20/20 [==============================] - 0s 7ms/step - loss: 0.9197 - val_loss: 1.2934\n",
            "Epoch 23/80\n",
            "20/20 [==============================] - 0s 7ms/step - loss: 0.9348 - val_loss: 1.3492\n",
            "Epoch 24/80\n",
            "20/20 [==============================] - 0s 7ms/step - loss: 0.9223 - val_loss: 1.3718\n",
            "Epoch 25/80\n",
            "20/20 [==============================] - 0s 7ms/step - loss: 0.9166 - val_loss: 1.3115\n",
            "Epoch 26/80\n",
            "20/20 [==============================] - 0s 7ms/step - loss: 0.9180 - val_loss: 1.3649\n",
            "Epoch 27/80\n",
            "20/20 [==============================] - 0s 7ms/step - loss: 0.9093 - val_loss: 1.3168\n",
            "Epoch 28/80\n",
            "20/20 [==============================] - 0s 7ms/step - loss: 0.9032 - val_loss: 1.3676\n",
            "Epoch 29/80\n",
            "20/20 [==============================] - 0s 7ms/step - loss: 0.9078 - val_loss: 1.3157\n",
            "Epoch 30/80\n",
            "20/20 [==============================] - 0s 7ms/step - loss: 0.9104 - val_loss: 1.3465\n",
            "Epoch 31/80\n",
            "20/20 [==============================] - 0s 7ms/step - loss: 0.9014 - val_loss: 1.3916\n",
            "Epoch 32/80\n",
            "20/20 [==============================] - 0s 7ms/step - loss: 0.8821 - val_loss: 1.3697\n",
            "Epoch 33/80\n",
            "20/20 [==============================] - 0s 7ms/step - loss: 0.8866 - val_loss: 1.3762\n",
            "Epoch 34/80\n",
            "20/20 [==============================] - 0s 7ms/step - loss: 0.8914 - val_loss: 1.3787\n",
            "Epoch 35/80\n",
            "20/20 [==============================] - 0s 7ms/step - loss: 0.8894 - val_loss: 1.4131\n",
            "Epoch 36/80\n",
            "20/20 [==============================] - 0s 7ms/step - loss: 0.8756 - val_loss: 1.4268\n",
            "Epoch 37/80\n",
            "20/20 [==============================] - 0s 7ms/step - loss: 0.8712 - val_loss: 1.4407\n",
            "Epoch 38/80\n",
            "20/20 [==============================] - 0s 7ms/step - loss: 0.9060 - val_loss: 1.4187\n",
            "Epoch 39/80\n",
            "20/20 [==============================] - 0s 7ms/step - loss: 0.9070 - val_loss: 1.3877\n",
            "Epoch 40/80\n",
            "20/20 [==============================] - 0s 7ms/step - loss: 0.8606 - val_loss: 1.4294\n",
            "Epoch 41/80\n",
            "20/20 [==============================] - 0s 7ms/step - loss: 0.8531 - val_loss: 1.4979\n",
            "Epoch 42/80\n",
            "20/20 [==============================] - 0s 7ms/step - loss: 0.8532 - val_loss: 1.4368\n",
            "Epoch 43/80\n",
            "20/20 [==============================] - 0s 7ms/step - loss: 0.8618 - val_loss: 1.4743\n",
            "Epoch 44/80\n",
            "20/20 [==============================] - 0s 7ms/step - loss: 0.8510 - val_loss: 1.4797\n",
            "Epoch 45/80\n",
            "20/20 [==============================] - 0s 7ms/step - loss: 0.8531 - val_loss: 1.4782\n",
            "Epoch 46/80\n",
            "20/20 [==============================] - 0s 7ms/step - loss: 0.8283 - val_loss: 1.4956\n",
            "Epoch 47/80\n",
            "20/20 [==============================] - 0s 7ms/step - loss: 0.8433 - val_loss: 1.5250\n",
            "Epoch 48/80\n",
            "20/20 [==============================] - 0s 7ms/step - loss: 0.8225 - val_loss: 1.4987\n",
            "Epoch 49/80\n",
            "20/20 [==============================] - 0s 9ms/step - loss: 0.8267 - val_loss: 1.5151\n",
            "Epoch 50/80\n",
            "20/20 [==============================] - 0s 7ms/step - loss: 0.8826 - val_loss: 1.5299\n",
            "Epoch 51/80\n",
            "20/20 [==============================] - 0s 7ms/step - loss: 0.8960 - val_loss: 1.4909\n",
            "Epoch 52/80\n",
            "20/20 [==============================] - 0s 7ms/step - loss: 0.8549 - val_loss: 1.4646\n",
            "Epoch 53/80\n",
            "20/20 [==============================] - 0s 7ms/step - loss: 0.8262 - val_loss: 1.4827\n",
            "Epoch 54/80\n",
            "20/20 [==============================] - 0s 7ms/step - loss: 0.8300 - val_loss: 1.4764\n",
            "Epoch 55/80\n",
            "20/20 [==============================] - 0s 7ms/step - loss: 0.8203 - val_loss: 1.5181\n",
            "Epoch 56/80\n",
            "20/20 [==============================] - 0s 7ms/step - loss: 0.8167 - val_loss: 1.4934\n",
            "Epoch 57/80\n",
            "20/20 [==============================] - 0s 7ms/step - loss: 0.8050 - val_loss: 1.5158\n",
            "Epoch 58/80\n",
            "20/20 [==============================] - 0s 7ms/step - loss: 0.8047 - val_loss: 1.5259\n",
            "Epoch 59/80\n",
            "20/20 [==============================] - 0s 7ms/step - loss: 0.7921 - val_loss: 1.5548\n",
            "Epoch 60/80\n",
            "20/20 [==============================] - 0s 7ms/step - loss: 0.7921 - val_loss: 1.5390\n",
            "Epoch 61/80\n",
            "20/20 [==============================] - 0s 7ms/step - loss: 0.7926 - val_loss: 1.5317\n",
            "Epoch 62/80\n",
            "20/20 [==============================] - 0s 7ms/step - loss: 0.7966 - val_loss: 1.5618\n",
            "Epoch 63/80\n",
            "20/20 [==============================] - 0s 7ms/step - loss: 0.8031 - val_loss: 1.5416\n",
            "Epoch 64/80\n",
            "20/20 [==============================] - 0s 7ms/step - loss: 0.8023 - val_loss: 1.5911\n",
            "Epoch 65/80\n",
            "20/20 [==============================] - 0s 7ms/step - loss: 0.7969 - val_loss: 1.5646\n",
            "Epoch 66/80\n",
            "20/20 [==============================] - 0s 7ms/step - loss: 0.7930 - val_loss: 1.5431\n",
            "Epoch 67/80\n",
            "20/20 [==============================] - 0s 7ms/step - loss: 0.7818 - val_loss: 1.6068\n",
            "Epoch 68/80\n",
            "20/20 [==============================] - 0s 8ms/step - loss: 0.7847 - val_loss: 1.5848\n",
            "Epoch 69/80\n",
            "20/20 [==============================] - 0s 7ms/step - loss: 0.7747 - val_loss: 1.5932\n",
            "Epoch 70/80\n",
            "20/20 [==============================] - 0s 7ms/step - loss: 0.7763 - val_loss: 1.5859\n",
            "Epoch 71/80\n",
            "20/20 [==============================] - 0s 7ms/step - loss: 0.7592 - val_loss: 1.6183\n",
            "Epoch 72/80\n",
            "20/20 [==============================] - 0s 7ms/step - loss: 0.7573 - val_loss: 1.5874\n",
            "Epoch 73/80\n",
            "20/20 [==============================] - 0s 7ms/step - loss: 0.7590 - val_loss: 1.6131\n",
            "Epoch 74/80\n",
            "20/20 [==============================] - 0s 7ms/step - loss: 0.8123 - val_loss: 1.5676\n",
            "Epoch 75/80\n",
            "20/20 [==============================] - 0s 7ms/step - loss: 0.7623 - val_loss: 1.6198\n",
            "Epoch 76/80\n",
            "20/20 [==============================] - 0s 7ms/step - loss: 0.7604 - val_loss: 1.6033\n",
            "Epoch 77/80\n",
            "20/20 [==============================] - 0s 7ms/step - loss: 0.7682 - val_loss: 1.6375\n",
            "Epoch 78/80\n",
            "20/20 [==============================] - 0s 7ms/step - loss: 0.7527 - val_loss: 1.6090\n",
            "Epoch 79/80\n",
            "20/20 [==============================] - 0s 7ms/step - loss: 0.7490 - val_loss: 1.6422\n",
            "Epoch 80/80\n",
            "20/20 [==============================] - 0s 7ms/step - loss: 0.7540 - val_loss: 1.6235\n"
          ],
          "name": "stdout"
        }
      ]
    },
    {
      "cell_type": "code",
      "metadata": {
        "id": "-RulDED_YFAQ",
        "colab_type": "code",
        "outputId": "b9296ebb-7cad-4aef-ee17-981f3131eca5",
        "colab": {
          "base_uri": "https://localhost:8080/",
          "height": 282
        }
      },
      "source": [
        "# Plot loss per iteration\n",
        "import matplotlib.pyplot as plt\n",
        "plt.plot(r.history['loss'], label='loss')\n",
        "plt.plot(r.history['val_loss'], label='val_loss')\n",
        "plt.legend()"
      ],
      "execution_count": 30,
      "outputs": [
        {
          "output_type": "execute_result",
          "data": {
            "text/plain": [
              "<matplotlib.legend.Legend at 0x7fd8f99282b0>"
            ]
          },
          "metadata": {
            "tags": []
          },
          "execution_count": 30
        },
        {
          "output_type": "display_data",
          "data": {
            "image/png": "[encoded data removed]",
            "text/plain": [
              "<Figure size 432x288 with 1 Axes>"
            ]
          },
          "metadata": {
            "tags": [],
            "needs_background": "light"
          }
        }
      ]
    },
    {
      "cell_type": "code",
      "metadata": {
        "id": "euWSVgj2YFXA",
        "colab_type": "code",
        "outputId": "5e86319e-5dd6-41cf-941c-29a93765374b",
        "colab": {
          "base_uri": "https://localhost:8080/",
          "height": 282
        }
      },
      "source": [
        "# One-step forecast using true targets\n",
        "outputs = model.predict(X)\n",
        "print(outputs.shape)\n",
        "predictions = outputs[:,0]\n",
        "\n",
        "plt.plot(Y, label='targets')\n",
        "plt.plot(predictions, label='predictions')\n",
        "plt.legend()\n",
        "plt.show()"
      ],
      "execution_count": 31,
      "outputs": [
        {
          "output_type": "stream",
          "text": [
            "(1248, 1)\n"
          ],
          "name": "stdout"
        },
        {
          "output_type": "display_data",
          "data": {
            "image/png": "[encoded data removed]",
            "text/plain": [
              "<Figure size 432x288 with 1 Axes>"
            ]
          },
          "metadata": {
            "tags": [],
            "needs_background": "light"
          }
        }
      ]
    },
    {
      "cell_type": "code",
      "metadata": {
        "id": "Vqu6ScQrYIWV",
        "colab_type": "code",
        "outputId": "a314b656-6358-419e-d65a-0a15d8c19e28",
        "colab": {
          "base_uri": "https://localhost:8080/",
          "height": 282
        }
      },
      "source": [
        "# Multi-step forecast\n",
        "validation_target = Y[-N//2:]\n",
        "validation_predictions = []\n",
        "\n",
        "# first validation input\n",
        "last_x = X[-N//2] # 1-D array of length T\n",
        "\n",
        "while len(validation_predictions) < len(validation_target):\n",
        "  p = model.predict(last_x.reshape(1, T, 1))[0,0] # 1x1 array -> scalar\n",
        "  \n",
        "  # update the predictions list\n",
        "  validation_predictions.append(p)\n",
        "  \n",
        "  # make the new input\n",
        "  last_x = np.roll(last_x, -1)\n",
        "  last_x[-1] = p\n",
        "\n",
        "plt.plot(validation_target, label='forecast target')\n",
        "plt.plot(validation_predictions, label='forecast prediction')\n",
        "plt.legend()"
      ],
      "execution_count": 32,
      "outputs": [
        {
          "output_type": "execute_result",
          "data": {
            "text/plain": [
              "<matplotlib.legend.Legend at 0x7fd8fadc3f98>"
            ]
          },
          "metadata": {
            "tags": []
          },
          "execution_count": 32
        },
        {
          "output_type": "display_data",
          "data": {
            "image/png": "[encoded data removed]",
            "text/plain": [
              "<Figure size 432x288 with 1 Axes>"
            ]
          },
          "metadata": {
            "tags": [],
            "needs_background": "light"
          }
        }
      ]
    },
    {
      "cell_type": "code",
      "metadata": {
        "id": "VwgGvQsDOZ5T",
        "colab_type": "code",
        "colab": {}
      },
      "source": [
        "# Now turn the full data into numpy arrays\n",
        "\n",
        "# Not yet in the final \"X\" format!\n",
        "input_data = df[['open', 'high', 'low', 'close', 'volume']].values\n",
        "targets = df['Return'].values"
      ],
      "execution_count": 0,
      "outputs": []
    },
    {
      "cell_type": "code",
      "metadata": {
        "id": "-sdYhd7mObwI",
        "colab_type": "code",
        "colab": {}
      },
      "source": [
        "# Now make the actual data which will go into the neural network\n",
        "T = 10 # the number of time steps to look at to make a prediction for the next day\n",
        "D = input_data.shape[1]\n",
        "N = len(input_data) - T # (e.g. if T=10 and you have 11 data points then you'd only have 1 sample)"
      ],
      "execution_count": 0,
      "outputs": []
    },
    {
      "cell_type": "code",
      "metadata": {
        "id": "79CkMlgHOejZ",
        "colab_type": "code",
        "colab": {}
      },
      "source": [
        "# normalize the inputs\n",
        "Ntrain = len(input_data) * 2 // 3\n",
        "scaler = StandardScaler()\n",
        "scaler.fit(input_data[:Ntrain + T - 1])\n",
        "input_data = scaler.transform(input_data)"
      ],
      "execution_count": 0,
      "outputs": []
    },
    {
      "cell_type": "code",
      "metadata": {
        "id": "bfQcj1gpOme2",
        "colab_type": "code",
        "colab": {}
      },
      "source": [
        "# Setup X_train and Y_train\n",
        "X_train = np.zeros((Ntrain, T, D))\n",
        "Y_train = np.zeros(Ntrain)\n",
        "\n",
        "for t in range(Ntrain):\n",
        "  X_train[t, :, :] = input_data[t:t+T]\n",
        "  Y_train[t] = (targets[t+T] > 0)"
      ],
      "execution_count": 0,
      "outputs": []
    },
    {
      "cell_type": "code",
      "metadata": {
        "id": "HhUo6COMOsZi",
        "colab_type": "code",
        "colab": {}
      },
      "source": [
        "# Setup X_test and Y_test\n",
        "X_test = np.zeros((N - Ntrain, T, D))\n",
        "Y_test = np.zeros(N - Ntrain)\n",
        "\n",
        "for u in range(N - Ntrain):\n",
        "  # u counts from 0...(N - Ntrain)\n",
        "  # t counts from Ntrain...N\n",
        "  t = u + Ntrain\n",
        "  X_test[u, :, :] = input_data[t:t+T]\n",
        "  Y_test[u] = (targets[t+T] > 0)"
      ],
      "execution_count": 0,
      "outputs": []
    },
    {
      "cell_type": "code",
      "metadata": {
        "id": "7tBDk_1FRUFt",
        "colab_type": "code",
        "colab": {}
      },
      "source": [
        "# make the RNN\n",
        "i = Input(shape=(T, D))\n",
        "x = LSTM(50)(i)\n",
        "x = Dense(1, activation='sigmoid')(x)\n",
        "model = Model(i, x)\n",
        "model.compile(\n",
        "  loss='binary_crossentropy',\n",
        "  optimizer=Adam(lr=0.001),\n",
        "  metrics=['accuracy'],\n",
        ")"
      ],
      "execution_count": 0,
      "outputs": []
    },
    {
      "cell_type": "code",
      "metadata": {
        "id": "IQqNykvGRXGz",
        "colab_type": "code",
        "outputId": "9310d5f2-308c-4ea5-9242-360272a2587c",
        "colab": {
          "base_uri": "https://localhost:8080/",
          "height": 1000
        }
      },
      "source": [
        "# train the RNN\n",
        "r = model.fit(\n",
        "  X_train, Y_train,\n",
        "  batch_size=32,\n",
        "  epochs=300,\n",
        "  validation_data=(X_test, Y_test),\n",
        ")"
      ],
      "execution_count": 42,
      "outputs": [
        {
          "output_type": "stream",
          "text": [
            "Epoch 1/300\n",
            "27/27 [==============================] - 1s 20ms/step - loss: 0.6960 - accuracy: 0.4899 - val_loss: 0.6968 - val_accuracy: 0.4854\n",
            "Epoch 2/300\n",
            "27/27 [==============================] - 0s 7ms/step - loss: 0.6956 - accuracy: 0.5137 - val_loss: 0.6941 - val_accuracy: 0.4927\n",
            "Epoch 3/300\n",
            "27/27 [==============================] - 0s 8ms/step - loss: 0.6907 - accuracy: 0.5328 - val_loss: 0.6927 - val_accuracy: 0.5049\n",
            "Epoch 4/300\n",
            "27/27 [==============================] - 0s 7ms/step - loss: 0.6917 - accuracy: 0.5232 - val_loss: 0.6968 - val_accuracy: 0.4927\n",
            "Epoch 5/300\n",
            "27/27 [==============================] - 0s 7ms/step - loss: 0.6918 - accuracy: 0.5197 - val_loss: 0.6931 - val_accuracy: 0.5024\n",
            "Epoch 6/300\n",
            "27/27 [==============================] - 0s 7ms/step - loss: 0.6898 - accuracy: 0.5328 - val_loss: 0.6961 - val_accuracy: 0.5000\n",
            "Epoch 7/300\n",
            "27/27 [==============================] - 0s 8ms/step - loss: 0.6920 - accuracy: 0.5364 - val_loss: 0.6998 - val_accuracy: 0.4927\n",
            "Epoch 8/300\n",
            "27/27 [==============================] - 0s 8ms/step - loss: 0.6883 - accuracy: 0.5399 - val_loss: 0.6946 - val_accuracy: 0.4976\n",
            "Epoch 9/300\n",
            "27/27 [==============================] - 0s 8ms/step - loss: 0.6887 - accuracy: 0.5364 - val_loss: 0.6932 - val_accuracy: 0.4878\n",
            "Epoch 10/300\n",
            "27/27 [==============================] - 0s 7ms/step - loss: 0.6892 - accuracy: 0.5340 - val_loss: 0.6931 - val_accuracy: 0.4927\n",
            "Epoch 11/300\n",
            "27/27 [==============================] - 0s 7ms/step - loss: 0.6878 - accuracy: 0.5292 - val_loss: 0.6946 - val_accuracy: 0.4902\n",
            "Epoch 12/300\n",
            "27/27 [==============================] - 0s 7ms/step - loss: 0.6879 - accuracy: 0.5530 - val_loss: 0.6915 - val_accuracy: 0.5122\n",
            "Epoch 13/300\n",
            "27/27 [==============================] - 0s 8ms/step - loss: 0.6878 - accuracy: 0.5375 - val_loss: 0.6956 - val_accuracy: 0.4902\n",
            "Epoch 14/300\n",
            "27/27 [==============================] - 0s 8ms/step - loss: 0.6871 - accuracy: 0.5399 - val_loss: 0.6954 - val_accuracy: 0.4878\n",
            "Epoch 15/300\n",
            "27/27 [==============================] - 0s 8ms/step - loss: 0.6908 - accuracy: 0.5185 - val_loss: 0.6924 - val_accuracy: 0.5195\n",
            "Epoch 16/300\n",
            "27/27 [==============================] - 0s 8ms/step - loss: 0.6870 - accuracy: 0.5423 - val_loss: 0.6943 - val_accuracy: 0.4927\n",
            "Epoch 17/300\n",
            "27/27 [==============================] - 0s 7ms/step - loss: 0.6861 - accuracy: 0.5507 - val_loss: 0.6917 - val_accuracy: 0.5268\n",
            "Epoch 18/300\n",
            "27/27 [==============================] - 0s 8ms/step - loss: 0.6874 - accuracy: 0.5459 - val_loss: 0.6961 - val_accuracy: 0.4854\n",
            "Epoch 19/300\n",
            "27/27 [==============================] - 0s 7ms/step - loss: 0.6871 - accuracy: 0.5399 - val_loss: 0.6939 - val_accuracy: 0.5000\n",
            "Epoch 20/300\n",
            "27/27 [==============================] - 0s 7ms/step - loss: 0.6880 - accuracy: 0.5495 - val_loss: 0.6938 - val_accuracy: 0.5098\n",
            "Epoch 21/300\n",
            "27/27 [==============================] - 0s 7ms/step - loss: 0.6873 - accuracy: 0.5507 - val_loss: 0.6933 - val_accuracy: 0.5098\n",
            "Epoch 22/300\n",
            "27/27 [==============================] - 0s 8ms/step - loss: 0.6860 - accuracy: 0.5340 - val_loss: 0.6939 - val_accuracy: 0.5049\n",
            "Epoch 23/300\n",
            "27/27 [==============================] - 0s 7ms/step - loss: 0.6881 - accuracy: 0.5399 - val_loss: 0.6927 - val_accuracy: 0.5171\n",
            "Epoch 24/300\n",
            "27/27 [==============================] - 0s 8ms/step - loss: 0.6884 - accuracy: 0.5447 - val_loss: 0.6959 - val_accuracy: 0.4902\n",
            "Epoch 25/300\n",
            "27/27 [==============================] - 0s 7ms/step - loss: 0.6876 - accuracy: 0.5578 - val_loss: 0.6944 - val_accuracy: 0.5000\n",
            "Epoch 26/300\n",
            "27/27 [==============================] - 0s 7ms/step - loss: 0.6830 - accuracy: 0.5447 - val_loss: 0.6970 - val_accuracy: 0.4951\n",
            "Epoch 27/300\n",
            "27/27 [==============================] - 0s 7ms/step - loss: 0.6839 - accuracy: 0.5530 - val_loss: 0.6924 - val_accuracy: 0.5341\n",
            "Epoch 28/300\n",
            "27/27 [==============================] - 0s 7ms/step - loss: 0.6852 - accuracy: 0.5471 - val_loss: 0.6972 - val_accuracy: 0.5024\n",
            "Epoch 29/300\n",
            "27/27 [==============================] - 0s 7ms/step - loss: 0.6827 - accuracy: 0.5483 - val_loss: 0.7019 - val_accuracy: 0.4829\n",
            "Epoch 30/300\n",
            "27/27 [==============================] - 0s 7ms/step - loss: 0.6856 - accuracy: 0.5459 - val_loss: 0.6977 - val_accuracy: 0.5098\n",
            "Epoch 31/300\n",
            "27/27 [==============================] - 0s 7ms/step - loss: 0.6821 - accuracy: 0.5518 - val_loss: 0.6980 - val_accuracy: 0.4927\n",
            "Epoch 32/300\n",
            "27/27 [==============================] - 0s 7ms/step - loss: 0.6802 - accuracy: 0.5626 - val_loss: 0.6933 - val_accuracy: 0.5293\n",
            "Epoch 33/300\n",
            "27/27 [==============================] - 0s 7ms/step - loss: 0.6827 - accuracy: 0.5662 - val_loss: 0.7018 - val_accuracy: 0.4854\n",
            "Epoch 34/300\n",
            "27/27 [==============================] - 0s 8ms/step - loss: 0.6833 - accuracy: 0.5769 - val_loss: 0.6957 - val_accuracy: 0.5244\n",
            "Epoch 35/300\n",
            "27/27 [==============================] - 0s 7ms/step - loss: 0.6854 - accuracy: 0.5554 - val_loss: 0.6944 - val_accuracy: 0.5195\n",
            "Epoch 36/300\n",
            "27/27 [==============================] - 0s 7ms/step - loss: 0.6790 - accuracy: 0.5733 - val_loss: 0.6970 - val_accuracy: 0.5049\n",
            "Epoch 37/300\n",
            "27/27 [==============================] - 0s 7ms/step - loss: 0.6817 - accuracy: 0.5793 - val_loss: 0.6992 - val_accuracy: 0.4829\n",
            "Epoch 38/300\n",
            "27/27 [==============================] - 0s 7ms/step - loss: 0.6813 - accuracy: 0.5709 - val_loss: 0.7019 - val_accuracy: 0.4951\n",
            "Epoch 39/300\n",
            "27/27 [==============================] - 0s 7ms/step - loss: 0.6809 - accuracy: 0.5662 - val_loss: 0.6999 - val_accuracy: 0.5000\n",
            "Epoch 40/300\n",
            "27/27 [==============================] - 0s 7ms/step - loss: 0.6826 - accuracy: 0.5638 - val_loss: 0.6975 - val_accuracy: 0.5122\n",
            "Epoch 41/300\n",
            "27/27 [==============================] - 0s 7ms/step - loss: 0.6784 - accuracy: 0.5852 - val_loss: 0.6970 - val_accuracy: 0.5098\n",
            "Epoch 42/300\n",
            "27/27 [==============================] - 0s 7ms/step - loss: 0.6798 - accuracy: 0.5650 - val_loss: 0.6982 - val_accuracy: 0.5146\n",
            "Epoch 43/300\n",
            "27/27 [==============================] - 0s 8ms/step - loss: 0.6791 - accuracy: 0.5864 - val_loss: 0.7004 - val_accuracy: 0.5073\n",
            "Epoch 44/300\n",
            "27/27 [==============================] - 0s 7ms/step - loss: 0.6766 - accuracy: 0.5781 - val_loss: 0.6993 - val_accuracy: 0.5122\n",
            "Epoch 45/300\n",
            "27/27 [==============================] - 0s 7ms/step - loss: 0.6787 - accuracy: 0.5769 - val_loss: 0.7037 - val_accuracy: 0.4976\n",
            "Epoch 46/300\n",
            "27/27 [==============================] - 0s 7ms/step - loss: 0.6763 - accuracy: 0.5685 - val_loss: 0.7000 - val_accuracy: 0.5146\n",
            "Epoch 47/300\n",
            "27/27 [==============================] - 0s 7ms/step - loss: 0.6738 - accuracy: 0.5828 - val_loss: 0.7034 - val_accuracy: 0.5098\n",
            "Epoch 48/300\n",
            "27/27 [==============================] - 0s 7ms/step - loss: 0.6765 - accuracy: 0.5721 - val_loss: 0.7031 - val_accuracy: 0.5122\n",
            "Epoch 49/300\n",
            "27/27 [==============================] - 0s 7ms/step - loss: 0.6744 - accuracy: 0.5638 - val_loss: 0.7018 - val_accuracy: 0.5122\n",
            "Epoch 50/300\n",
            "27/27 [==============================] - 0s 7ms/step - loss: 0.6715 - accuracy: 0.5733 - val_loss: 0.7065 - val_accuracy: 0.4927\n",
            "Epoch 51/300\n",
            "27/27 [==============================] - 0s 7ms/step - loss: 0.6715 - accuracy: 0.5769 - val_loss: 0.7088 - val_accuracy: 0.5000\n",
            "Epoch 52/300\n",
            "27/27 [==============================] - 0s 8ms/step - loss: 0.6750 - accuracy: 0.5638 - val_loss: 0.7015 - val_accuracy: 0.5171\n",
            "Epoch 53/300\n",
            "27/27 [==============================] - 0s 7ms/step - loss: 0.6707 - accuracy: 0.5745 - val_loss: 0.7110 - val_accuracy: 0.4927\n",
            "Epoch 54/300\n",
            "27/27 [==============================] - 0s 7ms/step - loss: 0.6775 - accuracy: 0.5900 - val_loss: 0.7015 - val_accuracy: 0.4951\n",
            "Epoch 55/300\n",
            "27/27 [==============================] - 0s 8ms/step - loss: 0.6706 - accuracy: 0.5685 - val_loss: 0.7007 - val_accuracy: 0.5268\n",
            "Epoch 56/300\n",
            "27/27 [==============================] - 0s 7ms/step - loss: 0.6687 - accuracy: 0.5781 - val_loss: 0.7127 - val_accuracy: 0.4878\n",
            "Epoch 57/300\n",
            "27/27 [==============================] - 0s 7ms/step - loss: 0.6729 - accuracy: 0.5662 - val_loss: 0.7108 - val_accuracy: 0.4829\n",
            "Epoch 58/300\n",
            "27/27 [==============================] - 0s 7ms/step - loss: 0.6661 - accuracy: 0.5816 - val_loss: 0.7064 - val_accuracy: 0.4805\n",
            "Epoch 59/300\n",
            "27/27 [==============================] - 0s 8ms/step - loss: 0.6669 - accuracy: 0.5769 - val_loss: 0.7140 - val_accuracy: 0.4829\n",
            "Epoch 60/300\n",
            "27/27 [==============================] - 0s 7ms/step - loss: 0.6701 - accuracy: 0.5876 - val_loss: 0.7090 - val_accuracy: 0.4951\n",
            "Epoch 61/300\n",
            "27/27 [==============================] - 0s 7ms/step - loss: 0.6645 - accuracy: 0.5876 - val_loss: 0.7114 - val_accuracy: 0.4854\n",
            "Epoch 62/300\n",
            "27/27 [==============================] - 0s 8ms/step - loss: 0.6652 - accuracy: 0.5781 - val_loss: 0.7075 - val_accuracy: 0.5024\n",
            "Epoch 63/300\n",
            "27/27 [==============================] - 0s 7ms/step - loss: 0.6663 - accuracy: 0.5828 - val_loss: 0.7080 - val_accuracy: 0.5098\n",
            "Epoch 64/300\n",
            "27/27 [==============================] - 0s 7ms/step - loss: 0.6677 - accuracy: 0.5912 - val_loss: 0.7126 - val_accuracy: 0.4756\n",
            "Epoch 65/300\n",
            "27/27 [==============================] - 0s 7ms/step - loss: 0.6640 - accuracy: 0.5781 - val_loss: 0.7101 - val_accuracy: 0.5000\n",
            "Epoch 66/300\n",
            "27/27 [==============================] - 0s 7ms/step - loss: 0.6553 - accuracy: 0.5793 - val_loss: 0.7130 - val_accuracy: 0.4756\n",
            "Epoch 67/300\n",
            "27/27 [==============================] - 0s 7ms/step - loss: 0.6577 - accuracy: 0.5864 - val_loss: 0.7189 - val_accuracy: 0.4780\n",
            "Epoch 68/300\n",
            "27/27 [==============================] - 0s 7ms/step - loss: 0.6597 - accuracy: 0.5983 - val_loss: 0.7197 - val_accuracy: 0.4927\n",
            "Epoch 69/300\n",
            "27/27 [==============================] - 0s 7ms/step - loss: 0.6519 - accuracy: 0.6019 - val_loss: 0.7157 - val_accuracy: 0.4829\n",
            "Epoch 70/300\n",
            "27/27 [==============================] - 0s 7ms/step - loss: 0.6566 - accuracy: 0.6019 - val_loss: 0.7279 - val_accuracy: 0.4756\n",
            "Epoch 71/300\n",
            "27/27 [==============================] - 0s 8ms/step - loss: 0.6545 - accuracy: 0.5995 - val_loss: 0.7184 - val_accuracy: 0.4902\n",
            "Epoch 72/300\n",
            "27/27 [==============================] - 0s 7ms/step - loss: 0.6516 - accuracy: 0.6007 - val_loss: 0.7227 - val_accuracy: 0.4878\n",
            "Epoch 73/300\n",
            "27/27 [==============================] - 0s 7ms/step - loss: 0.6474 - accuracy: 0.5876 - val_loss: 0.7303 - val_accuracy: 0.4780\n",
            "Epoch 74/300\n",
            "27/27 [==============================] - 0s 7ms/step - loss: 0.6480 - accuracy: 0.6079 - val_loss: 0.7249 - val_accuracy: 0.4732\n",
            "Epoch 75/300\n",
            "27/27 [==============================] - 0s 7ms/step - loss: 0.6448 - accuracy: 0.6174 - val_loss: 0.7298 - val_accuracy: 0.4927\n",
            "Epoch 76/300\n",
            "27/27 [==============================] - 0s 7ms/step - loss: 0.6463 - accuracy: 0.6126 - val_loss: 0.7335 - val_accuracy: 0.4805\n",
            "Epoch 77/300\n",
            "27/27 [==============================] - 0s 7ms/step - loss: 0.6354 - accuracy: 0.6174 - val_loss: 0.7257 - val_accuracy: 0.4732\n",
            "Epoch 78/300\n",
            "27/27 [==============================] - 0s 7ms/step - loss: 0.6387 - accuracy: 0.6317 - val_loss: 0.7306 - val_accuracy: 0.4951\n",
            "Epoch 79/300\n",
            "27/27 [==============================] - 0s 7ms/step - loss: 0.6386 - accuracy: 0.6222 - val_loss: 0.7363 - val_accuracy: 0.4854\n",
            "Epoch 80/300\n",
            "27/27 [==============================] - 0s 7ms/step - loss: 0.6362 - accuracy: 0.6222 - val_loss: 0.7386 - val_accuracy: 0.4927\n",
            "Epoch 81/300\n",
            "27/27 [==============================] - 0s 7ms/step - loss: 0.6352 - accuracy: 0.6257 - val_loss: 0.7448 - val_accuracy: 0.4780\n",
            "Epoch 82/300\n",
            "27/27 [==============================] - 0s 7ms/step - loss: 0.6338 - accuracy: 0.6222 - val_loss: 0.7434 - val_accuracy: 0.4756\n",
            "Epoch 83/300\n",
            "27/27 [==============================] - 0s 7ms/step - loss: 0.6371 - accuracy: 0.6365 - val_loss: 0.7463 - val_accuracy: 0.4707\n",
            "Epoch 84/300\n",
            "27/27 [==============================] - 0s 7ms/step - loss: 0.6366 - accuracy: 0.6353 - val_loss: 0.7405 - val_accuracy: 0.4829\n",
            "Epoch 85/300\n",
            "27/27 [==============================] - 0s 7ms/step - loss: 0.6321 - accuracy: 0.6257 - val_loss: 0.7489 - val_accuracy: 0.4732\n",
            "Epoch 86/300\n",
            "27/27 [==============================] - 0s 8ms/step - loss: 0.6311 - accuracy: 0.6329 - val_loss: 0.7462 - val_accuracy: 0.4634\n",
            "Epoch 87/300\n",
            "27/27 [==============================] - 0s 7ms/step - loss: 0.6253 - accuracy: 0.6377 - val_loss: 0.7532 - val_accuracy: 0.4878\n",
            "Epoch 88/300\n",
            "27/27 [==============================] - 0s 7ms/step - loss: 0.6268 - accuracy: 0.6508 - val_loss: 0.7554 - val_accuracy: 0.4951\n",
            "Epoch 89/300\n",
            "27/27 [==============================] - 0s 7ms/step - loss: 0.6290 - accuracy: 0.6400 - val_loss: 0.7491 - val_accuracy: 0.4732\n",
            "Epoch 90/300\n",
            "27/27 [==============================] - 0s 7ms/step - loss: 0.6178 - accuracy: 0.6436 - val_loss: 0.7462 - val_accuracy: 0.4854\n",
            "Epoch 91/300\n",
            "27/27 [==============================] - 0s 7ms/step - loss: 0.6201 - accuracy: 0.6341 - val_loss: 0.7552 - val_accuracy: 0.4878\n",
            "Epoch 92/300\n",
            "27/27 [==============================] - 0s 7ms/step - loss: 0.6119 - accuracy: 0.6591 - val_loss: 0.7557 - val_accuracy: 0.4659\n",
            "Epoch 93/300\n",
            "27/27 [==============================] - 0s 7ms/step - loss: 0.6093 - accuracy: 0.6472 - val_loss: 0.7639 - val_accuracy: 0.4756\n",
            "Epoch 94/300\n",
            "27/27 [==============================] - 0s 7ms/step - loss: 0.6115 - accuracy: 0.6544 - val_loss: 0.7724 - val_accuracy: 0.4561\n",
            "Epoch 95/300\n",
            "27/27 [==============================] - 0s 7ms/step - loss: 0.6187 - accuracy: 0.6377 - val_loss: 0.7672 - val_accuracy: 0.4756\n",
            "Epoch 96/300\n",
            "27/27 [==============================] - 0s 7ms/step - loss: 0.6129 - accuracy: 0.6591 - val_loss: 0.7646 - val_accuracy: 0.4878\n",
            "Epoch 97/300\n",
            "27/27 [==============================] - 0s 7ms/step - loss: 0.6084 - accuracy: 0.6544 - val_loss: 0.7685 - val_accuracy: 0.4927\n",
            "Epoch 98/300\n",
            "27/27 [==============================] - 0s 7ms/step - loss: 0.5938 - accuracy: 0.6532 - val_loss: 0.7786 - val_accuracy: 0.4683\n",
            "Epoch 99/300\n",
            "27/27 [==============================] - 0s 7ms/step - loss: 0.5992 - accuracy: 0.6579 - val_loss: 0.7793 - val_accuracy: 0.4902\n",
            "Epoch 100/300\n",
            "27/27 [==============================] - 0s 7ms/step - loss: 0.5950 - accuracy: 0.6579 - val_loss: 0.7767 - val_accuracy: 0.4805\n",
            "Epoch 101/300\n",
            "27/27 [==============================] - 0s 7ms/step - loss: 0.5906 - accuracy: 0.6555 - val_loss: 0.7793 - val_accuracy: 0.4805\n",
            "Epoch 102/300\n",
            "27/27 [==============================] - 0s 7ms/step - loss: 0.5992 - accuracy: 0.6639 - val_loss: 0.7766 - val_accuracy: 0.5024\n",
            "Epoch 103/300\n",
            "27/27 [==============================] - 0s 7ms/step - loss: 0.6007 - accuracy: 0.6651 - val_loss: 0.7839 - val_accuracy: 0.4780\n",
            "Epoch 104/300\n",
            "27/27 [==============================] - 0s 7ms/step - loss: 0.5904 - accuracy: 0.6746 - val_loss: 0.7878 - val_accuracy: 0.4805\n",
            "Epoch 105/300\n",
            "27/27 [==============================] - 0s 7ms/step - loss: 0.5922 - accuracy: 0.6758 - val_loss: 0.7907 - val_accuracy: 0.4732\n",
            "Epoch 106/300\n",
            "27/27 [==============================] - 0s 7ms/step - loss: 0.5881 - accuracy: 0.6579 - val_loss: 0.8001 - val_accuracy: 0.4902\n",
            "Epoch 107/300\n",
            "27/27 [==============================] - 0s 7ms/step - loss: 0.5925 - accuracy: 0.6675 - val_loss: 0.7808 - val_accuracy: 0.4976\n",
            "Epoch 108/300\n",
            "27/27 [==============================] - 0s 7ms/step - loss: 0.5878 - accuracy: 0.6746 - val_loss: 0.7869 - val_accuracy: 0.4951\n",
            "Epoch 109/300\n",
            "27/27 [==============================] - 0s 7ms/step - loss: 0.5798 - accuracy: 0.6830 - val_loss: 0.7987 - val_accuracy: 0.4829\n",
            "Epoch 110/300\n",
            "27/27 [==============================] - 0s 7ms/step - loss: 0.5729 - accuracy: 0.6877 - val_loss: 0.8025 - val_accuracy: 0.4732\n",
            "Epoch 111/300\n",
            "27/27 [==============================] - 0s 8ms/step - loss: 0.5782 - accuracy: 0.6806 - val_loss: 0.7957 - val_accuracy: 0.4951\n",
            "Epoch 112/300\n",
            "27/27 [==============================] - 0s 7ms/step - loss: 0.5740 - accuracy: 0.6818 - val_loss: 0.8129 - val_accuracy: 0.4927\n",
            "Epoch 113/300\n",
            "27/27 [==============================] - 0s 7ms/step - loss: 0.5695 - accuracy: 0.6734 - val_loss: 0.8135 - val_accuracy: 0.5000\n",
            "Epoch 114/300\n",
            "27/27 [==============================] - 0s 7ms/step - loss: 0.5646 - accuracy: 0.6770 - val_loss: 0.8130 - val_accuracy: 0.4951\n",
            "Epoch 115/300\n",
            "27/27 [==============================] - 0s 7ms/step - loss: 0.5523 - accuracy: 0.6949 - val_loss: 0.8265 - val_accuracy: 0.4756\n",
            "Epoch 116/300\n",
            "27/27 [==============================] - 0s 7ms/step - loss: 0.5631 - accuracy: 0.6722 - val_loss: 0.8108 - val_accuracy: 0.5049\n",
            "Epoch 117/300\n",
            "27/27 [==============================] - 0s 7ms/step - loss: 0.5541 - accuracy: 0.6949 - val_loss: 0.8207 - val_accuracy: 0.4976\n",
            "Epoch 118/300\n",
            "27/27 [==============================] - 0s 7ms/step - loss: 0.5555 - accuracy: 0.6830 - val_loss: 0.8200 - val_accuracy: 0.4829\n",
            "Epoch 119/300\n",
            "27/27 [==============================] - 0s 7ms/step - loss: 0.5485 - accuracy: 0.6925 - val_loss: 0.8448 - val_accuracy: 0.4829\n",
            "Epoch 120/300\n",
            "27/27 [==============================] - 0s 7ms/step - loss: 0.5511 - accuracy: 0.6877 - val_loss: 0.8291 - val_accuracy: 0.4902\n",
            "Epoch 121/300\n",
            "27/27 [==============================] - 0s 7ms/step - loss: 0.5565 - accuracy: 0.7020 - val_loss: 0.8329 - val_accuracy: 0.4829\n",
            "Epoch 122/300\n",
            "27/27 [==============================] - 0s 7ms/step - loss: 0.5430 - accuracy: 0.7008 - val_loss: 0.8388 - val_accuracy: 0.4829\n",
            "Epoch 123/300\n",
            "27/27 [==============================] - 0s 7ms/step - loss: 0.5440 - accuracy: 0.6973 - val_loss: 0.8291 - val_accuracy: 0.4976\n",
            "Epoch 124/300\n",
            "27/27 [==============================] - 0s 7ms/step - loss: 0.5462 - accuracy: 0.6996 - val_loss: 0.8307 - val_accuracy: 0.4732\n",
            "Epoch 125/300\n",
            "27/27 [==============================] - 0s 7ms/step - loss: 0.5395 - accuracy: 0.7008 - val_loss: 0.8422 - val_accuracy: 0.4976\n",
            "Epoch 126/300\n",
            "27/27 [==============================] - 0s 7ms/step - loss: 0.5278 - accuracy: 0.7163 - val_loss: 0.8369 - val_accuracy: 0.5098\n",
            "Epoch 127/300\n",
            "27/27 [==============================] - 0s 7ms/step - loss: 0.5385 - accuracy: 0.7116 - val_loss: 0.8479 - val_accuracy: 0.4878\n",
            "Epoch 128/300\n",
            "27/27 [==============================] - 0s 7ms/step - loss: 0.5349 - accuracy: 0.7080 - val_loss: 0.8305 - val_accuracy: 0.5171\n",
            "Epoch 129/300\n",
            "27/27 [==============================] - 0s 7ms/step - loss: 0.5261 - accuracy: 0.7092 - val_loss: 0.8509 - val_accuracy: 0.4756\n",
            "Epoch 130/300\n",
            "27/27 [==============================] - 0s 7ms/step - loss: 0.5339 - accuracy: 0.7211 - val_loss: 0.8509 - val_accuracy: 0.4854\n",
            "Epoch 131/300\n",
            "27/27 [==============================] - 0s 7ms/step - loss: 0.5281 - accuracy: 0.7080 - val_loss: 0.8462 - val_accuracy: 0.5146\n",
            "Epoch 132/300\n",
            "27/27 [==============================] - 0s 7ms/step - loss: 0.5191 - accuracy: 0.7235 - val_loss: 0.8510 - val_accuracy: 0.4780\n",
            "Epoch 133/300\n",
            "27/27 [==============================] - 0s 7ms/step - loss: 0.5171 - accuracy: 0.7163 - val_loss: 0.8578 - val_accuracy: 0.4780\n",
            "Epoch 134/300\n",
            "27/27 [==============================] - 0s 8ms/step - loss: 0.5176 - accuracy: 0.7271 - val_loss: 0.8452 - val_accuracy: 0.5073\n",
            "Epoch 135/300\n",
            "27/27 [==============================] - 0s 8ms/step - loss: 0.5130 - accuracy: 0.7175 - val_loss: 0.8669 - val_accuracy: 0.5073\n",
            "Epoch 136/300\n",
            "27/27 [==============================] - 0s 7ms/step - loss: 0.5116 - accuracy: 0.7282 - val_loss: 0.8616 - val_accuracy: 0.4976\n",
            "Epoch 137/300\n",
            "27/27 [==============================] - 0s 7ms/step - loss: 0.5025 - accuracy: 0.7342 - val_loss: 0.8438 - val_accuracy: 0.5244\n",
            "Epoch 138/300\n",
            "27/27 [==============================] - 0s 7ms/step - loss: 0.4951 - accuracy: 0.7342 - val_loss: 0.8773 - val_accuracy: 0.5122\n",
            "Epoch 139/300\n",
            "27/27 [==============================] - 0s 7ms/step - loss: 0.5113 - accuracy: 0.7402 - val_loss: 0.8589 - val_accuracy: 0.5049\n",
            "Epoch 140/300\n",
            "27/27 [==============================] - 0s 8ms/step - loss: 0.5014 - accuracy: 0.7437 - val_loss: 0.8878 - val_accuracy: 0.5049\n",
            "Epoch 141/300\n",
            "27/27 [==============================] - 0s 8ms/step - loss: 0.4976 - accuracy: 0.7366 - val_loss: 0.8751 - val_accuracy: 0.4756\n",
            "Epoch 142/300\n",
            "27/27 [==============================] - 0s 7ms/step - loss: 0.4883 - accuracy: 0.7497 - val_loss: 0.8718 - val_accuracy: 0.5122\n",
            "Epoch 143/300\n",
            "27/27 [==============================] - 0s 7ms/step - loss: 0.4888 - accuracy: 0.7533 - val_loss: 0.8752 - val_accuracy: 0.5146\n",
            "Epoch 144/300\n",
            "27/27 [==============================] - 0s 7ms/step - loss: 0.4836 - accuracy: 0.7402 - val_loss: 0.8874 - val_accuracy: 0.4976\n",
            "Epoch 145/300\n",
            "27/27 [==============================] - 0s 8ms/step - loss: 0.4788 - accuracy: 0.7569 - val_loss: 0.8752 - val_accuracy: 0.5049\n",
            "Epoch 146/300\n",
            "27/27 [==============================] - 0s 8ms/step - loss: 0.4717 - accuracy: 0.7628 - val_loss: 0.8925 - val_accuracy: 0.5122\n",
            "Epoch 147/300\n",
            "27/27 [==============================] - 0s 7ms/step - loss: 0.4705 - accuracy: 0.7688 - val_loss: 0.8837 - val_accuracy: 0.4951\n",
            "Epoch 148/300\n",
            "27/27 [==============================] - 0s 7ms/step - loss: 0.4818 - accuracy: 0.7640 - val_loss: 0.8960 - val_accuracy: 0.5049\n",
            "Epoch 149/300\n",
            "27/27 [==============================] - 0s 7ms/step - loss: 0.4805 - accuracy: 0.7461 - val_loss: 0.8824 - val_accuracy: 0.5317\n",
            "Epoch 150/300\n",
            "27/27 [==============================] - 0s 7ms/step - loss: 0.4728 - accuracy: 0.7592 - val_loss: 0.9121 - val_accuracy: 0.4927\n",
            "Epoch 151/300\n",
            "27/27 [==============================] - 0s 7ms/step - loss: 0.4659 - accuracy: 0.7664 - val_loss: 0.8910 - val_accuracy: 0.5171\n",
            "Epoch 152/300\n",
            "27/27 [==============================] - 0s 7ms/step - loss: 0.4713 - accuracy: 0.7783 - val_loss: 0.8897 - val_accuracy: 0.5049\n",
            "Epoch 153/300\n",
            "27/27 [==============================] - 0s 7ms/step - loss: 0.4681 - accuracy: 0.7640 - val_loss: 0.8908 - val_accuracy: 0.5268\n",
            "Epoch 154/300\n",
            "27/27 [==============================] - 0s 7ms/step - loss: 0.4538 - accuracy: 0.7819 - val_loss: 0.8923 - val_accuracy: 0.5098\n",
            "Epoch 155/300\n",
            "27/27 [==============================] - 0s 8ms/step - loss: 0.4550 - accuracy: 0.7747 - val_loss: 0.9191 - val_accuracy: 0.5000\n",
            "Epoch 156/300\n",
            "27/27 [==============================] - 0s 7ms/step - loss: 0.4510 - accuracy: 0.7759 - val_loss: 0.8953 - val_accuracy: 0.5268\n",
            "Epoch 157/300\n",
            "27/27 [==============================] - 0s 7ms/step - loss: 0.4355 - accuracy: 0.7843 - val_loss: 0.9142 - val_accuracy: 0.5146\n",
            "Epoch 158/300\n",
            "27/27 [==============================] - 0s 7ms/step - loss: 0.4411 - accuracy: 0.7962 - val_loss: 0.9330 - val_accuracy: 0.5073\n",
            "Epoch 159/300\n",
            "27/27 [==============================] - 0s 7ms/step - loss: 0.4456 - accuracy: 0.7771 - val_loss: 0.9174 - val_accuracy: 0.4805\n",
            "Epoch 160/300\n",
            "27/27 [==============================] - 0s 7ms/step - loss: 0.4467 - accuracy: 0.7735 - val_loss: 0.9222 - val_accuracy: 0.5146\n",
            "Epoch 161/300\n",
            "27/27 [==============================] - 0s 7ms/step - loss: 0.4382 - accuracy: 0.7843 - val_loss: 0.9285 - val_accuracy: 0.5268\n",
            "Epoch 162/300\n",
            "27/27 [==============================] - 0s 7ms/step - loss: 0.4318 - accuracy: 0.7783 - val_loss: 0.9265 - val_accuracy: 0.4902\n",
            "Epoch 163/300\n",
            "27/27 [==============================] - 0s 7ms/step - loss: 0.4234 - accuracy: 0.7795 - val_loss: 0.9358 - val_accuracy: 0.5244\n",
            "Epoch 164/300\n",
            "27/27 [==============================] - 0s 7ms/step - loss: 0.4308 - accuracy: 0.7831 - val_loss: 0.9291 - val_accuracy: 0.4951\n",
            "Epoch 165/300\n",
            "27/27 [==============================] - 0s 8ms/step - loss: 0.4203 - accuracy: 0.7926 - val_loss: 0.9244 - val_accuracy: 0.5171\n",
            "Epoch 166/300\n",
            "27/27 [==============================] - 0s 7ms/step - loss: 0.4169 - accuracy: 0.7950 - val_loss: 0.9285 - val_accuracy: 0.5171\n",
            "Epoch 167/300\n",
            "27/27 [==============================] - 0s 8ms/step - loss: 0.4258 - accuracy: 0.7974 - val_loss: 0.9468 - val_accuracy: 0.5122\n",
            "Epoch 168/300\n",
            "27/27 [==============================] - 0s 7ms/step - loss: 0.4114 - accuracy: 0.7938 - val_loss: 0.9451 - val_accuracy: 0.5049\n",
            "Epoch 169/300\n",
            "27/27 [==============================] - 0s 7ms/step - loss: 0.4165 - accuracy: 0.8021 - val_loss: 0.9403 - val_accuracy: 0.5171\n",
            "Epoch 170/300\n",
            "27/27 [==============================] - 0s 7ms/step - loss: 0.4103 - accuracy: 0.8081 - val_loss: 0.9346 - val_accuracy: 0.5146\n",
            "Epoch 171/300\n",
            "27/27 [==============================] - 0s 7ms/step - loss: 0.4074 - accuracy: 0.8045 - val_loss: 0.9424 - val_accuracy: 0.5268\n",
            "Epoch 172/300\n",
            "27/27 [==============================] - 0s 7ms/step - loss: 0.4437 - accuracy: 0.7878 - val_loss: 0.9657 - val_accuracy: 0.5317\n",
            "Epoch 173/300\n",
            "27/27 [==============================] - 0s 7ms/step - loss: 0.4262 - accuracy: 0.8021 - val_loss: 0.9513 - val_accuracy: 0.5293\n",
            "Epoch 174/300\n",
            "27/27 [==============================] - 0s 8ms/step - loss: 0.4118 - accuracy: 0.8021 - val_loss: 0.9567 - val_accuracy: 0.5293\n",
            "Epoch 175/300\n",
            "27/27 [==============================] - 0s 8ms/step - loss: 0.4131 - accuracy: 0.7938 - val_loss: 0.9564 - val_accuracy: 0.5220\n",
            "Epoch 176/300\n",
            "27/27 [==============================] - 0s 7ms/step - loss: 0.4173 - accuracy: 0.7902 - val_loss: 0.9882 - val_accuracy: 0.5195\n",
            "Epoch 177/300\n",
            "27/27 [==============================] - 0s 7ms/step - loss: 0.4002 - accuracy: 0.8057 - val_loss: 0.9777 - val_accuracy: 0.5146\n",
            "Epoch 178/300\n",
            "27/27 [==============================] - 0s 7ms/step - loss: 0.3818 - accuracy: 0.8176 - val_loss: 0.9697 - val_accuracy: 0.5146\n",
            "Epoch 179/300\n",
            "27/27 [==============================] - 0s 7ms/step - loss: 0.3787 - accuracy: 0.8129 - val_loss: 0.9797 - val_accuracy: 0.4951\n",
            "Epoch 180/300\n",
            "27/27 [==============================] - 0s 7ms/step - loss: 0.3983 - accuracy: 0.8021 - val_loss: 0.9916 - val_accuracy: 0.5366\n",
            "Epoch 181/300\n",
            "27/27 [==============================] - 0s 7ms/step - loss: 0.3750 - accuracy: 0.8176 - val_loss: 0.9994 - val_accuracy: 0.5098\n",
            "Epoch 182/300\n",
            "27/27 [==============================] - 0s 7ms/step - loss: 0.3745 - accuracy: 0.8164 - val_loss: 0.9887 - val_accuracy: 0.5049\n",
            "Epoch 183/300\n",
            "27/27 [==============================] - 0s 8ms/step - loss: 0.3740 - accuracy: 0.8248 - val_loss: 1.0149 - val_accuracy: 0.5415\n",
            "Epoch 184/300\n",
            "27/27 [==============================] - 0s 7ms/step - loss: 0.3750 - accuracy: 0.8284 - val_loss: 1.0143 - val_accuracy: 0.5049\n",
            "Epoch 185/300\n",
            "27/27 [==============================] - 0s 7ms/step - loss: 0.3584 - accuracy: 0.8296 - val_loss: 1.0042 - val_accuracy: 0.5366\n",
            "Epoch 186/300\n",
            "27/27 [==============================] - 0s 7ms/step - loss: 0.3536 - accuracy: 0.8308 - val_loss: 1.0254 - val_accuracy: 0.5220\n",
            "Epoch 187/300\n",
            "27/27 [==============================] - 0s 7ms/step - loss: 0.3688 - accuracy: 0.8248 - val_loss: 1.0235 - val_accuracy: 0.5195\n",
            "Epoch 188/300\n",
            "27/27 [==============================] - 0s 7ms/step - loss: 0.3681 - accuracy: 0.8224 - val_loss: 1.0129 - val_accuracy: 0.5268\n",
            "Epoch 189/300\n",
            "27/27 [==============================] - 0s 7ms/step - loss: 0.3511 - accuracy: 0.8391 - val_loss: 1.0380 - val_accuracy: 0.5122\n",
            "Epoch 190/300\n",
            "27/27 [==============================] - 0s 7ms/step - loss: 0.3589 - accuracy: 0.8427 - val_loss: 1.0309 - val_accuracy: 0.5146\n",
            "Epoch 191/300\n",
            "27/27 [==============================] - 0s 7ms/step - loss: 0.3511 - accuracy: 0.8331 - val_loss: 1.0468 - val_accuracy: 0.5220\n",
            "Epoch 192/300\n",
            "27/27 [==============================] - 0s 7ms/step - loss: 0.3451 - accuracy: 0.8486 - val_loss: 1.0471 - val_accuracy: 0.5073\n",
            "Epoch 193/300\n",
            "27/27 [==============================] - 0s 7ms/step - loss: 0.3404 - accuracy: 0.8319 - val_loss: 1.0389 - val_accuracy: 0.5220\n",
            "Epoch 194/300\n",
            "27/27 [==============================] - 0s 7ms/step - loss: 0.3377 - accuracy: 0.8498 - val_loss: 1.0546 - val_accuracy: 0.5195\n",
            "Epoch 195/300\n",
            "27/27 [==============================] - 0s 7ms/step - loss: 0.3342 - accuracy: 0.8474 - val_loss: 1.0448 - val_accuracy: 0.5415\n",
            "Epoch 196/300\n",
            "27/27 [==============================] - 0s 7ms/step - loss: 0.3372 - accuracy: 0.8498 - val_loss: 1.0364 - val_accuracy: 0.5439\n",
            "Epoch 197/300\n",
            "27/27 [==============================] - 0s 7ms/step - loss: 0.3282 - accuracy: 0.8439 - val_loss: 1.0946 - val_accuracy: 0.4902\n",
            "Epoch 198/300\n",
            "27/27 [==============================] - 0s 8ms/step - loss: 0.3429 - accuracy: 0.8343 - val_loss: 1.0641 - val_accuracy: 0.5122\n",
            "Epoch 199/300\n",
            "27/27 [==============================] - 0s 7ms/step - loss: 0.3396 - accuracy: 0.8498 - val_loss: 1.0686 - val_accuracy: 0.5268\n",
            "Epoch 200/300\n",
            "27/27 [==============================] - 0s 7ms/step - loss: 0.3247 - accuracy: 0.8498 - val_loss: 1.0712 - val_accuracy: 0.5341\n",
            "Epoch 201/300\n",
            "27/27 [==============================] - 0s 7ms/step - loss: 0.3259 - accuracy: 0.8558 - val_loss: 1.0762 - val_accuracy: 0.5220\n",
            "Epoch 202/300\n",
            "27/27 [==============================] - 0s 8ms/step - loss: 0.3264 - accuracy: 0.8546 - val_loss: 1.0829 - val_accuracy: 0.5146\n",
            "Epoch 203/300\n",
            "27/27 [==============================] - 0s 7ms/step - loss: 0.3065 - accuracy: 0.8534 - val_loss: 1.0982 - val_accuracy: 0.5317\n",
            "Epoch 204/300\n",
            "27/27 [==============================] - 0s 7ms/step - loss: 0.3186 - accuracy: 0.8558 - val_loss: 1.0839 - val_accuracy: 0.5341\n",
            "Epoch 205/300\n",
            "27/27 [==============================] - 0s 7ms/step - loss: 0.3105 - accuracy: 0.8546 - val_loss: 1.1269 - val_accuracy: 0.4951\n",
            "Epoch 206/300\n",
            "27/27 [==============================] - 0s 8ms/step - loss: 0.3102 - accuracy: 0.8594 - val_loss: 1.1021 - val_accuracy: 0.5146\n",
            "Epoch 207/300\n",
            "27/27 [==============================] - 0s 8ms/step - loss: 0.2991 - accuracy: 0.8760 - val_loss: 1.1233 - val_accuracy: 0.5122\n",
            "Epoch 208/300\n",
            "27/27 [==============================] - 0s 7ms/step - loss: 0.3122 - accuracy: 0.8522 - val_loss: 1.1154 - val_accuracy: 0.5122\n",
            "Epoch 209/300\n",
            "27/27 [==============================] - 0s 8ms/step - loss: 0.2976 - accuracy: 0.8617 - val_loss: 1.1432 - val_accuracy: 0.5098\n",
            "Epoch 210/300\n",
            "27/27 [==============================] - 0s 7ms/step - loss: 0.3052 - accuracy: 0.8629 - val_loss: 1.1198 - val_accuracy: 0.5415\n",
            "Epoch 211/300\n",
            "27/27 [==============================] - 0s 8ms/step - loss: 0.2946 - accuracy: 0.8653 - val_loss: 1.1409 - val_accuracy: 0.4951\n",
            "Epoch 212/300\n",
            "27/27 [==============================] - 0s 7ms/step - loss: 0.2935 - accuracy: 0.8629 - val_loss: 1.1421 - val_accuracy: 0.5341\n",
            "Epoch 213/300\n",
            "27/27 [==============================] - 0s 7ms/step - loss: 0.2835 - accuracy: 0.8796 - val_loss: 1.1560 - val_accuracy: 0.4951\n",
            "Epoch 214/300\n",
            "27/27 [==============================] - 0s 8ms/step - loss: 0.2851 - accuracy: 0.8701 - val_loss: 1.1648 - val_accuracy: 0.5244\n",
            "Epoch 215/300\n",
            "27/27 [==============================] - 0s 8ms/step - loss: 0.2850 - accuracy: 0.8760 - val_loss: 1.1519 - val_accuracy: 0.5171\n",
            "Epoch 216/300\n",
            "27/27 [==============================] - 0s 7ms/step - loss: 0.2950 - accuracy: 0.8665 - val_loss: 1.1223 - val_accuracy: 0.5268\n",
            "Epoch 217/300\n",
            "27/27 [==============================] - 0s 8ms/step - loss: 0.2835 - accuracy: 0.8701 - val_loss: 1.1676 - val_accuracy: 0.5195\n",
            "Epoch 218/300\n",
            "27/27 [==============================] - 0s 8ms/step - loss: 0.2756 - accuracy: 0.8772 - val_loss: 1.1813 - val_accuracy: 0.5195\n",
            "Epoch 219/300\n",
            "27/27 [==============================] - 0s 7ms/step - loss: 0.2718 - accuracy: 0.8784 - val_loss: 1.1907 - val_accuracy: 0.5195\n",
            "Epoch 220/300\n",
            "27/27 [==============================] - 0s 7ms/step - loss: 0.2758 - accuracy: 0.8796 - val_loss: 1.1717 - val_accuracy: 0.5317\n",
            "Epoch 221/300\n",
            "27/27 [==============================] - 0s 8ms/step - loss: 0.2686 - accuracy: 0.8737 - val_loss: 1.2107 - val_accuracy: 0.5146\n",
            "Epoch 222/300\n",
            "27/27 [==============================] - 0s 7ms/step - loss: 0.2650 - accuracy: 0.8713 - val_loss: 1.1928 - val_accuracy: 0.5195\n",
            "Epoch 223/300\n",
            "27/27 [==============================] - 0s 8ms/step - loss: 0.2603 - accuracy: 0.8701 - val_loss: 1.1877 - val_accuracy: 0.5171\n",
            "Epoch 224/300\n",
            "27/27 [==============================] - 0s 7ms/step - loss: 0.2741 - accuracy: 0.8772 - val_loss: 1.2052 - val_accuracy: 0.5195\n",
            "Epoch 225/300\n",
            "27/27 [==============================] - 0s 7ms/step - loss: 0.2575 - accuracy: 0.8820 - val_loss: 1.2184 - val_accuracy: 0.5220\n",
            "Epoch 226/300\n",
            "27/27 [==============================] - 0s 7ms/step - loss: 0.2580 - accuracy: 0.8844 - val_loss: 1.2587 - val_accuracy: 0.5073\n",
            "Epoch 227/300\n",
            "27/27 [==============================] - 0s 7ms/step - loss: 0.2525 - accuracy: 0.8868 - val_loss: 1.2241 - val_accuracy: 0.5268\n",
            "Epoch 228/300\n",
            "27/27 [==============================] - 0s 7ms/step - loss: 0.2599 - accuracy: 0.8903 - val_loss: 1.2627 - val_accuracy: 0.5244\n",
            "Epoch 229/300\n",
            "27/27 [==============================] - 0s 7ms/step - loss: 0.2894 - accuracy: 0.8522 - val_loss: 1.2255 - val_accuracy: 0.5220\n",
            "Epoch 230/300\n",
            "27/27 [==============================] - 0s 8ms/step - loss: 0.2696 - accuracy: 0.8784 - val_loss: 1.2213 - val_accuracy: 0.5244\n",
            "Epoch 231/300\n",
            "27/27 [==============================] - 0s 7ms/step - loss: 0.2659 - accuracy: 0.8844 - val_loss: 1.2459 - val_accuracy: 0.5073\n",
            "Epoch 232/300\n",
            "27/27 [==============================] - 0s 8ms/step - loss: 0.2628 - accuracy: 0.8737 - val_loss: 1.2631 - val_accuracy: 0.5317\n",
            "Epoch 233/300\n",
            "27/27 [==============================] - 0s 8ms/step - loss: 0.2639 - accuracy: 0.8868 - val_loss: 1.2393 - val_accuracy: 0.5293\n",
            "Epoch 234/300\n",
            "27/27 [==============================] - 0s 8ms/step - loss: 0.2730 - accuracy: 0.8844 - val_loss: 1.2519 - val_accuracy: 0.5220\n",
            "Epoch 235/300\n",
            "27/27 [==============================] - 0s 7ms/step - loss: 0.2503 - accuracy: 0.8999 - val_loss: 1.2484 - val_accuracy: 0.5293\n",
            "Epoch 236/300\n",
            "27/27 [==============================] - 0s 8ms/step - loss: 0.2534 - accuracy: 0.8903 - val_loss: 1.2619 - val_accuracy: 0.5268\n",
            "Epoch 237/300\n",
            "27/27 [==============================] - 0s 8ms/step - loss: 0.2381 - accuracy: 0.8999 - val_loss: 1.2303 - val_accuracy: 0.5122\n",
            "Epoch 238/300\n",
            "27/27 [==============================] - 0s 7ms/step - loss: 0.2328 - accuracy: 0.9011 - val_loss: 1.2548 - val_accuracy: 0.5171\n",
            "Epoch 239/300\n",
            "27/27 [==============================] - 0s 8ms/step - loss: 0.2222 - accuracy: 0.9082 - val_loss: 1.2498 - val_accuracy: 0.5293\n",
            "Epoch 240/300\n",
            "27/27 [==============================] - 0s 15ms/step - loss: 0.2293 - accuracy: 0.8987 - val_loss: 1.2707 - val_accuracy: 0.5220\n",
            "Epoch 241/300\n",
            "27/27 [==============================] - 0s 7ms/step - loss: 0.2234 - accuracy: 0.8987 - val_loss: 1.2739 - val_accuracy: 0.5098\n",
            "Epoch 242/300\n",
            "27/27 [==============================] - 0s 7ms/step - loss: 0.2444 - accuracy: 0.8999 - val_loss: 1.2739 - val_accuracy: 0.5220\n",
            "Epoch 243/300\n",
            "27/27 [==============================] - 0s 7ms/step - loss: 0.2311 - accuracy: 0.9035 - val_loss: 1.3064 - val_accuracy: 0.5293\n",
            "Epoch 244/300\n",
            "27/27 [==============================] - 0s 7ms/step - loss: 0.2589 - accuracy: 0.8975 - val_loss: 1.2181 - val_accuracy: 0.5244\n",
            "Epoch 245/300\n",
            "27/27 [==============================] - 0s 7ms/step - loss: 0.2571 - accuracy: 0.8832 - val_loss: 1.2393 - val_accuracy: 0.5293\n",
            "Epoch 246/300\n",
            "27/27 [==============================] - 0s 7ms/step - loss: 0.2459 - accuracy: 0.8880 - val_loss: 1.3149 - val_accuracy: 0.5317\n",
            "Epoch 247/300\n",
            "27/27 [==============================] - 0s 7ms/step - loss: 0.2211 - accuracy: 0.9070 - val_loss: 1.2780 - val_accuracy: 0.5366\n",
            "Epoch 248/300\n",
            "27/27 [==============================] - 0s 7ms/step - loss: 0.2093 - accuracy: 0.9142 - val_loss: 1.2988 - val_accuracy: 0.5390\n",
            "Epoch 249/300\n",
            "27/27 [==============================] - 0s 8ms/step - loss: 0.2125 - accuracy: 0.9118 - val_loss: 1.3088 - val_accuracy: 0.5293\n",
            "Epoch 250/300\n",
            "27/27 [==============================] - 0s 7ms/step - loss: 0.2180 - accuracy: 0.9130 - val_loss: 1.3083 - val_accuracy: 0.5268\n",
            "Epoch 251/300\n",
            "27/27 [==============================] - 0s 7ms/step - loss: 0.2149 - accuracy: 0.9142 - val_loss: 1.3088 - val_accuracy: 0.5195\n",
            "Epoch 252/300\n",
            "27/27 [==============================] - 0s 7ms/step - loss: 0.2379 - accuracy: 0.8927 - val_loss: 1.3436 - val_accuracy: 0.5220\n",
            "Epoch 253/300\n",
            "27/27 [==============================] - 0s 8ms/step - loss: 0.2186 - accuracy: 0.9190 - val_loss: 1.3191 - val_accuracy: 0.5268\n",
            "Epoch 254/300\n",
            "27/27 [==============================] - 0s 8ms/step - loss: 0.2126 - accuracy: 0.9154 - val_loss: 1.3340 - val_accuracy: 0.5195\n",
            "Epoch 255/300\n",
            "27/27 [==============================] - 0s 8ms/step - loss: 0.2083 - accuracy: 0.9190 - val_loss: 1.3206 - val_accuracy: 0.5317\n",
            "Epoch 256/300\n",
            "27/27 [==============================] - 0s 8ms/step - loss: 0.2164 - accuracy: 0.9058 - val_loss: 1.3279 - val_accuracy: 0.5293\n",
            "Epoch 257/300\n",
            "27/27 [==============================] - 0s 8ms/step - loss: 0.2180 - accuracy: 0.9011 - val_loss: 1.3148 - val_accuracy: 0.5390\n",
            "Epoch 258/300\n",
            "27/27 [==============================] - 0s 8ms/step - loss: 0.2067 - accuracy: 0.9118 - val_loss: 1.3832 - val_accuracy: 0.5171\n",
            "Epoch 259/300\n",
            "27/27 [==============================] - 0s 8ms/step - loss: 0.2627 - accuracy: 0.8868 - val_loss: 1.3627 - val_accuracy: 0.5146\n",
            "Epoch 260/300\n",
            "27/27 [==============================] - 0s 8ms/step - loss: 0.2187 - accuracy: 0.9011 - val_loss: 1.3119 - val_accuracy: 0.5317\n",
            "Epoch 261/300\n",
            "27/27 [==============================] - 0s 8ms/step - loss: 0.2130 - accuracy: 0.9130 - val_loss: 1.3738 - val_accuracy: 0.5244\n",
            "Epoch 262/300\n",
            "27/27 [==============================] - 0s 8ms/step - loss: 0.1983 - accuracy: 0.9225 - val_loss: 1.3680 - val_accuracy: 0.5122\n",
            "Epoch 263/300\n",
            "27/27 [==============================] - 0s 8ms/step - loss: 0.2153 - accuracy: 0.9094 - val_loss: 1.3414 - val_accuracy: 0.5220\n",
            "Epoch 264/300\n",
            "27/27 [==============================] - 0s 8ms/step - loss: 0.1981 - accuracy: 0.9237 - val_loss: 1.3766 - val_accuracy: 0.5317\n",
            "Epoch 265/300\n",
            "27/27 [==============================] - 0s 8ms/step - loss: 0.1871 - accuracy: 0.9285 - val_loss: 1.3760 - val_accuracy: 0.5073\n",
            "Epoch 266/300\n",
            "27/27 [==============================] - 0s 8ms/step - loss: 0.1905 - accuracy: 0.9213 - val_loss: 1.3855 - val_accuracy: 0.5317\n",
            "Epoch 267/300\n",
            "27/27 [==============================] - 0s 8ms/step - loss: 0.1823 - accuracy: 0.9309 - val_loss: 1.3781 - val_accuracy: 0.5195\n",
            "Epoch 268/300\n",
            "27/27 [==============================] - 0s 8ms/step - loss: 0.1943 - accuracy: 0.9237 - val_loss: 1.3839 - val_accuracy: 0.5366\n",
            "Epoch 269/300\n",
            "27/27 [==============================] - 0s 8ms/step - loss: 0.1913 - accuracy: 0.9178 - val_loss: 1.4005 - val_accuracy: 0.5171\n",
            "Epoch 270/300\n",
            "27/27 [==============================] - 0s 8ms/step - loss: 0.1788 - accuracy: 0.9261 - val_loss: 1.4343 - val_accuracy: 0.5244\n",
            "Epoch 271/300\n",
            "27/27 [==============================] - 0s 8ms/step - loss: 0.1795 - accuracy: 0.9249 - val_loss: 1.4060 - val_accuracy: 0.5317\n",
            "Epoch 272/300\n",
            "27/27 [==============================] - 0s 8ms/step - loss: 0.1721 - accuracy: 0.9309 - val_loss: 1.4263 - val_accuracy: 0.5268\n",
            "Epoch 273/300\n",
            "27/27 [==============================] - 0s 8ms/step - loss: 0.1740 - accuracy: 0.9344 - val_loss: 1.4633 - val_accuracy: 0.5366\n",
            "Epoch 274/300\n",
            "27/27 [==============================] - 0s 8ms/step - loss: 0.1773 - accuracy: 0.9356 - val_loss: 1.4503 - val_accuracy: 0.5146\n",
            "Epoch 275/300\n",
            "27/27 [==============================] - 0s 8ms/step - loss: 0.1790 - accuracy: 0.9273 - val_loss: 1.4495 - val_accuracy: 0.5268\n",
            "Epoch 276/300\n",
            "27/27 [==============================] - 0s 8ms/step - loss: 0.1743 - accuracy: 0.9416 - val_loss: 1.4916 - val_accuracy: 0.5146\n",
            "Epoch 277/300\n",
            "27/27 [==============================] - 0s 8ms/step - loss: 0.1751 - accuracy: 0.9344 - val_loss: 1.4417 - val_accuracy: 0.5317\n",
            "Epoch 278/300\n",
            "27/27 [==============================] - 0s 8ms/step - loss: 0.1702 - accuracy: 0.9380 - val_loss: 1.4856 - val_accuracy: 0.5366\n",
            "Epoch 279/300\n",
            "27/27 [==============================] - 0s 8ms/step - loss: 0.1599 - accuracy: 0.9356 - val_loss: 1.4579 - val_accuracy: 0.5171\n",
            "Epoch 280/300\n",
            "27/27 [==============================] - 0s 8ms/step - loss: 0.1661 - accuracy: 0.9368 - val_loss: 1.5021 - val_accuracy: 0.5366\n",
            "Epoch 281/300\n",
            "27/27 [==============================] - 0s 8ms/step - loss: 0.1647 - accuracy: 0.9344 - val_loss: 1.4748 - val_accuracy: 0.5366\n",
            "Epoch 282/300\n",
            "27/27 [==============================] - 0s 8ms/step - loss: 0.1694 - accuracy: 0.9225 - val_loss: 1.5225 - val_accuracy: 0.5268\n",
            "Epoch 283/300\n",
            "27/27 [==============================] - 0s 8ms/step - loss: 0.1661 - accuracy: 0.9333 - val_loss: 1.4943 - val_accuracy: 0.5195\n",
            "Epoch 284/300\n",
            "27/27 [==============================] - 0s 7ms/step - loss: 0.1563 - accuracy: 0.9392 - val_loss: 1.5290 - val_accuracy: 0.5049\n",
            "Epoch 285/300\n",
            "27/27 [==============================] - 0s 7ms/step - loss: 0.1599 - accuracy: 0.9285 - val_loss: 1.5441 - val_accuracy: 0.5293\n",
            "Epoch 286/300\n",
            "27/27 [==============================] - 0s 7ms/step - loss: 0.1533 - accuracy: 0.9452 - val_loss: 1.4952 - val_accuracy: 0.5244\n",
            "Epoch 287/300\n",
            "27/27 [==============================] - 0s 7ms/step - loss: 0.1625 - accuracy: 0.9368 - val_loss: 1.5562 - val_accuracy: 0.5073\n",
            "Epoch 288/300\n",
            "27/27 [==============================] - 0s 7ms/step - loss: 0.1714 - accuracy: 0.9249 - val_loss: 1.5396 - val_accuracy: 0.5293\n",
            "Epoch 289/300\n",
            "27/27 [==============================] - 0s 7ms/step - loss: 0.1613 - accuracy: 0.9404 - val_loss: 1.5525 - val_accuracy: 0.5317\n",
            "Epoch 290/300\n",
            "27/27 [==============================] - 0s 8ms/step - loss: 0.1506 - accuracy: 0.9380 - val_loss: 1.5839 - val_accuracy: 0.5049\n",
            "Epoch 291/300\n",
            "27/27 [==============================] - 0s 7ms/step - loss: 0.1537 - accuracy: 0.9404 - val_loss: 1.5923 - val_accuracy: 0.5220\n",
            "Epoch 292/300\n",
            "27/27 [==============================] - 0s 8ms/step - loss: 0.1533 - accuracy: 0.9344 - val_loss: 1.5938 - val_accuracy: 0.5244\n",
            "Epoch 293/300\n",
            "27/27 [==============================] - 0s 7ms/step - loss: 0.1607 - accuracy: 0.9297 - val_loss: 1.5832 - val_accuracy: 0.5122\n",
            "Epoch 294/300\n",
            "27/27 [==============================] - 0s 7ms/step - loss: 0.1633 - accuracy: 0.9404 - val_loss: 1.5613 - val_accuracy: 0.5244\n",
            "Epoch 295/300\n",
            "27/27 [==============================] - 0s 8ms/step - loss: 0.1653 - accuracy: 0.9285 - val_loss: 1.5727 - val_accuracy: 0.5390\n",
            "Epoch 296/300\n",
            "27/27 [==============================] - 0s 7ms/step - loss: 0.1625 - accuracy: 0.9356 - val_loss: 1.6136 - val_accuracy: 0.5220\n",
            "Epoch 297/300\n",
            "27/27 [==============================] - 0s 8ms/step - loss: 0.1548 - accuracy: 0.9356 - val_loss: 1.5722 - val_accuracy: 0.5220\n",
            "Epoch 298/300\n",
            "27/27 [==============================] - 0s 7ms/step - loss: 0.1493 - accuracy: 0.9380 - val_loss: 1.5691 - val_accuracy: 0.5268\n",
            "Epoch 299/300\n",
            "27/27 [==============================] - 0s 7ms/step - loss: 0.1417 - accuracy: 0.9440 - val_loss: 1.5790 - val_accuracy: 0.5366\n",
            "Epoch 300/300\n",
            "27/27 [==============================] - 0s 7ms/step - loss: 0.1358 - accuracy: 0.9440 - val_loss: 1.6269 - val_accuracy: 0.5195\n"
          ],
          "name": "stdout"
        }
      ]
    },
    {
      "cell_type": "code",
      "metadata": {
        "id": "erq--mqRRgfR",
        "colab_type": "code",
        "outputId": "1d18eea9-14bf-4bee-c52b-462230d37157",
        "colab": {
          "base_uri": "https://localhost:8080/",
          "height": 264
        }
      },
      "source": [
        "# plot the loss\n",
        "plt.plot(r.history['loss'], label='loss')\n",
        "plt.plot(r.history['val_loss'], label='val_loss')\n",
        "plt.legend()\n",
        "plt.show()"
      ],
      "execution_count": 43,
      "outputs": [
        {
          "output_type": "display_data",
          "data": {
            "image/png": "[encoded data removed]",
            "text/plain": [
              "<Figure size 432x288 with 1 Axes>"
            ]
          },
          "metadata": {
            "tags": [],
            "needs_background": "light"
          }
        }
      ]
    },
    {
      "cell_type": "code",
      "metadata": {
        "id": "D9ZzosDMRjBU",
        "colab_type": "code",
        "outputId": "5c4659c6-4f72-4647-c4cb-5c32c025100e",
        "colab": {
          "base_uri": "https://localhost:8080/",
          "height": 264
        }
      },
      "source": [
        "# Plot accuracy per iteration\n",
        "plt.plot(r.history['accuracy'], label='accuracy')\n",
        "plt.plot(r.history['val_accuracy'], label='val_accuracy')\n",
        "plt.legend()\n",
        "plt.show()"
      ],
      "execution_count": 44,
      "outputs": [
        {
          "output_type": "display_data",
          "data": {
            "image/png": "[encoded data removed]",
            "text/plain": [
              "<Figure size 432x288 with 1 Axes>"
            ]
          },
          "metadata": {
            "tags": [],
            "needs_background": "light"
          }
        }
      ]
    }
  ]
}